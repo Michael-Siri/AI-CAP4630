{
  "nbformat": 4,
  "nbformat_minor": 0,
  "metadata": {
    "colab": {
      "name": "Homework1.ipynb",
      "provenance": [],
      "collapsed_sections": [],
      "include_colab_link": true
    },
    "kernelspec": {
      "name": "python3",
      "display_name": "Python 3"
    }
  },
  "cells": [
    {
      "cell_type": "markdown",
      "metadata": {
        "id": "view-in-github",
        "colab_type": "text"
      },
      "source": [
        "<a href=\"https://colab.research.google.com/github/Michael-Siri/AI-CAP4630/blob/master/HW_1.ipynb\" target=\"_parent\"><img src=\"https://colab.research.google.com/assets/colab-badge.svg\" alt=\"Open In Colab\"/></a>"
      ]
    },
    {
      "cell_type": "markdown",
      "metadata": {
        "id": "fI9svlqOdQV3",
        "colab_type": "text"
      },
      "source": [
        "# Homework 1 : Problem 2\n",
        "\n",
        "This code implements a function called mult_matrix which takes in a list of matrices in the form of numpy arrays and outputs their product.\n",
        "\n",
        "If a matrix in the list is not compatible with the previous matrix it will be skipped and proceed to the next index in the list if it exists.\n",
        "\n",
        "Two matrices of A and B are only compatible and able to multiply if the columns of matrix A is the same dimension as the rows of matrix B.\n",
        "\n",
        "\n",
        "\n"
      ]
    },
    {
      "cell_type": "markdown",
      "metadata": {
        "id": "BLiC13CEiSEF",
        "colab_type": "text"
      },
      "source": [
        "Product $C = $ Matrices $A*B$\n",
        "\n",
        "# *IF*\n",
        "\n",
        " $A_{columns} = B_{rows}$"
      ]
    },
    {
      "cell_type": "code",
      "metadata": {
        "id": "DQUB9TNBGE4p",
        "colab_type": "code",
        "colab": {}
      },
      "source": [
        "# Michael Siripongpibul CAP4630\n",
        "\n",
        "import numpy as np\n",
        "def mult_matrix(matrix):\n",
        "\n",
        "    #check for empty list\n",
        "    if len(matrix) == 0:\n",
        "      print(\"Matrix list is empty.\")\n",
        "      return matrix\n",
        "\n",
        "    length = len(matrix)-1\n",
        "    result = matrix[0]\n",
        "\n",
        "    #multiplys each index in matrix and prints out the incompatible indexes if it's not possible\n",
        "    for x in range(length):\n",
        "      try: \n",
        "        result = result.dot(matrix[x+1])\n",
        "      except:\n",
        "        print(\"Rows of matrix {} is not compatible with columns of matrix {}\".format(x+2, x+1))\n",
        "    return result \n"
      ],
      "execution_count": 0,
      "outputs": []
    },
    {
      "cell_type": "markdown",
      "metadata": {
        "id": "eWPLAXmeqw53",
        "colab_type": "text"
      },
      "source": [
        "# Test Cases"
      ]
    },
    {
      "cell_type": "code",
      "metadata": {
        "id": "uldB5M5dq0Vp",
        "colab_type": "code",
        "colab": {
          "base_uri": "https://localhost:8080/",
          "height": 425
        },
        "outputId": "d2b0c3c1-b1ba-496a-d284-a596e83592fe"
      },
      "source": [
        "\n",
        "#Empty List\n",
        "print(\"Empty case:\")\n",
        "Z = []\n",
        "result = mult_matrix(Z) \n",
        "print(result);\n",
        "print();\n",
        "\n",
        "\n",
        "#Working Test case: A list of 2 matrices \n",
        "print(\"Working test case:\")\n",
        "A = np.array([[2,3,5], [4,6,5], [4,1,4],[4,1,4]])\n",
        "B = np.array([[3,1],[7,8],[4,3]])\n",
        "C = [A,B]\n",
        "result = mult_matrix(C) \n",
        "print(result);\n",
        "print();\n",
        "\n",
        "#Failing Test case: A list of 2 incompatible matrices \n",
        "print(\"Failing test case:\")\n",
        "D = np.array([[2,3,5], [4,6,5], [4,1,4],[4,1,4]])\n",
        "E = np.array([[3,1],[7,8],[4,3],[4,1]])\n",
        "F = [D,E]\n",
        "result = mult_matrix(F) \n",
        "print(result);\n",
        "print();\n",
        "\n",
        "#Failing Test case: A list of 3 matrices where it skips an incompatible matrix in the list \n",
        "print(\"Failing test case with skip:\")\n",
        "G = np.array([[2,3,5], [4,6,5], [4,1,4],[4,1,4]])\n",
        "H = np.array([[3,1],[7,8],[4,3],[4,1]])\n",
        "I = np.array([[3,1],[7,8],[4,3]])\n",
        "J = [G,H,I]\n",
        "result = mult_matrix(J) \n",
        "print(result);\n",
        "print();\n",
        "\n",
        "\n"
      ],
      "execution_count": 2,
      "outputs": [
        {
          "output_type": "stream",
          "text": [
            "Empty case:\n",
            "Matrix list is empty.\n",
            "[]\n",
            "\n",
            "Working test case:\n",
            "[[47 41]\n",
            " [74 67]\n",
            " [35 24]\n",
            " [35 24]]\n",
            "\n",
            "Failing test case:\n",
            "Rows of matrix 2 is not compatible with columns of matrix 1\n",
            "[[2 3 5]\n",
            " [4 6 5]\n",
            " [4 1 4]\n",
            " [4 1 4]]\n",
            "\n",
            "Failing test case with skip:\n",
            "Rows of matrix 2 is not compatible with columns of matrix 1\n",
            "[[47 41]\n",
            " [74 67]\n",
            " [35 24]\n",
            " [35 24]]\n",
            "\n"
          ],
          "name": "stdout"
        }
      ]
    }
  ]
}