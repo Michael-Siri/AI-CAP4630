{
  "nbformat": 4,
  "nbformat_minor": 0,
  "metadata": {
    "colab": {
      "name": "Homework1.ipynb",
      "provenance": [],
      "collapsed_sections": [],
      "include_colab_link": true
    },
    "kernelspec": {
      "name": "python3",
      "display_name": "Python 3"
    }
  },
  "cells": [
    {
      "cell_type": "markdown",
      "metadata": {
        "id": "view-in-github",
        "colab_type": "text"
      },
      "source": [
        "<a href=\"https://colab.research.google.com/github/Michael-Siri/AI-CAP4630/blob/master/HW_1.ipynb\" target=\"_parent\"><img src=\"https://colab.research.google.com/assets/colab-badge.svg\" alt=\"Open In Colab\"/></a>"
      ]
    },
    {
      "cell_type": "code",
      "metadata": {
        "id": "DQUB9TNBGE4p",
        "colab_type": "code",
        "outputId": "492c57de-b036-47ca-9f98-2b8d11362be5",
        "colab": {
          "base_uri": "https://localhost:8080/",
          "height": 51
        }
      },
      "source": [
        "# Michael Siripongpibul CAP4630\n",
        "def mult_matrix(matrix):\n",
        "    RowA = len(matrix[0])\n",
        "    ColA = len(matrix[0][0])\n",
        "    RowB = len(matrix[1])\n",
        "    ColB = len(matrix[1][0])\n",
        "\n",
        "    if ColA != RowB:\n",
        "      print(\"Matrices are incompatible\")\n",
        "      return\n",
        "\n",
        "    for x in matrix[0]:\n",
        "      if len(x) != ColA:\n",
        "        print(\"First matrix is not a proper matrix\")\n",
        "        return\n",
        "\n",
        "    for x in matrix[1]:\n",
        "      if len(x) != ColB:\n",
        "        print(\"Second matrix is not a proper matrix\")\n",
        "        return\n",
        "\n",
        "    answer = [[0]*ColB for i in range(RowA)]\n",
        "    print(answer)\n",
        "    i = 0\n",
        "    j = 0 \n",
        "    while i < RowA:\n",
        "      while j < ColB:\n",
        "        answer[i][j] = multiplyColumn(RowB, ColB, matrix[1], matrix[0][i], j)\n",
        "        \n",
        "        j += 1\n",
        "      j = 0\n",
        "      i += 1\n",
        "    print(answer)\n",
        "  \n",
        "  \n",
        "def multiplyColumn(RowB, ColB, arrayB, arrayA, j):\n",
        "    total = 0\n",
        "    i = 0\n",
        "    for x in arrayB:\n",
        "      total = total + (arrayB[i][j]*arrayA[i])\n",
        "      i += 1;\n",
        "    return total;\n",
        "\n",
        "\n",
        "\n",
        "A = [[2,3,5], [4,6,5], [4,1,4],[4,1,4]]\n",
        "B = [[3,1],[7,8],[4,3]]\n",
        "C = [A,B]\n",
        "mult_matrix(C) \n",
        "\n",
        "\n"
      ],
      "execution_count": 96,
      "outputs": [
        {
          "output_type": "stream",
          "text": [
            "[[0, 0], [0, 0], [0, 0], [0, 0]]\n",
            "[[47, 41], [74, 67], [35, 24], [35, 24]]\n"
          ],
          "name": "stdout"
        }
      ]
    }
  ]
}