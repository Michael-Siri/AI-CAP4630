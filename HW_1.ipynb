{
  "nbformat": 4,
  "nbformat_minor": 0,
  "metadata": {
    "colab": {
      "name": "Homework1.ipynb",
      "provenance": [],
      "collapsed_sections": [],
      "include_colab_link": true
    },
    "kernelspec": {
      "name": "python3",
      "display_name": "Python 3"
    }
  },
  "cells": [
    {
      "cell_type": "markdown",
      "metadata": {
        "id": "view-in-github",
        "colab_type": "text"
      },
      "source": [
        "<a href=\"https://colab.research.google.com/github/Michael-Siri/AI-CAP4630/blob/master/HW_1.ipynb\" target=\"_parent\"><img src=\"https://colab.research.google.com/assets/colab-badge.svg\" alt=\"Open In Colab\"/></a>"
      ]
    },
    {
      "cell_type": "code",
      "metadata": {
        "id": "DQUB9TNBGE4p",
        "colab_type": "code",
        "outputId": "d2eeab7c-3535-49d8-c3a9-842f7a3ff11e",
        "colab": {
          "base_uri": "https://localhost:8080/",
          "height": 85
        }
      },
      "source": [
        "# Michael Siripongpibul CAP4630\n",
        "import numpy as np\n",
        "def mult_matrix(matrix):\n",
        "    length = len(matrix)-1\n",
        "    result = matrix[0]\n",
        "    for x in range(length):\n",
        "      try: \n",
        "        result = result.dot(matrix[x+1])\n",
        "      except:\n",
        "        print(\"Matrix {} is not compatible with the rest\".format(x+1))\n",
        "    return result \n",
        "\n",
        "\n",
        "\n",
        "\n",
        "\n",
        "A = np.array([[2,3,5], [4,6,5], [4,1,4],[4,1,4]])\n",
        "B = np.array([[3,1],[7,8],[4,3]])\n",
        "C = [A,B]\n",
        "result = mult_matrix(C) \n",
        "print(result);\n",
        "\n",
        "\n",
        "\n"
      ],
      "execution_count": 5,
      "outputs": [
        {
          "output_type": "stream",
          "text": [
            "[[47 41]\n",
            " [74 67]\n",
            " [35 24]\n",
            " [35 24]]\n"
          ],
          "name": "stdout"
        }
      ]
    }
  ]
}