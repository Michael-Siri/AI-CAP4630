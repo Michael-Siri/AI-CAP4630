{
  "nbformat": 4,
  "nbformat_minor": 0,
  "metadata": {
    "colab": {
      "name": "Homework4Question2",
      "provenance": [],
      "collapsed_sections": [],
      "authorship_tag": "ABX9TyOT1+0ug99G9pCR/srz880j",
      "include_colab_link": true
    },
    "kernelspec": {
      "name": "python3",
      "display_name": "Python 3"
    }
  },
  "cells": [
    {
      "cell_type": "markdown",
      "metadata": {
        "id": "view-in-github",
        "colab_type": "text"
      },
      "source": [
        "<a href=\"https://colab.research.google.com/github/Michael-Siri/AI-CAP4630/blob/master/HW4/Homework4Question2.ipynb\" target=\"_parent\"><img src=\"https://colab.research.google.com/assets/colab-badge.svg\" alt=\"Open In Colab\"/></a>"
      ]
    },
    {
      "cell_type": "markdown",
      "metadata": {
        "id": "ADF24pXX3ro5",
        "colab_type": "text"
      },
      "source": [
        "#Homework 4\n",
        "#Question 2\n",
        "\n",
        "The function maxpooling2d takes the 2 inputs of input_mat and s and returns output_mat.\n",
        "The variables input_mat and output_mat are square matrices and s is an integer.\n",
        "It should compute the maxpooling operation on input_mat using window of shape s times s.\n",
        "\n",
        "Maxpooling: For each region in the matrix targetted by the filter of size S x S, it chooses the max element for a new matrix.\n",
        "\n",
        "This function assumes s is the stride and the filter dimension of s times s."
      ]
    },
    {
      "cell_type": "code",
      "metadata": {
        "id": "nklETY_i7JIf",
        "colab_type": "code",
        "colab": {}
      },
      "source": [
        "import numpy as np\n",
        "\n",
        "def maxpooling2d(input_mat, s):\n",
        "\n",
        "    #Error Generation if size of Kernel is larger/returns empty array\n",
        "    #Prints an error instead of raise exception since we want to return an empty array\n",
        "  if(np.shape(input_mat) < (s,s)):\n",
        "    print(\"Error: Filter is larger than the Input Matrix\")\n",
        "    return []\n",
        "  \n",
        "    #Width and Length of outerloop\n",
        "  Width = np.shape(input_mat)[0]\n",
        "  Length = np.shape(input_mat)[1]\n",
        "\n",
        "    #Create output\n",
        "    #Size of length or width divided by the filter size\n",
        "  x = int(Width/s)\n",
        "  output_mat = np.zeros((x,x))\n",
        "\n",
        "    #Outerloop, increments by filtersize or strider\n",
        "  for n in range(0,Width,s):\n",
        "    for m in range(0,Length,s):\n",
        "        #InnerLoop\n",
        "      for i in range(s):\n",
        "        for j in range(s):\n",
        "          #Checks if the matrix is out of bounds, drops extra columns and rows\n",
        "          try :\n",
        "            output_mat[int(n/s)][int(m/s)] = max(output_mat[int(n/s)][int(m/s)], (input_mat[i+int(n)][j+int(m)]))\n",
        "          except:\n",
        "            pass\n",
        "          \n",
        "\n",
        "  return output_mat"
      ],
      "execution_count": 0,
      "outputs": []
    },
    {
      "cell_type": "markdown",
      "metadata": {
        "id": "ijCH2Cx0JsY2",
        "colab_type": "text"
      },
      "source": [
        "# Test Cases\n",
        "Extra test case where there are extra rows or columns"
      ]
    },
    {
      "cell_type": "code",
      "metadata": {
        "id": "M_9I1Fr3JrHM",
        "colab_type": "code",
        "outputId": "6c29d000-8fc5-49dc-f521-85844909c9e9",
        "colab": {
          "base_uri": "https://localhost:8080/",
          "height": 187
        }
      },
      "source": [
        "import skimage.measure\n",
        "\n",
        "input_mat = []\n",
        "expected_mat = []\n",
        "s = []\n",
        "input_mat.append(np.array([[1, 2, 1, 2],\n",
        "                      [2, 4, 2, 1],\n",
        "                      [1, 2, 4, 2],\n",
        "                      [2, 1, 2, 1]]))\n",
        "s.append(2)\n",
        "\n",
        "expected_mat.append(np.array([[4, 2],\n",
        "                                [2, 4]]))\n",
        "\n",
        "input_mat.append(np.array([[1, 2, 1, 2, 4, 5],\n",
        "                      [2, 4, 2, 1, 0, 3],\n",
        "                      [1, 2, 4, 2, 4, 5],\n",
        "                      [2, 1, 2, 1, 2, 1],\n",
        "                      [1, 1, 2, 3, 1, 2],\n",
        "                      [1, 1, 2, 3, 1, 2]]))\n",
        "s.append(2)\n",
        "\n",
        "expected_mat.append([[4, 2, 5],\n",
        " [2, 4, 5],\n",
        " [1, 3, 2]])\n",
        "\n",
        "\n",
        "#Extra row and column test case\n",
        "input_mat.append(np.array([[1, 2, 1, 2, 4],\n",
        "                      [2, 4, 2, 1 , 4],\n",
        "                      [1, 2, 4, 2, 4],\n",
        "                      [2, 1, 2, 1, 4],\n",
        "                      [2, 1, 2, 1, 4]]))\n",
        "s.append(2)\n",
        "\n",
        "expected_mat.append(np.array([[4, 2],\n",
        "                                [2, 4]]))\n",
        "\n",
        "\n",
        "\n",
        "\n",
        "for i in range(len(input_mat)):\n",
        "  # uncomment top line and comment second line to test code\n",
        "  output_mat = maxpooling2d(input_mat[i], s[i])\n",
        "  # output_mat = skimage.measure.block_reduce(input_mat[i], (s[i],s[i]), np.max)\n",
        "\n",
        "  print(output_mat)\n",
        "\n",
        "  if np.array_equal(output_mat, expected_mat[i]):\n",
        "    print(\"Correct output!\")\n",
        "  else:\n",
        "    print(\"Incorrect output!\")"
      ],
      "execution_count": 0,
      "outputs": [
        {
          "output_type": "stream",
          "text": [
            "[[4. 2.]\n",
            " [2. 4.]]\n",
            "Correct output!\n",
            "[[4. 2. 5.]\n",
            " [2. 4. 5.]\n",
            " [1. 3. 2.]]\n",
            "Correct output!\n",
            "[[4. 2.]\n",
            " [2. 4.]]\n",
            "Correct output!\n"
          ],
          "name": "stdout"
        }
      ]
    }
  ]
}