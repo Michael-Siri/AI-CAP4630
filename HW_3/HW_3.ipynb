{
  "nbformat": 4,
  "nbformat_minor": 0,
  "metadata": {
    "colab": {
      "name": "HW_3.ipynb",
      "provenance": [],
      "collapsed_sections": [],
      "authorship_tag": "ABX9TyP2Cj0UIq8PhWYIOzrmNirN",
      "include_colab_link": true
    },
    "kernelspec": {
      "name": "python3",
      "display_name": "Python 3"
    }
  },
  "cells": [
    {
      "cell_type": "markdown",
      "metadata": {
        "id": "view-in-github",
        "colab_type": "text"
      },
      "source": [
        "<a href=\"https://colab.research.google.com/github/Michael-Siri/AI-CAP4630/blob/master/HW_3/HW_3.ipynb\" target=\"_parent\"><img src=\"https://colab.research.google.com/assets/colab-badge.svg\" alt=\"Open In Colab\"/></a>"
      ]
    },
    {
      "cell_type": "markdown",
      "metadata": {
        "id": "2LI7_tez-nHG",
        "colab_type": "text"
      },
      "source": [
        "Michael Siripongpibul \n",
        "CAP4630"
      ]
    },
    {
      "cell_type": "code",
      "metadata": {
        "id": "VwGpiCeL9Chi",
        "colab_type": "code",
        "colab": {}
      },
      "source": [
        "import random\n",
        "import numpy as np\n",
        "import matplotlib as mpl\n",
        "import matplotlib.pyplot as plt\n",
        "from mpl_toolkits import mplot3d\n",
        "\n",
        "%tensorflow_version 2.x\n",
        "from tensorflow.keras import models\n",
        "from tensorflow.keras import layers\n",
        "import tensorflow as tf\n",
        "\n"
      ],
      "execution_count": 0,
      "outputs": []
    },
    {
      "cell_type": "markdown",
      "metadata": {
        "id": "0J6HB8qLjxwC",
        "colab_type": "text"
      },
      "source": [
        "# Question 1 Generate and Display Random Data\n",
        "\n",
        " The get_random_data function takes in 5 parameters of w,b,mu,sigma, and m. Where sigma is the standard deviation and mu is the mean; The function returns array data of shape (m, 2) and the array labels of shape (m, 1). "
      ]
    },
    {
      "cell_type": "code",
      "metadata": {
        "id": "-6JiKU-J-6iL",
        "colab_type": "code",
        "colab": {}
      },
      "source": [
        "def get_random_data(w,b,mu,sigma,m):\n",
        "  # np.random.seed(1)\n",
        "  labels = []\n",
        "  data = []\n",
        "  \n",
        "  for x in range(0, m):\n",
        "    labels.append(np.random.choice([0,1]))\n",
        "  for x in range(0,m):\n",
        "    c = labels[x]\n",
        "    n = np.random.default_rng().normal(mu, sigma, 1)\n",
        "    x_1 = random.uniform(0,1)\n",
        "    filler = w * x_1 + b + (-1)**c * n\n",
        "    x_2 = filler[0]\n",
        "    data.append((x_1,x_2))\n",
        "  return data, labels\n",
        "\n",
        "\n"
      ],
      "execution_count": 0,
      "outputs": []
    },
    {
      "cell_type": "code",
      "metadata": {
        "id": "HFi5kGAoNi1T",
        "colab_type": "code",
        "outputId": "2392c9a0-35af-4584-a5fc-9b36f3a51fac",
        "colab": {
          "base_uri": "https://localhost:8080/",
          "height": 265
        }
      },
      "source": [
        "def display_random_data(data, labels, x_new, y_new, old_x, old_y, x1_w, x2_w):\n",
        "  fig2 = plt.figure()\n",
        "  ax = plt #.axes(projection='3d')\n",
        "  xs = [x[0] for x in data]\n",
        "  ys = [x[1] for x in data]\n",
        "  # ax.scatter3D(xs, ys)\n",
        "  for x in range(0,len(labels)):\n",
        "    if labels[x] == 1:\n",
        "      ax.scatter(xs[x],ys[x], color = 'r')\n",
        "    else:\n",
        "      ax.scatter(xs[x],ys[x], color = 'b')\n",
        "  ax.plot(x_new, y_new, color='green', label =\"Predicted\")\n",
        "  ax.plot(old_x, old_y, color='yellow', label =\"Actual\")\n",
        "  x_h = np.linspace(0,1,3)\n",
        "  plt.plot(x_h, x_h*x1_w + x2_w, color = 'black')\n",
        "  ax.legend()\n",
        "  ax.plot()\n",
        "\n",
        "\n",
        "data, labels = get_random_data(3,3,1,1,1000)\n",
        "display_random_data(data, labels, 0, 0, 0, 0, 0 , 0)"
      ],
      "execution_count": 0,
      "outputs": [
        {
          "output_type": "display_data",
          "data": {
            "image/png": "[encoded data removed]",
            "text/plain": [
              "<Figure size 432x288 with 1 Axes>"
            ]
          },
          "metadata": {
            "tags": []
          }
        }
      ]
    },
    {
      "cell_type": "markdown",
      "metadata": {
        "id": "h-FSfv2PkIUY",
        "colab_type": "text"
      },
      "source": [
        "# Question 2 Logistic Regression with Keras"
      ]
    },
    {
      "cell_type": "code",
      "metadata": {
        "id": "daUZXxCmkO22",
        "colab_type": "code",
        "outputId": "2c91cdd0-14a8-48ca-ca58-d5fef1105532",
        "colab": {
          "base_uri": "https://localhost:8080/",
          "height": 1000
        }
      },
      "source": [
        "#Splitting the data into a training set and a validation set\n",
        "# training set\n",
        "train_data = data[:800]\n",
        "train_labels = labels[:800]\n",
        "train_data = np.array(train_data)\n",
        "train_labels = np.array(train_labels)\n",
        "\n",
        "# test set\n",
        "test_data = data[800:]\n",
        "test_labels = labels[800:]\n",
        "test_data = np.array(test_data)\n",
        "test_labels = np.array(test_labels)\n",
        "\n",
        "#Creating the model\n",
        "network = models.Sequential()\n",
        "network.add(layers.Dense(1, activation = 'sigmoid', input_shape=(2,)))\n",
        "\n",
        "#Training\n",
        "network.compile(optimizer=tf.keras.optimizers.RMSprop(lr=0.01), loss='binary_crossentropy', metrics=['accuracy'])\n",
        "network.fit(train_data, train_labels, epochs=100, validation_data=(test_data, test_labels))"
      ],
      "execution_count": 0,
      "outputs": [
        {
          "output_type": "stream",
          "text": [
            "Epoch 1/100\n",
            "25/25 [==============================] - 0s 8ms/step - loss: 2.9488 - accuracy: 0.4900 - val_loss: 2.1914 - val_accuracy: 0.5300\n",
            "Epoch 2/100\n",
            "25/25 [==============================] - 0s 3ms/step - loss: 2.0781 - accuracy: 0.4888 - val_loss: 1.5146 - val_accuracy: 0.5200\n",
            "Epoch 3/100\n",
            "25/25 [==============================] - 0s 3ms/step - loss: 1.3846 - accuracy: 0.4712 - val_loss: 1.0118 - val_accuracy: 0.4800\n",
            "Epoch 4/100\n",
            "25/25 [==============================] - 0s 3ms/step - loss: 0.9422 - accuracy: 0.3262 - val_loss: 0.8150 - val_accuracy: 0.2450\n",
            "Epoch 5/100\n",
            "25/25 [==============================] - 0s 3ms/step - loss: 0.7912 - accuracy: 0.3300 - val_loss: 0.7916 - val_accuracy: 0.4650\n",
            "Epoch 6/100\n",
            "25/25 [==============================] - 0s 3ms/step - loss: 0.7516 - accuracy: 0.5075 - val_loss: 0.7606 - val_accuracy: 0.4700\n",
            "Epoch 7/100\n",
            "25/25 [==============================] - 0s 3ms/step - loss: 0.7177 - accuracy: 0.5088 - val_loss: 0.7187 - val_accuracy: 0.4700\n",
            "Epoch 8/100\n",
            "25/25 [==============================] - 0s 3ms/step - loss: 0.6921 - accuracy: 0.5088 - val_loss: 0.6941 - val_accuracy: 0.4700\n",
            "Epoch 9/100\n",
            "25/25 [==============================] - 0s 3ms/step - loss: 0.6666 - accuracy: 0.5100 - val_loss: 0.6718 - val_accuracy: 0.4900\n",
            "Epoch 10/100\n",
            "25/25 [==============================] - 0s 3ms/step - loss: 0.6430 - accuracy: 0.5512 - val_loss: 0.6524 - val_accuracy: 0.5150\n",
            "Epoch 11/100\n",
            "25/25 [==============================] - 0s 3ms/step - loss: 0.6192 - accuracy: 0.6125 - val_loss: 0.6225 - val_accuracy: 0.6450\n",
            "Epoch 12/100\n",
            "25/25 [==============================] - 0s 3ms/step - loss: 0.5983 - accuracy: 0.6862 - val_loss: 0.6058 - val_accuracy: 0.6750\n",
            "Epoch 13/100\n",
            "25/25 [==============================] - 0s 3ms/step - loss: 0.5821 - accuracy: 0.7225 - val_loss: 0.5891 - val_accuracy: 0.7050\n",
            "Epoch 14/100\n",
            "25/25 [==============================] - 0s 3ms/step - loss: 0.5663 - accuracy: 0.7538 - val_loss: 0.5730 - val_accuracy: 0.7300\n",
            "Epoch 15/100\n",
            "25/25 [==============================] - 0s 3ms/step - loss: 0.5506 - accuracy: 0.7738 - val_loss: 0.5553 - val_accuracy: 0.7500\n",
            "Epoch 16/100\n",
            "25/25 [==============================] - 0s 3ms/step - loss: 0.5348 - accuracy: 0.7912 - val_loss: 0.5352 - val_accuracy: 0.8100\n",
            "Epoch 17/100\n",
            "25/25 [==============================] - 0s 3ms/step - loss: 0.5216 - accuracy: 0.7975 - val_loss: 0.5239 - val_accuracy: 0.8050\n",
            "Epoch 18/100\n",
            "25/25 [==============================] - 0s 3ms/step - loss: 0.5108 - accuracy: 0.8250 - val_loss: 0.5176 - val_accuracy: 0.7750\n",
            "Epoch 19/100\n",
            "25/25 [==============================] - 0s 3ms/step - loss: 0.5001 - accuracy: 0.8275 - val_loss: 0.5071 - val_accuracy: 0.7950\n",
            "Epoch 20/100\n",
            "25/25 [==============================] - 0s 3ms/step - loss: 0.4906 - accuracy: 0.8275 - val_loss: 0.4944 - val_accuracy: 0.8100\n",
            "Epoch 21/100\n",
            "25/25 [==============================] - 0s 3ms/step - loss: 0.4812 - accuracy: 0.8288 - val_loss: 0.4822 - val_accuracy: 0.8350\n",
            "Epoch 22/100\n",
            "25/25 [==============================] - 0s 3ms/step - loss: 0.4738 - accuracy: 0.8325 - val_loss: 0.4817 - val_accuracy: 0.8050\n",
            "Epoch 23/100\n",
            "25/25 [==============================] - 0s 3ms/step - loss: 0.4662 - accuracy: 0.8350 - val_loss: 0.4711 - val_accuracy: 0.8100\n",
            "Epoch 24/100\n",
            "25/25 [==============================] - 0s 3ms/step - loss: 0.4585 - accuracy: 0.8450 - val_loss: 0.4660 - val_accuracy: 0.8050\n",
            "Epoch 25/100\n",
            "25/25 [==============================] - 0s 3ms/step - loss: 0.4522 - accuracy: 0.8413 - val_loss: 0.4571 - val_accuracy: 0.8100\n",
            "Epoch 26/100\n",
            "25/25 [==============================] - 0s 3ms/step - loss: 0.4451 - accuracy: 0.8450 - val_loss: 0.4482 - val_accuracy: 0.8400\n",
            "Epoch 27/100\n",
            "25/25 [==============================] - 0s 3ms/step - loss: 0.4412 - accuracy: 0.8500 - val_loss: 0.4478 - val_accuracy: 0.8200\n",
            "Epoch 28/100\n",
            "25/25 [==============================] - 0s 3ms/step - loss: 0.4363 - accuracy: 0.8462 - val_loss: 0.4394 - val_accuracy: 0.8400\n",
            "Epoch 29/100\n",
            "25/25 [==============================] - 0s 3ms/step - loss: 0.4316 - accuracy: 0.8425 - val_loss: 0.4450 - val_accuracy: 0.8000\n",
            "Epoch 30/100\n",
            "25/25 [==============================] - 0s 3ms/step - loss: 0.4283 - accuracy: 0.8363 - val_loss: 0.4377 - val_accuracy: 0.8200\n",
            "Epoch 31/100\n",
            "25/25 [==============================] - 0s 3ms/step - loss: 0.4233 - accuracy: 0.8413 - val_loss: 0.4324 - val_accuracy: 0.8300\n",
            "Epoch 32/100\n",
            "25/25 [==============================] - 0s 3ms/step - loss: 0.4213 - accuracy: 0.8400 - val_loss: 0.4309 - val_accuracy: 0.8200\n",
            "Epoch 33/100\n",
            "25/25 [==============================] - 0s 3ms/step - loss: 0.4179 - accuracy: 0.8438 - val_loss: 0.4261 - val_accuracy: 0.8150\n",
            "Epoch 34/100\n",
            "25/25 [==============================] - 0s 3ms/step - loss: 0.4154 - accuracy: 0.8475 - val_loss: 0.4235 - val_accuracy: 0.8200\n",
            "Epoch 35/100\n",
            "25/25 [==============================] - 0s 3ms/step - loss: 0.4125 - accuracy: 0.8438 - val_loss: 0.4195 - val_accuracy: 0.8200\n",
            "Epoch 36/100\n",
            "25/25 [==============================] - 0s 3ms/step - loss: 0.4100 - accuracy: 0.8375 - val_loss: 0.4140 - val_accuracy: 0.8400\n",
            "Epoch 37/100\n",
            "25/25 [==============================] - 0s 3ms/step - loss: 0.4069 - accuracy: 0.8537 - val_loss: 0.4164 - val_accuracy: 0.8250\n",
            "Epoch 38/100\n",
            "25/25 [==============================] - 0s 3ms/step - loss: 0.4046 - accuracy: 0.8512 - val_loss: 0.4101 - val_accuracy: 0.8400\n",
            "Epoch 39/100\n",
            "25/25 [==============================] - 0s 3ms/step - loss: 0.4031 - accuracy: 0.8475 - val_loss: 0.4149 - val_accuracy: 0.8300\n",
            "Epoch 40/100\n",
            "25/25 [==============================] - 0s 3ms/step - loss: 0.4006 - accuracy: 0.8425 - val_loss: 0.4097 - val_accuracy: 0.8200\n",
            "Epoch 41/100\n",
            "25/25 [==============================] - 0s 3ms/step - loss: 0.3997 - accuracy: 0.8537 - val_loss: 0.4075 - val_accuracy: 0.8200\n",
            "Epoch 42/100\n",
            "25/25 [==============================] - 0s 3ms/step - loss: 0.3979 - accuracy: 0.8512 - val_loss: 0.4042 - val_accuracy: 0.8450\n",
            "Epoch 43/100\n",
            "25/25 [==============================] - 0s 3ms/step - loss: 0.3965 - accuracy: 0.8462 - val_loss: 0.4064 - val_accuracy: 0.8200\n",
            "Epoch 44/100\n",
            "25/25 [==============================] - 0s 3ms/step - loss: 0.3953 - accuracy: 0.8462 - val_loss: 0.4059 - val_accuracy: 0.8200\n",
            "Epoch 45/100\n",
            "25/25 [==============================] - 0s 3ms/step - loss: 0.3935 - accuracy: 0.8462 - val_loss: 0.4053 - val_accuracy: 0.8300\n",
            "Epoch 46/100\n",
            "25/25 [==============================] - 0s 3ms/step - loss: 0.3918 - accuracy: 0.8462 - val_loss: 0.4005 - val_accuracy: 0.8250\n",
            "Epoch 47/100\n",
            "25/25 [==============================] - 0s 3ms/step - loss: 0.3906 - accuracy: 0.8462 - val_loss: 0.4005 - val_accuracy: 0.8200\n",
            "Epoch 48/100\n",
            "25/25 [==============================] - 0s 3ms/step - loss: 0.3900 - accuracy: 0.8425 - val_loss: 0.3990 - val_accuracy: 0.8200\n",
            "Epoch 49/100\n",
            "25/25 [==============================] - 0s 3ms/step - loss: 0.3882 - accuracy: 0.8450 - val_loss: 0.3959 - val_accuracy: 0.8450\n",
            "Epoch 50/100\n",
            "25/25 [==============================] - 0s 3ms/step - loss: 0.3871 - accuracy: 0.8487 - val_loss: 0.3934 - val_accuracy: 0.8450\n",
            "Epoch 51/100\n",
            "25/25 [==============================] - 0s 3ms/step - loss: 0.3866 - accuracy: 0.8475 - val_loss: 0.3931 - val_accuracy: 0.8450\n",
            "Epoch 52/100\n",
            "25/25 [==============================] - 0s 3ms/step - loss: 0.3857 - accuracy: 0.8475 - val_loss: 0.3931 - val_accuracy: 0.8450\n",
            "Epoch 53/100\n",
            "25/25 [==============================] - 0s 3ms/step - loss: 0.3851 - accuracy: 0.8450 - val_loss: 0.3947 - val_accuracy: 0.8250\n",
            "Epoch 54/100\n",
            "25/25 [==============================] - 0s 3ms/step - loss: 0.3846 - accuracy: 0.8400 - val_loss: 0.3942 - val_accuracy: 0.8200\n",
            "Epoch 55/100\n",
            "25/25 [==============================] - 0s 3ms/step - loss: 0.3834 - accuracy: 0.8425 - val_loss: 0.3943 - val_accuracy: 0.8200\n",
            "Epoch 56/100\n",
            "25/25 [==============================] - 0s 3ms/step - loss: 0.3837 - accuracy: 0.8500 - val_loss: 0.3930 - val_accuracy: 0.8250\n",
            "Epoch 57/100\n",
            "25/25 [==============================] - 0s 3ms/step - loss: 0.3819 - accuracy: 0.8512 - val_loss: 0.3948 - val_accuracy: 0.8200\n",
            "Epoch 58/100\n",
            "25/25 [==============================] - 0s 3ms/step - loss: 0.3816 - accuracy: 0.8487 - val_loss: 0.3901 - val_accuracy: 0.8400\n",
            "Epoch 59/100\n",
            "25/25 [==============================] - 0s 3ms/step - loss: 0.3814 - accuracy: 0.8487 - val_loss: 0.3900 - val_accuracy: 0.8300\n",
            "Epoch 60/100\n",
            "25/25 [==============================] - 0s 3ms/step - loss: 0.3805 - accuracy: 0.8462 - val_loss: 0.3903 - val_accuracy: 0.8300\n",
            "Epoch 61/100\n",
            "25/25 [==============================] - 0s 3ms/step - loss: 0.3793 - accuracy: 0.8438 - val_loss: 0.3945 - val_accuracy: 0.8250\n",
            "Epoch 62/100\n",
            "25/25 [==============================] - 0s 3ms/step - loss: 0.3786 - accuracy: 0.8512 - val_loss: 0.3849 - val_accuracy: 0.8350\n",
            "Epoch 63/100\n",
            "25/25 [==============================] - 0s 3ms/step - loss: 0.3774 - accuracy: 0.8475 - val_loss: 0.3976 - val_accuracy: 0.8350\n",
            "Epoch 64/100\n",
            "25/25 [==============================] - 0s 3ms/step - loss: 0.3786 - accuracy: 0.8487 - val_loss: 0.3866 - val_accuracy: 0.8450\n",
            "Epoch 65/100\n",
            "25/25 [==============================] - 0s 3ms/step - loss: 0.3779 - accuracy: 0.8462 - val_loss: 0.3881 - val_accuracy: 0.8300\n",
            "Epoch 66/100\n",
            "25/25 [==============================] - 0s 3ms/step - loss: 0.3782 - accuracy: 0.8438 - val_loss: 0.3858 - val_accuracy: 0.8450\n",
            "Epoch 67/100\n",
            "25/25 [==============================] - 0s 3ms/step - loss: 0.3777 - accuracy: 0.8525 - val_loss: 0.3876 - val_accuracy: 0.8250\n",
            "Epoch 68/100\n",
            "25/25 [==============================] - 0s 3ms/step - loss: 0.3772 - accuracy: 0.8450 - val_loss: 0.3849 - val_accuracy: 0.8450\n",
            "Epoch 69/100\n",
            "25/25 [==============================] - 0s 3ms/step - loss: 0.3756 - accuracy: 0.8413 - val_loss: 0.3825 - val_accuracy: 0.8450\n",
            "Epoch 70/100\n",
            "25/25 [==============================] - 0s 3ms/step - loss: 0.3761 - accuracy: 0.8438 - val_loss: 0.3855 - val_accuracy: 0.8350\n",
            "Epoch 71/100\n",
            "25/25 [==============================] - 0s 3ms/step - loss: 0.3756 - accuracy: 0.8475 - val_loss: 0.3824 - val_accuracy: 0.8400\n",
            "Epoch 72/100\n",
            "25/25 [==============================] - 0s 3ms/step - loss: 0.3762 - accuracy: 0.8438 - val_loss: 0.3833 - val_accuracy: 0.8450\n",
            "Epoch 73/100\n",
            "25/25 [==============================] - 0s 3ms/step - loss: 0.3759 - accuracy: 0.8475 - val_loss: 0.3823 - val_accuracy: 0.8450\n",
            "Epoch 74/100\n",
            "25/25 [==============================] - 0s 3ms/step - loss: 0.3747 - accuracy: 0.8425 - val_loss: 0.3818 - val_accuracy: 0.8400\n",
            "Epoch 75/100\n",
            "25/25 [==============================] - 0s 3ms/step - loss: 0.3747 - accuracy: 0.8425 - val_loss: 0.3851 - val_accuracy: 0.8300\n",
            "Epoch 76/100\n",
            "25/25 [==============================] - 0s 3ms/step - loss: 0.3746 - accuracy: 0.8450 - val_loss: 0.3831 - val_accuracy: 0.8450\n",
            "Epoch 77/100\n",
            "25/25 [==============================] - 0s 3ms/step - loss: 0.3737 - accuracy: 0.8462 - val_loss: 0.3864 - val_accuracy: 0.8200\n",
            "Epoch 78/100\n",
            "25/25 [==============================] - 0s 3ms/step - loss: 0.3743 - accuracy: 0.8425 - val_loss: 0.3860 - val_accuracy: 0.8200\n",
            "Epoch 79/100\n",
            "25/25 [==============================] - 0s 3ms/step - loss: 0.3732 - accuracy: 0.8425 - val_loss: 0.3837 - val_accuracy: 0.8300\n",
            "Epoch 80/100\n",
            "25/25 [==============================] - 0s 3ms/step - loss: 0.3731 - accuracy: 0.8462 - val_loss: 0.3837 - val_accuracy: 0.8300\n",
            "Epoch 81/100\n",
            "25/25 [==============================] - 0s 3ms/step - loss: 0.3732 - accuracy: 0.8512 - val_loss: 0.3795 - val_accuracy: 0.8450\n",
            "Epoch 82/100\n",
            "25/25 [==============================] - 0s 3ms/step - loss: 0.3709 - accuracy: 0.8475 - val_loss: 0.3923 - val_accuracy: 0.8300\n",
            "Epoch 83/100\n",
            "25/25 [==============================] - 0s 3ms/step - loss: 0.3735 - accuracy: 0.8500 - val_loss: 0.3831 - val_accuracy: 0.8300\n",
            "Epoch 84/100\n",
            "25/25 [==============================] - 0s 3ms/step - loss: 0.3727 - accuracy: 0.8450 - val_loss: 0.3825 - val_accuracy: 0.8400\n",
            "Epoch 85/100\n",
            "25/25 [==============================] - 0s 3ms/step - loss: 0.3731 - accuracy: 0.8438 - val_loss: 0.3794 - val_accuracy: 0.8400\n",
            "Epoch 86/100\n",
            "25/25 [==============================] - 0s 3ms/step - loss: 0.3723 - accuracy: 0.8438 - val_loss: 0.3832 - val_accuracy: 0.8300\n",
            "Epoch 87/100\n",
            "25/25 [==============================] - 0s 3ms/step - loss: 0.3720 - accuracy: 0.8475 - val_loss: 0.3825 - val_accuracy: 0.8300\n",
            "Epoch 88/100\n",
            "25/25 [==============================] - 0s 3ms/step - loss: 0.3723 - accuracy: 0.8450 - val_loss: 0.3815 - val_accuracy: 0.8450\n",
            "Epoch 89/100\n",
            "25/25 [==============================] - 0s 3ms/step - loss: 0.3721 - accuracy: 0.8450 - val_loss: 0.3784 - val_accuracy: 0.8450\n",
            "Epoch 90/100\n",
            "25/25 [==============================] - 0s 3ms/step - loss: 0.3721 - accuracy: 0.8450 - val_loss: 0.3806 - val_accuracy: 0.8450\n",
            "Epoch 91/100\n",
            "25/25 [==============================] - 0s 3ms/step - loss: 0.3700 - accuracy: 0.8450 - val_loss: 0.3896 - val_accuracy: 0.8350\n",
            "Epoch 92/100\n",
            "25/25 [==============================] - 0s 3ms/step - loss: 0.3731 - accuracy: 0.8525 - val_loss: 0.3809 - val_accuracy: 0.8450\n",
            "Epoch 93/100\n",
            "25/25 [==============================] - 0s 3ms/step - loss: 0.3713 - accuracy: 0.8462 - val_loss: 0.3848 - val_accuracy: 0.8200\n",
            "Epoch 94/100\n",
            "25/25 [==============================] - 0s 3ms/step - loss: 0.3703 - accuracy: 0.8462 - val_loss: 0.3776 - val_accuracy: 0.8450\n",
            "Epoch 95/100\n",
            "25/25 [==============================] - 0s 3ms/step - loss: 0.3714 - accuracy: 0.8438 - val_loss: 0.3810 - val_accuracy: 0.8450\n",
            "Epoch 96/100\n",
            "25/25 [==============================] - 0s 3ms/step - loss: 0.3713 - accuracy: 0.8475 - val_loss: 0.3795 - val_accuracy: 0.8450\n",
            "Epoch 97/100\n",
            "25/25 [==============================] - 0s 3ms/step - loss: 0.3708 - accuracy: 0.8475 - val_loss: 0.3819 - val_accuracy: 0.8300\n",
            "Epoch 98/100\n",
            "25/25 [==============================] - 0s 3ms/step - loss: 0.3710 - accuracy: 0.8512 - val_loss: 0.3772 - val_accuracy: 0.8450\n",
            "Epoch 99/100\n",
            "25/25 [==============================] - 0s 3ms/step - loss: 0.3707 - accuracy: 0.8438 - val_loss: 0.3818 - val_accuracy: 0.8300\n",
            "Epoch 100/100\n",
            "25/25 [==============================] - 0s 3ms/step - loss: 0.3709 - accuracy: 0.8450 - val_loss: 0.3790 - val_accuracy: 0.8450\n"
          ],
          "name": "stdout"
        },
        {
          "output_type": "execute_result",
          "data": {
            "text/plain": [
              "<tensorflow.python.keras.callbacks.History at 0x7f653373c5c0>"
            ]
          },
          "metadata": {
            "tags": []
          },
          "execution_count": 4
        }
      ]
    },
    {
      "cell_type": "markdown",
      "metadata": {
        "id": "sKtt9qjwnB9_",
        "colab_type": "text"
      },
      "source": [
        "# Model Accuracy"
      ]
    },
    {
      "cell_type": "code",
      "metadata": {
        "id": "grezwQ4u0QJH",
        "colab_type": "code",
        "outputId": "4c2cdc86-aa9e-4b8d-c765-9d2bd34d3877",
        "colab": {
          "base_uri": "https://localhost:8080/",
          "height": 34
        }
      },
      "source": [
        "test_loss, test_acc = network.evaluate(test_data, test_labels)\n"
      ],
      "execution_count": 0,
      "outputs": [
        {
          "output_type": "stream",
          "text": [
            "7/7 [==============================] - 0s 2ms/step - loss: 0.3790 - accuracy: 0.8450\n"
          ],
          "name": "stdout"
        }
      ]
    },
    {
      "cell_type": "code",
      "metadata": {
        "id": "6GYQrXAl0Flo",
        "colab_type": "code",
        "outputId": "43f1c821-2b7e-46c8-81ec-1b0783bcf421",
        "colab": {
          "base_uri": "https://localhost:8080/",
          "height": 34
        }
      },
      "source": [
        "\n",
        "test_acc\n"
      ],
      "execution_count": 0,
      "outputs": [
        {
          "output_type": "execute_result",
          "data": {
            "text/plain": [
              "0.8450000286102295"
            ]
          },
          "metadata": {
            "tags": []
          },
          "execution_count": 6
        }
      ]
    },
    {
      "cell_type": "code",
      "metadata": {
        "id": "p3h0F1fe0J5r",
        "colab_type": "code",
        "outputId": "e81273b6-6ca6-480c-b84a-15325fa2c444",
        "colab": {
          "base_uri": "https://localhost:8080/",
          "height": 34
        }
      },
      "source": [
        "test_loss\n"
      ],
      "execution_count": 0,
      "outputs": [
        {
          "output_type": "execute_result",
          "data": {
            "text/plain": [
              "0.3789833188056946"
            ]
          },
          "metadata": {
            "tags": []
          },
          "execution_count": 7
        }
      ]
    },
    {
      "cell_type": "markdown",
      "metadata": {
        "id": "faA42I8pnMjn",
        "colab_type": "text"
      },
      "source": [
        "Showing predicted Line and the actual line\n",
        "\n",
        "Actual line:\n",
        "\n",
        "$Y = w*x+b$\n",
        "\n",
        "Predicted Line:\n",
        "\n",
        "$Y = -\\frac{b/w2}{b/w1} -\\frac{b}{w2}$"
      ]
    },
    {
      "cell_type": "code",
      "metadata": {
        "id": "snDlSQM00Moi",
        "colab_type": "code",
        "outputId": "2c2bb28c-eca0-4c74-e481-fe2fc74f4d90",
        "colab": {
          "base_uri": "https://localhost:8080/",
          "height": 265
        }
      },
      "source": [
        "#obtain the separating line determined by the model by extracting the weights from the dense layer using the function get_weights\n",
        "x = np.linspace(0, 1, 100)\n",
        "weights = network.layers[0].get_weights()\n",
        "#bias\n",
        "b = weights[1][0]\n",
        "#weights\n",
        "x1_w = weights[0][0][0]\n",
        "x2_w = weights[0][1][0]\n",
        "#calculations\n",
        "y = (-b/x2_w) + ((-b/x2_w)/(b/x1_w)) * x\n",
        "old_x = np.array(range(0, 2))\n",
        "old_y = 3 * old_x + 3\n",
        "\n",
        "display_random_data(data, labels, x,y, old_x, old_y,0 ,0)\n",
        "\n"
      ],
      "execution_count": 0,
      "outputs": [
        {
          "output_type": "display_data",
          "data": {
            "image/png": "[encoded data removed]",
            "text/plain": [
              "<Figure size 432x288 with 1 Axes>"
            ]
          },
          "metadata": {
            "tags": []
          }
        }
      ]
    },
    {
      "cell_type": "markdown",
      "metadata": {
        "id": "WLHqEn2czacl",
        "colab_type": "text"
      },
      "source": [
        "The predicted line is a bit hard to see behind the yellow line"
      ]
    },
    {
      "cell_type": "markdown",
      "metadata": {
        "id": "TRy-KDl61Oeh",
        "colab_type": "text"
      },
      "source": [
        "# HeatMap Visualization of model"
      ]
    },
    {
      "cell_type": "code",
      "metadata": {
        "id": "VOURhwTW0SrW",
        "colab_type": "code",
        "outputId": "a8576637-11b9-41a1-d101-f2cbe221c4a4",
        "colab": {
          "base_uri": "https://localhost:8080/",
          "height": 301
        }
      },
      "source": [
        "x_h = np.linspace( 0, 1, 100)\n",
        "y_h = np.linspace( 1, 6, 100)\n",
        "X,Y = np.meshgrid(x_h,y_h)\n",
        "# Y = np.meshgrid(y_h)\n",
        "z = network.predict(np.c_[X.flatten(),Y.flatten()])\n",
        "z = z.reshape((100,100))\n",
        "plt.contourf(X,Y,z,50)\n",
        "plt.colorbar()\n",
        "plt.xlabel('X_1')\n",
        "plt.ylabel('X_2')"
      ],
      "execution_count": 0,
      "outputs": [
        {
          "output_type": "execute_result",
          "data": {
            "text/plain": [
              "Text(0, 0.5, 'X_2')"
            ]
          },
          "metadata": {
            "tags": []
          },
          "execution_count": 9
        },
        {
          "output_type": "display_data",
          "data": {
            "image/png": "[encoded data removed]",
            "text/plain": [
              "<Figure size 432x288 with 2 Axes>"
            ]
          },
          "metadata": {
            "tags": []
          }
        }
      ]
    },
    {
      "cell_type": "markdown",
      "metadata": {
        "id": "JlvpeCctIKz6",
        "colab_type": "text"
      },
      "source": [
        "# Question 3 Using numpy to implement logistic regression"
      ]
    },
    {
      "cell_type": "code",
      "metadata": {
        "id": "bq-TpKdp6toG",
        "colab_type": "code",
        "colab": {}
      },
      "source": [
        "#Source https://github.com/schneider128k/machine_learning_course/blob/master/linear_regression_gradient_descent.ipynb\n",
        "#Source https://github.com/schneider128k/machine_learning_course/blob/master/slides/logistic_regression.pdf"
      ],
      "execution_count": 0,
      "outputs": []
    },
    {
      "cell_type": "markdown",
      "metadata": {
        "id": "Jc0v22nVXRgK",
        "colab_type": "text"
      },
      "source": [
        "Sigmoid function: \n",
        "\n",
        "$=\\frac{1}{1+e^-z}$\n",
        "\n",
        "Binary cross-entropy loss function:\n",
        "\n",
        "$=-y log a - (1-y)log(1-a)$\n",
        "\n",
        "\n"
      ]
    },
    {
      "cell_type": "code",
      "metadata": {
        "id": "cdokT5NnUQRo",
        "colab_type": "code",
        "colab": {}
      },
      "source": [
        "def sigmoid(x):\n",
        "  res = 1/(1+np.exp(x))\n",
        "  return res"
      ],
      "execution_count": 0,
      "outputs": []
    },
    {
      "cell_type": "code",
      "metadata": {
        "id": "2xn8SDldV3fv",
        "colab_type": "code",
        "colab": {}
      },
      "source": [
        "def bce(y, a):\n",
        "  res = -y*np.log10(a)-(1-y)*np.log10(1-a)\n",
        "  return res\n",
        "\n"
      ],
      "execution_count": 0,
      "outputs": []
    },
    {
      "cell_type": "code",
      "metadata": {
        "id": "logwraQhJmF2",
        "colab_type": "code",
        "outputId": "038dc868-31dc-4fbc-e0a5-2323330e57a1",
        "colab": {
          "base_uri": "https://localhost:8080/",
          "height": 265
        }
      },
      "source": [
        "epoches= 200\n",
        "lr = .01\n",
        "b_size = 800\n",
        "weights = np.random.rand(3,1)\n",
        "X_b = np.column_stack((train_data,np.ones(shape = (b_size, 1))))\n",
        "weight_path_mgd = []\n",
        "weight_path_mgd.append(weights)\n",
        "\n",
        "\n",
        "for epoch in range(epoches):\n",
        "  # shuffled_indices = np.random.permutation()\n",
        "  # X_b_shuffled = train_data[shuffled_indices]\n",
        "  # y_shuffled = y[shuffled_indices]\n",
        "  for i in range(b_size):\n",
        "    z= np.dot(X_b[i],weights)\n",
        "    a= sigmoid(z)\n",
        "        # gradient = 1 / batch_size * xi.T.dot(xi.dot(weight) - yi)\n",
        "        # weight = weight - lr * gradient\n",
        "    # gradient = 1/b_size * X_b.T.dot(X_b.dot(weights)-labels)\n",
        "    gradient = 1/b_size * (X_b[i]*(a-labels[i])).T\n",
        "    weights = weights-lr*gradient\n",
        "\n",
        "#bias\n",
        "b = weights[1][0]\n",
        "#weights\n",
        "x1_w = weights[0]/weights[1]\n",
        "#calculations\n",
        "# y = (-b/x2_w) + ((-b/x2_w)/(b/x1_w)) * x\n",
        "x2_w = -weights[2]/weights[1]\n",
        "\n",
        "old_x = np.array(range(0, 2))\n",
        "old_y = 3 * old_x + 3\n",
        "\n",
        "display_random_data(data, labels, 0,0, old_x, old_y, x1_w, x2_w)\n"
      ],
      "execution_count": 0,
      "outputs": [
        {
          "output_type": "display_data",
          "data": {
            "image/png": "[encoded data removed]",
            "text/plain": [
              "<Figure size 432x288 with 1 Axes>"
            ]
          },
          "metadata": {
            "tags": []
          }
        }
      ]
    },
    {
      "cell_type": "markdown",
      "metadata": {
        "id": "ie8dtd6RujwJ",
        "colab_type": "text"
      },
      "source": [
        "# HeatMap visual - Incomplete"
      ]
    },
    {
      "cell_type": "code",
      "metadata": {
        "id": "YSsca8kauo4Z",
        "colab_type": "code",
        "colab": {}
      },
      "source": [
        "x_h = np.linspace( 0, 1, 100)\n",
        "y_h = np.linspace( 1, 6, 100)\n",
        "X,Y = np.meshgrid(x_h,y_h)\n",
        "\n",
        "# A = np.c_[X.flatten(),Y.flatten()]\n",
        "# Z = network.predict(A,weights).reshape(Y.shape)\n",
        "# # Z = np.column_stack()\n",
        "# z = network.predict(np.c_[X.flatten(),Y.flatten()])\n",
        "# z = z.reshape((100,100))\n",
        "# plt.contourf(X,Y,z,50)\n",
        "# plt.colorbar()\n",
        "# plt.xlabel('X_1')\n",
        "# plt.ylabel('X_2')"
      ],
      "execution_count": 0,
      "outputs": []
    }
  ]
}