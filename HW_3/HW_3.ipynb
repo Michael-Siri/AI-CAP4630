{
  "nbformat": 4,
  "nbformat_minor": 0,
  "metadata": {
    "colab": {
      "name": "HW_3.ipynb",
      "provenance": [],
      "collapsed_sections": [],
      "include_colab_link": true
    },
    "kernelspec": {
      "name": "python3",
      "display_name": "Python 3"
    }
  },
  "cells": [
    {
      "cell_type": "markdown",
      "metadata": {
        "id": "view-in-github",
        "colab_type": "text"
      },
      "source": [
        "<a href=\"https://colab.research.google.com/github/Michael-Siri/AI-CAP4630/blob/master/HW_3/HW_3.ipynb\" target=\"_parent\"><img src=\"https://colab.research.google.com/assets/colab-badge.svg\" alt=\"Open In Colab\"/></a>"
      ]
    },
    {
      "cell_type": "markdown",
      "metadata": {
        "id": "2LI7_tez-nHG",
        "colab_type": "text"
      },
      "source": [
        "Michael Siripongpibul \n",
        "CAP4630"
      ]
    },
    {
      "cell_type": "code",
      "metadata": {
        "id": "VwGpiCeL9Chi",
        "colab_type": "code",
        "colab": {}
      },
      "source": [
        "import random\n",
        "import numpy as np\n",
        "import matplotlib as mpl\n",
        "import matplotlib.pyplot as plt\n",
        "from mpl_toolkits import mplot3d\n",
        "\n",
        "%tensorflow_version 2.x\n",
        "from tensorflow.keras import models\n",
        "from tensorflow.keras import layers\n",
        "import tensorflow as tf\n",
        "\n"
      ],
      "execution_count": 0,
      "outputs": []
    },
    {
      "cell_type": "markdown",
      "metadata": {
        "id": "0J6HB8qLjxwC",
        "colab_type": "text"
      },
      "source": [
        "# Question 1 Generate and Display Random Data\n",
        "\n",
        " The get_random_data function takes in 5 parameters of w,b,mu,sigma, and m. Where sigma is the standard deviation and mu is the mean; The function returns array data of shape (m, 2) and the array labels of shape (m, 1). "
      ]
    },
    {
      "cell_type": "code",
      "metadata": {
        "id": "-6JiKU-J-6iL",
        "colab_type": "code",
        "colab": {}
      },
      "source": [
        "def get_random_data(w,b,mu,sigma,m):\n",
        "  # np.random.seed(1)\n",
        "  labels = []\n",
        "  data = []\n",
        "  \n",
        "  for x in range(0, m):\n",
        "    labels.append(np.random.choice([0,1]))\n",
        "  for x in range(0,m):\n",
        "    c = labels[x]\n",
        "    n = np.random.default_rng().normal(mu, sigma, 1)\n",
        "    x_1 = random.uniform(0,1)\n",
        "    filler = w * x_1 + b + (-1)**c * n\n",
        "    x_2 = filler[0]\n",
        "    data.append((x_1,x_2))\n",
        "  return data, labels\n",
        "\n",
        "\n"
      ],
      "execution_count": 0,
      "outputs": []
    },
    {
      "cell_type": "markdown",
      "metadata": {
        "id": "b8mUAibf06mI",
        "colab_type": "text"
      },
      "source": [
        "display_random_Data takes parameters of arrays labels and data to create a scatterplot of points in data."
      ]
    },
    {
      "cell_type": "code",
      "metadata": {
        "id": "HFi5kGAoNi1T",
        "colab_type": "code",
        "outputId": "941195ab-5e2d-4fe4-b2e7-b041a487e467",
        "colab": {
          "base_uri": "https://localhost:8080/",
          "height": 265
        }
      },
      "source": [
        "def display_random_data(data, labels, x_new, y_new, old_x, old_y, x1_w, x2_w):\n",
        "  fig2 = plt.figure()\n",
        "  ax = plt #.axes(projection='3d')\n",
        "  xs = [x[0] for x in data]\n",
        "  ys = [x[1] for x in data]\n",
        "  # ax.scatter3D(xs, ys)\n",
        "  for x in range(0,len(labels)):\n",
        "    if labels[x] == 1:\n",
        "      ax.scatter(xs[x],ys[x], color = 'r')\n",
        "    else:\n",
        "      ax.scatter(xs[x],ys[x], color = 'b')\n",
        "  ax.plot(x_new, y_new, color='green', label =\"Predicted\")\n",
        "  ax.plot(old_x, old_y, color='yellow', label =\"Actual\")\n",
        "  x_h = np.linspace(0,1,3)\n",
        "  plt.plot(x_h, x_h*x1_w + x2_w, color = 'black')\n",
        "  ax.legend()\n",
        "  ax.plot()\n",
        "\n",
        "\n",
        "data, labels = get_random_data(3,3,1,1,1000)\n",
        "display_random_data(data, labels, 0, 0, 0, 0, 0 , 0)"
      ],
      "execution_count": 3,
      "outputs": [
        {
          "output_type": "display_data",
          "data": {
            "image/png": "[encoded data removed]",
            "text/plain": [
              "<Figure size 432x288 with 1 Axes>"
            ]
          },
          "metadata": {
            "tags": [],
            "needs_background": "light"
          }
        }
      ]
    },
    {
      "cell_type": "markdown",
      "metadata": {
        "id": "h-FSfv2PkIUY",
        "colab_type": "text"
      },
      "source": [
        "# Question 2 Logistic Regression with Keras"
      ]
    },
    {
      "cell_type": "markdown",
      "metadata": {
        "id": "qnZHebPH1TV6",
        "colab_type": "text"
      },
      "source": [
        "Splits the data generated in question 1 and uses keras to implement logistic regression with two included features. Then plots 2 lines separating the blue and red dots; One is the actual and the other is predicted by logistic regression."
      ]
    },
    {
      "cell_type": "code",
      "metadata": {
        "id": "daUZXxCmkO22",
        "colab_type": "code",
        "outputId": "e8366d80-3b2e-4570-98b4-3dedd449d212",
        "colab": {
          "base_uri": "https://localhost:8080/",
          "height": 1000
        }
      },
      "source": [
        "#Splitting the data into a training set and a validation set\n",
        "# training set\n",
        "train_data = data[:800]\n",
        "train_labels = labels[:800]\n",
        "train_data = np.array(train_data)\n",
        "train_labels = np.array(train_labels)\n",
        "\n",
        "# test set\n",
        "test_data = data[800:]\n",
        "test_labels = labels[800:]\n",
        "test_data = np.array(test_data)\n",
        "test_labels = np.array(test_labels)\n",
        "\n",
        "#Creating the model\n",
        "network = models.Sequential()\n",
        "network.add(layers.Dense(1, activation = 'sigmoid', input_shape=(2,)))\n",
        "\n",
        "#Training\n",
        "network.compile(optimizer=tf.keras.optimizers.RMSprop(lr=0.01), loss='binary_crossentropy', metrics=['accuracy'])\n",
        "network.fit(train_data, train_labels, epochs=100, validation_data=(test_data, test_labels))"
      ],
      "execution_count": 4,
      "outputs": [
        {
          "output_type": "stream",
          "text": [
            "Epoch 1/100\n",
            "25/25 [==============================] - 0s 8ms/step - loss: 0.6061 - accuracy: 0.6762 - val_loss: 0.6019 - val_accuracy: 0.6400\n",
            "Epoch 2/100\n",
            "25/25 [==============================] - 0s 2ms/step - loss: 0.5832 - accuracy: 0.6888 - val_loss: 0.5769 - val_accuracy: 0.7150\n",
            "Epoch 3/100\n",
            "25/25 [==============================] - 0s 3ms/step - loss: 0.5661 - accuracy: 0.7325 - val_loss: 0.5618 - val_accuracy: 0.7600\n",
            "Epoch 4/100\n",
            "25/25 [==============================] - 0s 2ms/step - loss: 0.5500 - accuracy: 0.7663 - val_loss: 0.5466 - val_accuracy: 0.7600\n",
            "Epoch 5/100\n",
            "25/25 [==============================] - 0s 2ms/step - loss: 0.5339 - accuracy: 0.7862 - val_loss: 0.5330 - val_accuracy: 0.7650\n",
            "Epoch 6/100\n",
            "25/25 [==============================] - 0s 3ms/step - loss: 0.5210 - accuracy: 0.7987 - val_loss: 0.5211 - val_accuracy: 0.7700\n",
            "Epoch 7/100\n",
            "25/25 [==============================] - 0s 3ms/step - loss: 0.5084 - accuracy: 0.8175 - val_loss: 0.5113 - val_accuracy: 0.7700\n",
            "Epoch 8/100\n",
            "25/25 [==============================] - 0s 2ms/step - loss: 0.4984 - accuracy: 0.8238 - val_loss: 0.5013 - val_accuracy: 0.7950\n",
            "Epoch 9/100\n",
            "25/25 [==============================] - 0s 2ms/step - loss: 0.4889 - accuracy: 0.8263 - val_loss: 0.4926 - val_accuracy: 0.8100\n",
            "Epoch 10/100\n",
            "25/25 [==============================] - 0s 2ms/step - loss: 0.4795 - accuracy: 0.8263 - val_loss: 0.4841 - val_accuracy: 0.8200\n",
            "Epoch 11/100\n",
            "25/25 [==============================] - 0s 2ms/step - loss: 0.4702 - accuracy: 0.8462 - val_loss: 0.4761 - val_accuracy: 0.8150\n",
            "Epoch 12/100\n",
            "25/25 [==============================] - 0s 3ms/step - loss: 0.4634 - accuracy: 0.8325 - val_loss: 0.4693 - val_accuracy: 0.8250\n",
            "Epoch 13/100\n",
            "25/25 [==============================] - 0s 2ms/step - loss: 0.4551 - accuracy: 0.8425 - val_loss: 0.4625 - val_accuracy: 0.8300\n",
            "Epoch 14/100\n",
            "25/25 [==============================] - 0s 3ms/step - loss: 0.4483 - accuracy: 0.8388 - val_loss: 0.4566 - val_accuracy: 0.8300\n",
            "Epoch 15/100\n",
            "25/25 [==============================] - 0s 3ms/step - loss: 0.4420 - accuracy: 0.8587 - val_loss: 0.4550 - val_accuracy: 0.8100\n",
            "Epoch 16/100\n",
            "25/25 [==============================] - 0s 3ms/step - loss: 0.4373 - accuracy: 0.8375 - val_loss: 0.4476 - val_accuracy: 0.8250\n",
            "Epoch 17/100\n",
            "25/25 [==============================] - 0s 2ms/step - loss: 0.4323 - accuracy: 0.8450 - val_loss: 0.4413 - val_accuracy: 0.8300\n",
            "Epoch 18/100\n",
            "25/25 [==============================] - 0s 2ms/step - loss: 0.4268 - accuracy: 0.8462 - val_loss: 0.4366 - val_accuracy: 0.8300\n",
            "Epoch 19/100\n",
            "25/25 [==============================] - 0s 2ms/step - loss: 0.4225 - accuracy: 0.8537 - val_loss: 0.4327 - val_accuracy: 0.8300\n",
            "Epoch 20/100\n",
            "25/25 [==============================] - 0s 2ms/step - loss: 0.4189 - accuracy: 0.8550 - val_loss: 0.4306 - val_accuracy: 0.8300\n",
            "Epoch 21/100\n",
            "25/25 [==============================] - 0s 2ms/step - loss: 0.4155 - accuracy: 0.8487 - val_loss: 0.4264 - val_accuracy: 0.8300\n",
            "Epoch 22/100\n",
            "25/25 [==============================] - 0s 3ms/step - loss: 0.4118 - accuracy: 0.8525 - val_loss: 0.4238 - val_accuracy: 0.8250\n",
            "Epoch 23/100\n",
            "25/25 [==============================] - 0s 2ms/step - loss: 0.4092 - accuracy: 0.8550 - val_loss: 0.4215 - val_accuracy: 0.8300\n",
            "Epoch 24/100\n",
            "25/25 [==============================] - 0s 3ms/step - loss: 0.4060 - accuracy: 0.8562 - val_loss: 0.4193 - val_accuracy: 0.8300\n",
            "Epoch 25/100\n",
            "25/25 [==============================] - 0s 2ms/step - loss: 0.4035 - accuracy: 0.8525 - val_loss: 0.4161 - val_accuracy: 0.8250\n",
            "Epoch 26/100\n",
            "25/25 [==============================] - 0s 3ms/step - loss: 0.4004 - accuracy: 0.8500 - val_loss: 0.4131 - val_accuracy: 0.8300\n",
            "Epoch 27/100\n",
            "25/25 [==============================] - 0s 2ms/step - loss: 0.3981 - accuracy: 0.8612 - val_loss: 0.4115 - val_accuracy: 0.8250\n",
            "Epoch 28/100\n",
            "25/25 [==============================] - 0s 2ms/step - loss: 0.3941 - accuracy: 0.8562 - val_loss: 0.4097 - val_accuracy: 0.8300\n",
            "Epoch 29/100\n",
            "25/25 [==============================] - 0s 3ms/step - loss: 0.3936 - accuracy: 0.8562 - val_loss: 0.4064 - val_accuracy: 0.8300\n",
            "Epoch 30/100\n",
            "25/25 [==============================] - 0s 2ms/step - loss: 0.3921 - accuracy: 0.8550 - val_loss: 0.4048 - val_accuracy: 0.8300\n",
            "Epoch 31/100\n",
            "25/25 [==============================] - 0s 3ms/step - loss: 0.3901 - accuracy: 0.8512 - val_loss: 0.4034 - val_accuracy: 0.8300\n",
            "Epoch 32/100\n",
            "25/25 [==============================] - 0s 2ms/step - loss: 0.3887 - accuracy: 0.8550 - val_loss: 0.4020 - val_accuracy: 0.8300\n",
            "Epoch 33/100\n",
            "25/25 [==============================] - 0s 2ms/step - loss: 0.3869 - accuracy: 0.8587 - val_loss: 0.4003 - val_accuracy: 0.8300\n",
            "Epoch 34/100\n",
            "25/25 [==============================] - 0s 2ms/step - loss: 0.3856 - accuracy: 0.8575 - val_loss: 0.3988 - val_accuracy: 0.8350\n",
            "Epoch 35/100\n",
            "25/25 [==============================] - 0s 3ms/step - loss: 0.3846 - accuracy: 0.8550 - val_loss: 0.3977 - val_accuracy: 0.8350\n",
            "Epoch 36/100\n",
            "25/25 [==============================] - 0s 2ms/step - loss: 0.3823 - accuracy: 0.8575 - val_loss: 0.3965 - val_accuracy: 0.8350\n",
            "Epoch 37/100\n",
            "25/25 [==============================] - 0s 3ms/step - loss: 0.3808 - accuracy: 0.8562 - val_loss: 0.3951 - val_accuracy: 0.8400\n",
            "Epoch 38/100\n",
            "25/25 [==============================] - 0s 2ms/step - loss: 0.3803 - accuracy: 0.8550 - val_loss: 0.3944 - val_accuracy: 0.8300\n",
            "Epoch 39/100\n",
            "25/25 [==============================] - 0s 3ms/step - loss: 0.3783 - accuracy: 0.8525 - val_loss: 0.3931 - val_accuracy: 0.8350\n",
            "Epoch 40/100\n",
            "25/25 [==============================] - 0s 3ms/step - loss: 0.3782 - accuracy: 0.8575 - val_loss: 0.3925 - val_accuracy: 0.8350\n",
            "Epoch 41/100\n",
            "25/25 [==============================] - 0s 2ms/step - loss: 0.3770 - accuracy: 0.8575 - val_loss: 0.3929 - val_accuracy: 0.8300\n",
            "Epoch 42/100\n",
            "25/25 [==============================] - 0s 3ms/step - loss: 0.3768 - accuracy: 0.8550 - val_loss: 0.3909 - val_accuracy: 0.8300\n",
            "Epoch 43/100\n",
            "25/25 [==============================] - 0s 3ms/step - loss: 0.3748 - accuracy: 0.8562 - val_loss: 0.3896 - val_accuracy: 0.8350\n",
            "Epoch 44/100\n",
            "25/25 [==============================] - 0s 3ms/step - loss: 0.3748 - accuracy: 0.8550 - val_loss: 0.3889 - val_accuracy: 0.8350\n",
            "Epoch 45/100\n",
            "25/25 [==============================] - 0s 3ms/step - loss: 0.3741 - accuracy: 0.8500 - val_loss: 0.3882 - val_accuracy: 0.8350\n",
            "Epoch 46/100\n",
            "25/25 [==============================] - 0s 2ms/step - loss: 0.3730 - accuracy: 0.8612 - val_loss: 0.3875 - val_accuracy: 0.8350\n",
            "Epoch 47/100\n",
            "25/25 [==============================] - 0s 2ms/step - loss: 0.3721 - accuracy: 0.8550 - val_loss: 0.3893 - val_accuracy: 0.8300\n",
            "Epoch 48/100\n",
            "25/25 [==============================] - 0s 2ms/step - loss: 0.3712 - accuracy: 0.8562 - val_loss: 0.3861 - val_accuracy: 0.8350\n",
            "Epoch 49/100\n",
            "25/25 [==============================] - 0s 3ms/step - loss: 0.3705 - accuracy: 0.8537 - val_loss: 0.3862 - val_accuracy: 0.8350\n",
            "Epoch 50/100\n",
            "25/25 [==============================] - 0s 3ms/step - loss: 0.3700 - accuracy: 0.8562 - val_loss: 0.3852 - val_accuracy: 0.8400\n",
            "Epoch 51/100\n",
            "25/25 [==============================] - 0s 3ms/step - loss: 0.3694 - accuracy: 0.8512 - val_loss: 0.3842 - val_accuracy: 0.8350\n",
            "Epoch 52/100\n",
            "25/25 [==============================] - 0s 3ms/step - loss: 0.3684 - accuracy: 0.8562 - val_loss: 0.3858 - val_accuracy: 0.8300\n",
            "Epoch 53/100\n",
            "25/25 [==============================] - 0s 3ms/step - loss: 0.3684 - accuracy: 0.8550 - val_loss: 0.3831 - val_accuracy: 0.8300\n",
            "Epoch 54/100\n",
            "25/25 [==============================] - 0s 3ms/step - loss: 0.3679 - accuracy: 0.8512 - val_loss: 0.3835 - val_accuracy: 0.8350\n",
            "Epoch 55/100\n",
            "25/25 [==============================] - 0s 2ms/step - loss: 0.3672 - accuracy: 0.8600 - val_loss: 0.3825 - val_accuracy: 0.8350\n",
            "Epoch 56/100\n",
            "25/25 [==============================] - 0s 3ms/step - loss: 0.3670 - accuracy: 0.8575 - val_loss: 0.3824 - val_accuracy: 0.8400\n",
            "Epoch 57/100\n",
            "25/25 [==============================] - 0s 2ms/step - loss: 0.3673 - accuracy: 0.8562 - val_loss: 0.3816 - val_accuracy: 0.8400\n",
            "Epoch 58/100\n",
            "25/25 [==============================] - 0s 2ms/step - loss: 0.3656 - accuracy: 0.8600 - val_loss: 0.3817 - val_accuracy: 0.8400\n",
            "Epoch 59/100\n",
            "25/25 [==============================] - 0s 2ms/step - loss: 0.3661 - accuracy: 0.8550 - val_loss: 0.3810 - val_accuracy: 0.8350\n",
            "Epoch 60/100\n",
            "25/25 [==============================] - 0s 3ms/step - loss: 0.3657 - accuracy: 0.8625 - val_loss: 0.3805 - val_accuracy: 0.8300\n",
            "Epoch 61/100\n",
            "25/25 [==============================] - 0s 2ms/step - loss: 0.3644 - accuracy: 0.8600 - val_loss: 0.3829 - val_accuracy: 0.8300\n",
            "Epoch 62/100\n",
            "25/25 [==============================] - 0s 3ms/step - loss: 0.3653 - accuracy: 0.8587 - val_loss: 0.3800 - val_accuracy: 0.8350\n",
            "Epoch 63/100\n",
            "25/25 [==============================] - 0s 2ms/step - loss: 0.3648 - accuracy: 0.8550 - val_loss: 0.3808 - val_accuracy: 0.8300\n",
            "Epoch 64/100\n",
            "25/25 [==============================] - 0s 3ms/step - loss: 0.3644 - accuracy: 0.8537 - val_loss: 0.3794 - val_accuracy: 0.8350\n",
            "Epoch 65/100\n",
            "25/25 [==============================] - 0s 2ms/step - loss: 0.3634 - accuracy: 0.8575 - val_loss: 0.3795 - val_accuracy: 0.8400\n",
            "Epoch 66/100\n",
            "25/25 [==============================] - 0s 3ms/step - loss: 0.3636 - accuracy: 0.8575 - val_loss: 0.3793 - val_accuracy: 0.8400\n",
            "Epoch 67/100\n",
            "25/25 [==============================] - 0s 2ms/step - loss: 0.3637 - accuracy: 0.8562 - val_loss: 0.3789 - val_accuracy: 0.8450\n",
            "Epoch 68/100\n",
            "25/25 [==============================] - 0s 2ms/step - loss: 0.3632 - accuracy: 0.8587 - val_loss: 0.3783 - val_accuracy: 0.8350\n",
            "Epoch 69/100\n",
            "25/25 [==============================] - 0s 3ms/step - loss: 0.3632 - accuracy: 0.8562 - val_loss: 0.3781 - val_accuracy: 0.8300\n",
            "Epoch 70/100\n",
            "25/25 [==============================] - 0s 3ms/step - loss: 0.3620 - accuracy: 0.8600 - val_loss: 0.3780 - val_accuracy: 0.8350\n",
            "Epoch 71/100\n",
            "25/25 [==============================] - 0s 3ms/step - loss: 0.3622 - accuracy: 0.8525 - val_loss: 0.3776 - val_accuracy: 0.8350\n",
            "Epoch 72/100\n",
            "25/25 [==============================] - 0s 3ms/step - loss: 0.3627 - accuracy: 0.8550 - val_loss: 0.3774 - val_accuracy: 0.8350\n",
            "Epoch 73/100\n",
            "25/25 [==============================] - 0s 2ms/step - loss: 0.3617 - accuracy: 0.8612 - val_loss: 0.3772 - val_accuracy: 0.8350\n",
            "Epoch 74/100\n",
            "25/25 [==============================] - 0s 3ms/step - loss: 0.3620 - accuracy: 0.8587 - val_loss: 0.3770 - val_accuracy: 0.8350\n",
            "Epoch 75/100\n",
            "25/25 [==============================] - 0s 3ms/step - loss: 0.3616 - accuracy: 0.8587 - val_loss: 0.3768 - val_accuracy: 0.8300\n",
            "Epoch 76/100\n",
            "25/25 [==============================] - 0s 3ms/step - loss: 0.3617 - accuracy: 0.8550 - val_loss: 0.3767 - val_accuracy: 0.8350\n",
            "Epoch 77/100\n",
            "25/25 [==============================] - 0s 2ms/step - loss: 0.3613 - accuracy: 0.8550 - val_loss: 0.3778 - val_accuracy: 0.8400\n",
            "Epoch 78/100\n",
            "25/25 [==============================] - 0s 2ms/step - loss: 0.3608 - accuracy: 0.8575 - val_loss: 0.3784 - val_accuracy: 0.8300\n",
            "Epoch 79/100\n",
            "25/25 [==============================] - 0s 2ms/step - loss: 0.3616 - accuracy: 0.8575 - val_loss: 0.3763 - val_accuracy: 0.8350\n",
            "Epoch 80/100\n",
            "25/25 [==============================] - 0s 2ms/step - loss: 0.3612 - accuracy: 0.8612 - val_loss: 0.3763 - val_accuracy: 0.8350\n",
            "Epoch 81/100\n",
            "25/25 [==============================] - 0s 3ms/step - loss: 0.3599 - accuracy: 0.8562 - val_loss: 0.3771 - val_accuracy: 0.8400\n",
            "Epoch 82/100\n",
            "25/25 [==============================] - 0s 2ms/step - loss: 0.3609 - accuracy: 0.8562 - val_loss: 0.3759 - val_accuracy: 0.8300\n",
            "Epoch 83/100\n",
            "25/25 [==============================] - 0s 2ms/step - loss: 0.3601 - accuracy: 0.8612 - val_loss: 0.3761 - val_accuracy: 0.8400\n",
            "Epoch 84/100\n",
            "25/25 [==============================] - 0s 3ms/step - loss: 0.3602 - accuracy: 0.8562 - val_loss: 0.3760 - val_accuracy: 0.8300\n",
            "Epoch 85/100\n",
            "25/25 [==============================] - 0s 2ms/step - loss: 0.3599 - accuracy: 0.8575 - val_loss: 0.3777 - val_accuracy: 0.8300\n",
            "Epoch 86/100\n",
            "25/25 [==============================] - 0s 3ms/step - loss: 0.3598 - accuracy: 0.8562 - val_loss: 0.3764 - val_accuracy: 0.8400\n",
            "Epoch 87/100\n",
            "25/25 [==============================] - 0s 2ms/step - loss: 0.3601 - accuracy: 0.8612 - val_loss: 0.3757 - val_accuracy: 0.8350\n",
            "Epoch 88/100\n",
            "25/25 [==============================] - 0s 2ms/step - loss: 0.3594 - accuracy: 0.8600 - val_loss: 0.3752 - val_accuracy: 0.8350\n",
            "Epoch 89/100\n",
            "25/25 [==============================] - 0s 2ms/step - loss: 0.3587 - accuracy: 0.8587 - val_loss: 0.3782 - val_accuracy: 0.8300\n",
            "Epoch 90/100\n",
            "25/25 [==============================] - 0s 3ms/step - loss: 0.3599 - accuracy: 0.8575 - val_loss: 0.3750 - val_accuracy: 0.8350\n",
            "Epoch 91/100\n",
            "25/25 [==============================] - 0s 2ms/step - loss: 0.3591 - accuracy: 0.8562 - val_loss: 0.3749 - val_accuracy: 0.8350\n",
            "Epoch 92/100\n",
            "25/25 [==============================] - 0s 3ms/step - loss: 0.3599 - accuracy: 0.8525 - val_loss: 0.3750 - val_accuracy: 0.8350\n",
            "Epoch 93/100\n",
            "25/25 [==============================] - 0s 3ms/step - loss: 0.3592 - accuracy: 0.8562 - val_loss: 0.3750 - val_accuracy: 0.8350\n",
            "Epoch 94/100\n",
            "25/25 [==============================] - 0s 3ms/step - loss: 0.3595 - accuracy: 0.8600 - val_loss: 0.3750 - val_accuracy: 0.8300\n",
            "Epoch 95/100\n",
            "25/25 [==============================] - 0s 3ms/step - loss: 0.3595 - accuracy: 0.8587 - val_loss: 0.3746 - val_accuracy: 0.8350\n",
            "Epoch 96/100\n",
            "25/25 [==============================] - 0s 2ms/step - loss: 0.3591 - accuracy: 0.8587 - val_loss: 0.3756 - val_accuracy: 0.8400\n",
            "Epoch 97/100\n",
            "25/25 [==============================] - 0s 2ms/step - loss: 0.3590 - accuracy: 0.8575 - val_loss: 0.3762 - val_accuracy: 0.8400\n",
            "Epoch 98/100\n",
            "25/25 [==============================] - 0s 2ms/step - loss: 0.3590 - accuracy: 0.8575 - val_loss: 0.3744 - val_accuracy: 0.8350\n",
            "Epoch 99/100\n",
            "25/25 [==============================] - 0s 2ms/step - loss: 0.3588 - accuracy: 0.8612 - val_loss: 0.3743 - val_accuracy: 0.8350\n",
            "Epoch 100/100\n",
            "25/25 [==============================] - 0s 3ms/step - loss: 0.3592 - accuracy: 0.8550 - val_loss: 0.3745 - val_accuracy: 0.8350\n"
          ],
          "name": "stdout"
        },
        {
          "output_type": "execute_result",
          "data": {
            "text/plain": [
              "<tensorflow.python.keras.callbacks.History at 0x7f962ab84c88>"
            ]
          },
          "metadata": {
            "tags": []
          },
          "execution_count": 4
        }
      ]
    },
    {
      "cell_type": "markdown",
      "metadata": {
        "id": "sKtt9qjwnB9_",
        "colab_type": "text"
      },
      "source": [
        "# Model Accuracy"
      ]
    },
    {
      "cell_type": "code",
      "metadata": {
        "id": "grezwQ4u0QJH",
        "colab_type": "code",
        "outputId": "9a8323ba-a624-4601-b96c-24b054936d51",
        "colab": {
          "base_uri": "https://localhost:8080/",
          "height": 34
        }
      },
      "source": [
        "test_loss, test_acc = network.evaluate(test_data, test_labels)\n"
      ],
      "execution_count": 5,
      "outputs": [
        {
          "output_type": "stream",
          "text": [
            "7/7 [==============================] - 0s 1ms/step - loss: 0.3745 - accuracy: 0.8350\n"
          ],
          "name": "stdout"
        }
      ]
    },
    {
      "cell_type": "code",
      "metadata": {
        "id": "6GYQrXAl0Flo",
        "colab_type": "code",
        "outputId": "b70ba770-d3f8-40ad-edc5-3daa671f2e3f",
        "colab": {
          "base_uri": "https://localhost:8080/",
          "height": 34
        }
      },
      "source": [
        "\n",
        "test_acc\n"
      ],
      "execution_count": 6,
      "outputs": [
        {
          "output_type": "execute_result",
          "data": {
            "text/plain": [
              "0.8349999785423279"
            ]
          },
          "metadata": {
            "tags": []
          },
          "execution_count": 6
        }
      ]
    },
    {
      "cell_type": "code",
      "metadata": {
        "id": "p3h0F1fe0J5r",
        "colab_type": "code",
        "outputId": "699d8850-aa33-494c-f7ca-1601ca132285",
        "colab": {
          "base_uri": "https://localhost:8080/",
          "height": 34
        }
      },
      "source": [
        "test_loss\n"
      ],
      "execution_count": 7,
      "outputs": [
        {
          "output_type": "execute_result",
          "data": {
            "text/plain": [
              "0.3744656443595886"
            ]
          },
          "metadata": {
            "tags": []
          },
          "execution_count": 7
        }
      ]
    },
    {
      "cell_type": "markdown",
      "metadata": {
        "id": "faA42I8pnMjn",
        "colab_type": "text"
      },
      "source": [
        "Showing predicted Line and the actual line\n",
        "\n",
        "Actual line:\n",
        "\n",
        "$Y = w*x+b$\n",
        "\n",
        "Predicted Line:\n",
        "\n",
        "$Y = -\\frac{b/w2}{b/w1} -\\frac{b}{w2}$"
      ]
    },
    {
      "cell_type": "code",
      "metadata": {
        "id": "snDlSQM00Moi",
        "colab_type": "code",
        "outputId": "f61c20f9-1f48-4ffd-ecf7-4dfe7be02898",
        "colab": {
          "base_uri": "https://localhost:8080/",
          "height": 265
        }
      },
      "source": [
        "#obtain the separating line determined by the model by extracting the weights from the dense layer using the function get_weights\n",
        "x = np.linspace(0, 1, 100)\n",
        "weights = network.layers[0].get_weights()\n",
        "#bias\n",
        "b = weights[1][0]\n",
        "#weights\n",
        "x1_w = weights[0][0][0]\n",
        "x2_w = weights[0][1][0]\n",
        "#calculations\n",
        "y = (-b/x2_w) + ((-b/x2_w)/(b/x1_w)) * x\n",
        "old_x = np.array(range(0, 2))\n",
        "old_y = 3 * old_x + 3\n",
        "\n",
        "display_random_data(data, labels, x,y, old_x, old_y,0 ,0)\n",
        "\n"
      ],
      "execution_count": 8,
      "outputs": [
        {
          "output_type": "display_data",
          "data": {
            "image/png": "[encoded data removed]",
            "text/plain": [
              "<Figure size 432x288 with 1 Axes>"
            ]
          },
          "metadata": {
            "tags": [],
            "needs_background": "light"
          }
        }
      ]
    },
    {
      "cell_type": "markdown",
      "metadata": {
        "id": "WLHqEn2czacl",
        "colab_type": "text"
      },
      "source": [
        "The predicted line is a bit hard to see behind the yellow line"
      ]
    },
    {
      "cell_type": "markdown",
      "metadata": {
        "id": "TRy-KDl61Oeh",
        "colab_type": "text"
      },
      "source": [
        "# HeatMap Visualization of model\n",
        "to visualize $f: R^2 -> R$ "
      ]
    },
    {
      "cell_type": "code",
      "metadata": {
        "id": "VOURhwTW0SrW",
        "colab_type": "code",
        "outputId": "62347e22-366f-4587-ff8a-bdd438a34459",
        "colab": {
          "base_uri": "https://localhost:8080/",
          "height": 301
        }
      },
      "source": [
        "x_h = np.linspace( 0, 1, 100)\n",
        "y_h = np.linspace( 1, 6, 100)\n",
        "X,Y = np.meshgrid(x_h,y_h)\n",
        "# Y = np.meshgrid(y_h)\n",
        "z = network.predict(np.c_[X.flatten(),Y.flatten()])\n",
        "z = z.reshape((100,100))\n",
        "plt.contourf(X,Y,z,50)\n",
        "plt.colorbar()\n",
        "plt.xlabel('X_1')\n",
        "plt.ylabel('X_2')"
      ],
      "execution_count": 9,
      "outputs": [
        {
          "output_type": "execute_result",
          "data": {
            "text/plain": [
              "Text(0, 0.5, 'X_2')"
            ]
          },
          "metadata": {
            "tags": []
          },
          "execution_count": 9
        },
        {
          "output_type": "display_data",
          "data": {
            "image/png": "[encoded data removed]",
            "text/plain": [
              "<Figure size 432x288 with 2 Axes>"
            ]
          },
          "metadata": {
            "tags": [],
            "needs_background": "light"
          }
        }
      ]
    },
    {
      "cell_type": "markdown",
      "metadata": {
        "id": "JlvpeCctIKz6",
        "colab_type": "text"
      },
      "source": [
        "# Question 3 Using numpy to implement logistic regression\n",
        "# Unfinished"
      ]
    },
    {
      "cell_type": "code",
      "metadata": {
        "id": "bq-TpKdp6toG",
        "colab_type": "code",
        "colab": {}
      },
      "source": [
        "#Source https://github.com/schneider128k/machine_learning_course/blob/master/linear_regression_gradient_descent.ipynb\n",
        "#Source https://github.com/schneider128k/machine_learning_course/blob/master/slides/logistic_regression.pdf"
      ],
      "execution_count": 0,
      "outputs": []
    },
    {
      "cell_type": "markdown",
      "metadata": {
        "id": "Jc0v22nVXRgK",
        "colab_type": "text"
      },
      "source": [
        "Sigmoid function: \n",
        "\n",
        "$=\\frac{1}{1+e^-z}$\n",
        "\n",
        "Binary cross-entropy loss function:\n",
        "\n",
        "$=-y log a - (1-y)log(1-a)$\n",
        "\n",
        "\n"
      ]
    },
    {
      "cell_type": "code",
      "metadata": {
        "id": "cdokT5NnUQRo",
        "colab_type": "code",
        "colab": {}
      },
      "source": [
        "def sigmoid(x):\n",
        "  res = 1/(1+np.exp(x))\n",
        "  return res"
      ],
      "execution_count": 0,
      "outputs": []
    },
    {
      "cell_type": "code",
      "metadata": {
        "id": "2xn8SDldV3fv",
        "colab_type": "code",
        "colab": {}
      },
      "source": [
        "def bce(y, a):\n",
        "  res = -y*np.log10(a)-(1-y)*np.log10(1-a)\n",
        "  return res\n",
        "\n"
      ],
      "execution_count": 0,
      "outputs": []
    },
    {
      "cell_type": "code",
      "metadata": {
        "id": "logwraQhJmF2",
        "colab_type": "code",
        "outputId": "31470fd3-b4ba-4821-a6b1-1f19053c1b3b",
        "colab": {
          "base_uri": "https://localhost:8080/",
          "height": 265
        }
      },
      "source": [
        "epoches= 200\n",
        "lr = .01\n",
        "b_size = 800\n",
        "weights = np.random.rand(3,1)\n",
        "X_b = np.column_stack((train_data,np.ones(shape = (b_size, 1))))\n",
        "weight_path_mgd = []\n",
        "weight_path_mgd.append(weights)\n",
        "\n",
        "\n",
        "for epoch in range(epoches):\n",
        "  # shuffled_indices = np.random.permutation()\n",
        "  # X_b_shuffled = train_data[shuffled_indices]\n",
        "  # y_shuffled = y[shuffled_indices]\n",
        "  for i in range(b_size):\n",
        "    z= np.dot(X_b[i],weights)\n",
        "    a= sigmoid(z)\n",
        "        # gradient = 1 / batch_size * xi.T.dot(xi.dot(weight) - yi)\n",
        "        # weight = weight - lr * gradient\n",
        "    # gradient = 1/b_size * X_b.T.dot(X_b.dot(weights)-labels)\n",
        "    gradient = 1/b_size * (X_b[i]*(a-labels[i])).T\n",
        "    weights = weights-lr*gradient\n",
        "layer = network.layers[0]\n",
        "weight3, bw = layer.get_weights()\n",
        "weight1 = weight3[0]\n",
        "weight2= weight3[1]\n",
        "b_1 = bw\n",
        "\n",
        "#bias\n",
        "b = weights[1][0]\n",
        "#weights\n",
        "x1_w = weights[0]/weights[1]\n",
        "#calculations\n",
        "# y = (-b/x2_w) + ((-b/x2_w)/(b/x1_w)) * x\n",
        "x2_w = -weights[2]/weights[1]\n",
        "\n",
        "old_x = np.array(range(0, 2))\n",
        "old_y = 3 * old_x + 3\n",
        "\n",
        "display_random_data(data, labels, 0,0, old_x, old_y, x1_w, x2_w)\n"
      ],
      "execution_count": 13,
      "outputs": [
        {
          "output_type": "display_data",
          "data": {
            "image/png": "[encoded data removed]",
            "text/plain": [
              "<Figure size 432x288 with 1 Axes>"
            ]
          },
          "metadata": {
            "tags": [],
            "needs_background": "light"
          }
        }
      ]
    },
    {
      "cell_type": "markdown",
      "metadata": {
        "id": "ie8dtd6RujwJ",
        "colab_type": "text"
      },
      "source": [
        "# HeatMap visual - Incomplete"
      ]
    },
    {
      "cell_type": "markdown",
      "metadata": {
        "id": "hdT_gz4JCyhb",
        "colab_type": "text"
      },
      "source": [
        "Similar to the previous heatmap but using Z values from the new numpy regression model"
      ]
    },
    {
      "cell_type": "code",
      "metadata": {
        "id": "YSsca8kauo4Z",
        "colab_type": "code",
        "outputId": "e942a79f-e2de-4a47-e722-f96a8784df56",
        "colab": {
          "base_uri": "https://localhost:8080/",
          "height": 301
        }
      },
      "source": [
        "\n",
        "train_data2 = np.append(np.ones((train_data.shape[0],1)), train_data, axis = 1)\n",
        "# print(train_data2)\n",
        "w = np.zeros((train_data2.shape[1],1))\n",
        "# print(w)\n",
        "loss = 0\n",
        "accuracy = 0\n",
        "for i in range(800):\n",
        "  pred = sigmoid(np.dot(train_data2,w))\n",
        "  gradient = 1/b_size * np.dot(train_data2.transpose(),pred-train_labels)\n",
        "  w = w - (lr*gradient)\n",
        "  # loss = bce(train_labels,pred) - divided by zero error\n",
        "  # loss2 = 1/b_size * sum(loss)\n",
        "b = w[0]\n",
        "w = w[1]\n",
        "\n",
        "x_h = np.linspace( 0, .1, 100)\n",
        "y_h = np.linspace( 0, 1, 100)\n",
        "X,Y = np.meshgrid(x_h,y_h)\n",
        "z = network.predict(np.c_[X.flatten()* w[0],Y.flatten()*w[1]])\n",
        "z = z.reshape((100,100))\n",
        "plt.contourf(X,Y,z,50)\n",
        "plt.colorbar()\n",
        "plt.xlabel('X_1')\n",
        "plt.ylabel('X_2')"
      ],
      "execution_count": 14,
      "outputs": [
        {
          "output_type": "execute_result",
          "data": {
            "text/plain": [
              "Text(0, 0.5, 'X_2')"
            ]
          },
          "metadata": {
            "tags": []
          },
          "execution_count": 14
        },
        {
          "output_type": "display_data",
          "data": {
            "image/png": "[encoded data removed]",
            "text/plain": [
              "<Figure size 432x288 with 2 Axes>"
            ]
          },
          "metadata": {
            "tags": [],
            "needs_background": "light"
          }
        }
      ]
    },
    {
      "cell_type": "markdown",
      "metadata": {
        "id": "YNxrZIPXeFwA",
        "colab_type": "text"
      },
      "source": [
        ""
      ]
    },
    {
      "cell_type": "markdown",
      "metadata": {
        "id": "rp7IB1a1JOL0",
        "colab_type": "text"
      },
      "source": [
        "Accuracy \n"
      ]
    },
    {
      "cell_type": "code",
      "metadata": {
        "id": "iP4LuYPIJM7B",
        "colab_type": "code",
        "colab": {
          "base_uri": "https://localhost:8080/",
          "height": 34
        },
        "outputId": "fc971ea0-5222-494d-cef0-eb293cc14406"
      },
      "source": [
        "for i in np.arange(len(test_data)):\n",
        "  pred = (weight2*test_data[i][0])+(weight1*test_data[i][0])+bw\n",
        "  a = (sigmoid(pred))\n",
        "  b = test_labels[i]\n",
        "  check = (a > 0.5) == 1\n",
        "  if check:\n",
        "    loss = loss + bce(b,a)\n",
        "    accuracy = accuracy + 1\n",
        "  else:\n",
        "    if b == 0:\n",
        "      accuracy = accuracy + 1\n",
        "  \n",
        "accuracy = accuracy/len(test_data)\n",
        "loss = loss/len(test_data);\n",
        "accuracy\n",
        "\n",
        "\n",
        "\n"
      ],
      "execution_count": 56,
      "outputs": [
        {
          "output_type": "execute_result",
          "data": {
            "text/plain": [
              "0.5226130653267144"
            ]
          },
          "metadata": {
            "tags": []
          },
          "execution_count": 56
        }
      ]
    },
    {
      "cell_type": "markdown",
      "metadata": {
        "id": "EE9w-_2XmE3_",
        "colab_type": "text"
      },
      "source": [
        "Loss\n"
      ]
    }
  ]
}