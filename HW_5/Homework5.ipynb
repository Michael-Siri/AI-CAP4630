{
  "nbformat": 4,
  "nbformat_minor": 0,
  "metadata": {
    "colab": {
      "name": "Homework5",
      "provenance": [],
      "collapsed_sections": [],
      "authorship_tag": "ABX9TyNTtnWJxlTC1sPy23kB5BoS",
      "include_colab_link": true
    },
    "kernelspec": {
      "name": "python3",
      "display_name": "Python 3"
    }
  },
  "cells": [
    {
      "cell_type": "markdown",
      "metadata": {
        "id": "view-in-github",
        "colab_type": "text"
      },
      "source": [
        "<a href=\"https://colab.research.google.com/github/Michael-Siri/AI-CAP4630/blob/master/HW_5/Homework5.ipynb\" target=\"_parent\"><img src=\"https://colab.research.google.com/assets/colab-badge.svg\" alt=\"Open In Colab\"/></a>"
      ]
    },
    {
      "cell_type": "markdown",
      "metadata": {
        "id": "tYW_JHdVbkKT",
        "colab_type": "text"
      },
      "source": [
        "# Homework 5"
      ]
    },
    {
      "cell_type": "markdown",
      "metadata": {
        "id": "j9G1GB5YbsvL",
        "colab_type": "text"
      },
      "source": [
        "#1. General Concepts\n",
        "Sources found here at: https://pathmind.com/wiki/ai-vs-machine-learning-vs-deep-learning"
      ]
    },
    {
      "cell_type": "markdown",
      "metadata": {
        "id": "fBE8p9jpgJ5Z",
        "colab_type": "text"
      },
      "source": [
        "Artificial intelligence, machine learning and deep learning are terms often used to describe intelligent software and is commonly used interchangeably. However, machine learning is a subset of artificial intelligence and deep learning is a subset of machine learning.\n",
        "\n",
        "$AI > ML > DL$"
      ]
    },
    {
      "cell_type": "markdown",
      "metadata": {
        "id": "tfxPmfgOfYV-",
        "colab_type": "text"
      },
      "source": [
        "## Artificial Intelligence (AI)"
      ]
    },
    {
      "cell_type": "markdown",
      "metadata": {
        "id": "uw8Vf0cCgZIm",
        "colab_type": "text"
      },
      "source": [
        "A common description of Artificial Intelligence is the capability of a machine to imitate intelligent human behavior. Imitating human behavior is a very broad term and so is AI. The range of AI can begin from a pile of simple if-then statements, to a more complex algorithm.\n",
        "If the pile of if-then statements are gathered into a collection, it forms Symbolic Artificial Intelligence.\n",
        "\n",
        "Symbolic AI operates in the form of:"
      ]
    },
    {
      "cell_type": "markdown",
      "metadata": {
        "id": "bJW3b3RcU7Sx",
        "colab_type": "text"
      },
      "source": [
        "$AI =\n",
        " \\begin{matrix}\n",
        "  Input & \\cdots > & + & \\cdots & + \\\\\n",
        "    & & \\vdots &  & \\vdots & \\cdots > & Output \\\\\n",
        "  Rules & \\cdots > & + & \\cdots & +\n",
        " \\end{matrix}\n",
        "$"
      ]
    },
    {
      "cell_type": "markdown",
      "metadata": {
        "id": "il9YdSw0fYsB",
        "colab_type": "text"
      },
      "source": [
        "## Machine Learning (ML)"
      ]
    },
    {
      "cell_type": "markdown",
      "metadata": {
        "id": "PeCYrR1hgZ4T",
        "colab_type": "text"
      },
      "source": [
        "The subset of Artificial Intelligence, Machine Learning, focuses on the system that is able to modify itself without human intervention; Machine Learning is dynamic and creates rules from the input and output unlike Symbolic AI.\n",
        "ML, when exposed to new data, will attempt to minimize error and increase the accuracy of predictions as an optimization algorithm.\n",
        "\n",
        "\n",
        "Machine Learning operates in the form of:\n"
      ]
    },
    {
      "cell_type": "markdown",
      "metadata": {
        "id": "ItxXBsMmVBMl",
        "colab_type": "text"
      },
      "source": [
        "\n",
        "\n",
        " $ML =\n",
        "  \\begin{matrix}\n",
        "  Input & \\cdots > & + & \\cdots & + \\\\\n",
        "    & & \\vdots &  & \\vdots & \\cdots > & Rules \\\\\n",
        "  Output & \\cdots > & + & \\cdots & +\n",
        " \\end{matrix} $\n"
      ]
    },
    {
      "cell_type": "markdown",
      "metadata": {
        "id": "W866jRddfZAi",
        "colab_type": "text"
      },
      "source": [
        "##Deep Learning (DL)"
      ]
    },
    {
      "cell_type": "markdown",
      "metadata": {
        "id": "U_gKPnqZfZdU",
        "colab_type": "text"
      },
      "source": [
        "As a subset of Machine learning, Deep Learning utilizes neural networks, or set of algorithms designed to recognize certain patterns. DL attemps to map it's inputs to outputs and finds a correlation in the process of learning; Deep also refers to the number of layers in a neural network.\n",
        "\n",
        "\n",
        "*   \"a field of study that gives computers the ability to learn without being explicitly programmed\" - Arthur Samuel\n",
        "\n",
        "\n",
        "\n",
        "\n",
        "\n",
        "\n",
        "\n"
      ]
    },
    {
      "cell_type": "markdown",
      "metadata": {
        "id": "YkkmpMkd3jb9",
        "colab_type": "text"
      },
      "source": [
        "#2. Basic Concepts"
      ]
    },
    {
      "cell_type": "markdown",
      "metadata": {
        "id": "nn6d8auc3qJz",
        "colab_type": "text"
      },
      "source": [
        "##Linear Regression"
      ]
    },
    {
      "cell_type": "markdown",
      "metadata": {
        "id": "mC42nbSEGUwa",
        "colab_type": "text"
      },
      "source": [
        "Linear regression models the relationship between a dependent variable and one or more independent variables; This is considered a common statistical data analysis technique and can be considered simple linear regression or multiple linear regression depending on the number of independent variables.\n",
        "This model assumes the relationship between the variables are linear.\n",
        "\n",
        "\n",
        "---\n",
        "\n",
        "\n",
        "In Machine Learning, the ***simple linear regression*** equation for a model is as follows:\n",
        "\n",
        "\n",
        "\n",
        "$Where:$\n",
        "\n",
        "$y = $ the predicted label\n",
        "\n",
        "$b = $ the bias\n",
        "\n",
        "$w_{1} = $ the weight of feature 1, or slope\n",
        "\n",
        "$x_{1} = $ a feature or known input\n",
        "\n",
        "The Model is $y = b + w_{1}x_{1}$\n",
        "\n",
        "\n",
        "---\n",
        "\n",
        "In ***multiple linear regression*** with two or more independent variables, each feature $x_{1},x_{2}... x_{n} $ each contains a separate weight of $w_{1},w_{2}... w_{n} $\n",
        "\n",
        "An example of a model with 3 independent variables will look like this:\n",
        "\n",
        "The model is $y = b + w_{1}x_{1} + w_{2}x_{2} + w_{3}x_{3}$ = b + $\\sum_{j=1}^3 w_{j}x_{j}$\n",
        "\n",
        "\n",
        "\n",
        "\n",
        "\n",
        "\n"
      ]
    },
    {
      "cell_type": "markdown",
      "metadata": {
        "id": "XckYrMue3p9P",
        "colab_type": "text"
      },
      "source": [
        "##Logistic Regression"
      ]
    },
    {
      "cell_type": "markdown",
      "metadata": {
        "id": "gGi5kNsMUHNp",
        "colab_type": "text"
      },
      "source": [
        "Logistic regression is a classification algorithm and very similar to linear regression but the independent variable are not numbers, instead similar to yes/no or 1/0 responses. This is mainly used for prediction of the dependent variable's category; the weighted sum of the inputs pass through a sigmoid function to map the values between 0 and 1.\n",
        "\n",
        "The equation for ***logistic regression*** is:\n",
        "\n",
        "$log\\frac{y}{1-y} = b_{0} + b_{1}x_{1} + b_{2}x_{2} + b_{3}x_{3} + ... + b_{n}x_{n}$\n"
      ]
    },
    {
      "cell_type": "markdown",
      "metadata": {
        "id": "hWY7KOIx3pop",
        "colab_type": "text"
      },
      "source": [
        "##Gradients & Gradient Descent"
      ]
    },
    {
      "cell_type": "markdown",
      "metadata": {
        "id": "mvWfELBtYM1v",
        "colab_type": "text"
      },
      "source": [
        "A gradient descent is a *optimization* algorithm when training a model. Assuming the loss function of a model to be convex and has only one minimum,\n",
        "calculating the loss function for all parameter values is inefficient for finding it. \n",
        "\n",
        "Gradient descent picks a starting value and calculates the loss function and decides which why is \"warmer\" or \"colder\" depending on the increase of the loss function. The algorithm uses a learning rate to decide how far to take a step to the next point; Eventually it converges upon a minimum.\n",
        "\n",
        "Types of gradient descent mainly are separated by the amount of data used:\n",
        "\n",
        "**Batch Gradient Descent:**\n",
        "The standard original model that calcuates the error only after all examples have been evaluated. The batch size is the size of the training set.\n",
        "\n",
        "\n",
        "**Stochastic Gradient Desecent (SGD):**\n",
        "\n",
        "SGD updates the parameters after training each example 1 by 1. The batch size is one.\n",
        "\n",
        "\n",
        "**Mini-Batch Gradient Descent:**\n",
        "\n",
        "The training set is split into batches and is the most common type for deep learning. A mixture of batch gradient descent and SGD, mini-match gradient descent updates the parameters after a specified amount of batch size has been evaluated.\n",
        "The batch size is 1 < n < size of training set.\n",
        "\n",
        "\n",
        "The gradient descent algorithm updates the starting point as follows: \n",
        "\n",
        "$w <= w - \\alpha \\nabla\t L $\n",
        "\n",
        "where $\\alpha$ is the learning rate.\n",
        "\n"
      ]
    },
    {
      "cell_type": "markdown",
      "metadata": {
        "id": "CaIcGA3f3pJT",
        "colab_type": "text"
      },
      "source": [
        "##3. Building a Model"
      ]
    }
  ]
}