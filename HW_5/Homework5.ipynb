{
  "nbformat": 4,
  "nbformat_minor": 0,
  "metadata": {
    "colab": {
      "name": "Homework5",
      "provenance": [],
      "collapsed_sections": [],
      "authorship_tag": "ABX9TyOrSmrNHrtYR/xwtTTODy0y",
      "include_colab_link": true
    },
    "kernelspec": {
      "name": "python3",
      "display_name": "Python 3"
    }
  },
  "cells": [
    {
      "cell_type": "markdown",
      "metadata": {
        "id": "view-in-github",
        "colab_type": "text"
      },
      "source": [
        "<a href=\"https://colab.research.google.com/github/Michael-Siri/AI-CAP4630/blob/master/HW_5/Homework5.ipynb\" target=\"_parent\"><img src=\"https://colab.research.google.com/assets/colab-badge.svg\" alt=\"Open In Colab\"/></a>"
      ]
    },
    {
      "cell_type": "markdown",
      "metadata": {
        "id": "tYW_JHdVbkKT",
        "colab_type": "text"
      },
      "source": [
        "# Homework 5"
      ]
    },
    {
      "cell_type": "markdown",
      "metadata": {
        "id": "j9G1GB5YbsvL",
        "colab_type": "text"
      },
      "source": [
        "#1. General Concepts\n",
        "Sources found here at: https://pathmind.com/wiki/ai-vs-machine-learning-vs-deep-learning"
      ]
    },
    {
      "cell_type": "markdown",
      "metadata": {
        "id": "fBE8p9jpgJ5Z",
        "colab_type": "text"
      },
      "source": [
        "Artificial intelligence, machine learning and deep learning are terms often used to describe intelligent software and is commonly used interchangeably. However, machine learning is a subset of artificial intelligence and deep learning is a subset of machine learning.\n",
        "\n",
        "$AI > ML > DL$"
      ]
    },
    {
      "cell_type": "markdown",
      "metadata": {
        "id": "tfxPmfgOfYV-",
        "colab_type": "text"
      },
      "source": [
        "## Artificial Intelligence (AI)"
      ]
    },
    {
      "cell_type": "markdown",
      "metadata": {
        "id": "uw8Vf0cCgZIm",
        "colab_type": "text"
      },
      "source": [
        "A common description of Artificial Intelligence is the capability of a machine to imitate intelligent human behavior. Imitating human behavior is a very broad term and so is AI. The range of AI can begin from a pile of simple if-then statements, to a more complex algorithm.\n",
        "If the pile of if-then statements are gathered into a collection, it forms Symbolic Artificial Intelligence.\n",
        "\n",
        "Symbolic AI operates in the form of:"
      ]
    },
    {
      "cell_type": "markdown",
      "metadata": {
        "id": "bJW3b3RcU7Sx",
        "colab_type": "text"
      },
      "source": [
        "$AI =\n",
        " \\begin{matrix}\n",
        "  Input & \\cdots > & + & \\cdots & + \\\\\n",
        "    & & \\vdots &  & \\vdots & \\cdots > & Output \\\\\n",
        "  Rules & \\cdots > & + & \\cdots & +\n",
        " \\end{matrix}\n",
        "$"
      ]
    },
    {
      "cell_type": "markdown",
      "metadata": {
        "id": "il9YdSw0fYsB",
        "colab_type": "text"
      },
      "source": [
        "## Machine Learning (ML)"
      ]
    },
    {
      "cell_type": "markdown",
      "metadata": {
        "id": "PeCYrR1hgZ4T",
        "colab_type": "text"
      },
      "source": [
        "The subset of Artificial Intelligence, Machine Learning, focuses on the system that is able to modify itself without human intervention; Machine Learning is dynamic and creates rules from the input and output unlike Symbolic AI.\n",
        "ML, when exposed to new data, will attempt to minimize error and increase the accuracy of predictions as an optimization algorithm.\n",
        "\n",
        "\n",
        "Machine Learning operates in the form of:\n"
      ]
    },
    {
      "cell_type": "markdown",
      "metadata": {
        "id": "ItxXBsMmVBMl",
        "colab_type": "text"
      },
      "source": [
        "\n",
        "\n",
        " $ML =\n",
        "  \\begin{matrix}\n",
        "  Input & \\cdots > & + & \\cdots & + \\\\\n",
        "    & & \\vdots &  & \\vdots & \\cdots > & Rules \\\\\n",
        "  Output & \\cdots > & + & \\cdots & +\n",
        " \\end{matrix} $\n"
      ]
    },
    {
      "cell_type": "markdown",
      "metadata": {
        "id": "W866jRddfZAi",
        "colab_type": "text"
      },
      "source": [
        "##Deep Learning (DL)"
      ]
    },
    {
      "cell_type": "markdown",
      "metadata": {
        "id": "U_gKPnqZfZdU",
        "colab_type": "text"
      },
      "source": [
        "As a subset of Machine learning, Deep Learning utilizes neural networks, or set of algorithms designed to recognize certain patterns. DL attemps to map it's inputs to outputs and finds a correlation in the process of learning; Deep also refers to the number of layers in a neural network.\n",
        "\n",
        "\n",
        "*   \"a field of study that gives computers the ability to learn without being explicitly programmed\" - Arthur Samuel\n",
        "\n",
        "\n",
        "\n",
        "\n",
        "\n",
        "\n",
        "\n"
      ]
    },
    {
      "cell_type": "code",
      "metadata": {
        "id": "H1I9-rrWlCep",
        "colab_type": "code",
        "colab": {}
      },
      "source": [
        ""
      ],
      "execution_count": 0,
      "outputs": []
    }
  ]
}