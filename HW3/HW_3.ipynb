{
  "nbformat": 4,
  "nbformat_minor": 0,
  "metadata": {
    "colab": {
      "name": "HW_3.ipynb",
      "provenance": [],
      "collapsed_sections": [],
      "include_colab_link": true
    },
    "kernelspec": {
      "name": "python3",
      "display_name": "Python 3"
    }
  },
  "cells": [
    {
      "cell_type": "markdown",
      "metadata": {
        "id": "view-in-github",
        "colab_type": "text"
      },
      "source": [
        "<a href=\"https://colab.research.google.com/github/Michael-Siri/AI-CAP4630/blob/master/HW3/HW_3.ipynb\" target=\"_parent\"><img src=\"https://colab.research.google.com/assets/colab-badge.svg\" alt=\"Open In Colab\"/></a>"
      ]
    },
    {
      "cell_type": "markdown",
      "metadata": {
        "id": "2LI7_tez-nHG",
        "colab_type": "text"
      },
      "source": [
        "Michael Siripongpibul \n",
        "CAP4630"
      ]
    },
    {
      "cell_type": "code",
      "metadata": {
        "id": "VwGpiCeL9Chi",
        "colab_type": "code",
        "colab": {}
      },
      "source": [
        "import random\n",
        "import numpy as np\n",
        "import matplotlib as mpl\n",
        "import matplotlib.pyplot as plt\n",
        "from mpl_toolkits import mplot3d\n",
        "\n",
        "%tensorflow_version 2.x\n",
        "from tensorflow.keras import models\n",
        "from tensorflow.keras import layers\n",
        "import tensorflow as tf\n",
        "\n"
      ],
      "execution_count": 0,
      "outputs": []
    },
    {
      "cell_type": "markdown",
      "metadata": {
        "id": "0J6HB8qLjxwC",
        "colab_type": "text"
      },
      "source": [
        "# Question 1 Generate and Display Random Data\n",
        "\n",
        " The get_random_data function takes in 5 parameters of w,b,mu,sigma, and m. Where sigma is the standard deviation and mu is the mean; The function returns array data of shape (m, 2) and the array labels of shape (m, 1). "
      ]
    },
    {
      "cell_type": "code",
      "metadata": {
        "id": "-6JiKU-J-6iL",
        "colab_type": "code",
        "colab": {}
      },
      "source": [
        "def get_random_data(w,b,mu,sigma,m):\n",
        "  # np.random.seed(1)\n",
        "  labels = []\n",
        "  data = []\n",
        "  \n",
        "  for x in range(0, m):\n",
        "    labels.append(np.random.choice([0,1]))\n",
        "  for x in range(0,m):\n",
        "    c = labels[x]\n",
        "    n = np.random.default_rng().normal(mu, sigma, 1)\n",
        "    x_1 = random.uniform(0,1)\n",
        "    filler = w * x_1 + b + (-1)**c * n\n",
        "    x_2 = filler[0]\n",
        "    data.append((x_1,x_2))\n",
        "  return data, labels\n",
        "\n",
        "\n"
      ],
      "execution_count": 0,
      "outputs": []
    },
    {
      "cell_type": "markdown",
      "metadata": {
        "id": "b8mUAibf06mI",
        "colab_type": "text"
      },
      "source": [
        "display_random_Data takes parameters of arrays labels and data to create a scatterplot of points in data."
      ]
    },
    {
      "cell_type": "code",
      "metadata": {
        "id": "HFi5kGAoNi1T",
        "colab_type": "code",
        "outputId": "56eb6d1d-9a1e-4df7-cbdc-d5abf6263d3e",
        "colab": {
          "base_uri": "https://localhost:8080/",
          "height": 265
        }
      },
      "source": [
        "def display_random_data(data, labels, x_new, y_new, old_x, old_y, x1_w, x2_w):\n",
        "  fig2 = plt.figure()\n",
        "  ax = plt #.axes(projection='3d')\n",
        "  xs = [x[0] for x in data]\n",
        "  ys = [x[1] for x in data]\n",
        "  # ax.scatter3D(xs, ys)\n",
        "  for x in range(0,len(labels)):\n",
        "    if labels[x] == 1:\n",
        "      ax.scatter(xs[x],ys[x], color = 'r')\n",
        "    else:\n",
        "      ax.scatter(xs[x],ys[x], color = 'b')\n",
        "  ax.plot(x_new, y_new, color='green', label =\"Predicted\")\n",
        "  ax.plot(old_x, old_y, color='yellow', label =\"Actual\")\n",
        "  x_h = np.linspace(0,1,3)\n",
        "  plt.plot(x_h, x_h*x1_w + x2_w, color = 'black')\n",
        "  ax.legend()\n",
        "  ax.plot()\n",
        "\n",
        "\n",
        "data, labels = get_random_data(3,3,1,1,1000)\n",
        "display_random_data(data, labels, 0, 0, 0, 0, 0 , 0)"
      ],
      "execution_count": 3,
      "outputs": [
        {
          "output_type": "display_data",
          "data": {
            "image/png": "[encoded data removed]",
            "text/plain": [
              "<Figure size 432x288 with 1 Axes>"
            ]
          },
          "metadata": {
            "tags": [],
            "needs_background": "light"
          }
        }
      ]
    },
    {
      "cell_type": "markdown",
      "metadata": {
        "id": "h-FSfv2PkIUY",
        "colab_type": "text"
      },
      "source": [
        "# Question 2 Logistic Regression with Keras"
      ]
    },
    {
      "cell_type": "markdown",
      "metadata": {
        "id": "qnZHebPH1TV6",
        "colab_type": "text"
      },
      "source": [
        "Splits the data generated in question 1 and uses keras to implement logistic regression with two included features. Then plots 2 lines separating the blue and red dots; One is the actual and the other is predicted by logistic regression."
      ]
    },
    {
      "cell_type": "code",
      "metadata": {
        "id": "daUZXxCmkO22",
        "colab_type": "code",
        "outputId": "e7ec8721-7946-44bd-b7a1-e44723eb7a5f",
        "colab": {
          "base_uri": "https://localhost:8080/",
          "height": 1000
        }
      },
      "source": [
        "#Splitting the data into a training set and a validation set\n",
        "# training set\n",
        "train_data = data[:800]\n",
        "train_labels = labels[:800]\n",
        "train_data = np.array(train_data)\n",
        "train_labels = np.array(train_labels)\n",
        "\n",
        "# test set\n",
        "test_data = data[800:]\n",
        "test_labels = labels[800:]\n",
        "test_data = np.array(test_data)\n",
        "test_labels = np.array(test_labels)\n",
        "\n",
        "#Creating the model\n",
        "network = models.Sequential()\n",
        "network.add(layers.Dense(1, activation = 'sigmoid', input_shape=(2,)))\n",
        "\n",
        "#Training\n",
        "network.compile(optimizer=tf.keras.optimizers.RMSprop(lr=0.01), loss='binary_crossentropy', metrics=['accuracy'])\n",
        "network.fit(train_data, train_labels, epochs=100, validation_data=(test_data, test_labels))"
      ],
      "execution_count": 4,
      "outputs": [
        {
          "output_type": "stream",
          "text": [
            "Epoch 1/100\n",
            "25/25 [==============================] - 0s 9ms/step - loss: 2.0255 - accuracy: 0.5025 - val_loss: 1.8175 - val_accuracy: 0.5050\n",
            "Epoch 2/100\n",
            "25/25 [==============================] - 0s 3ms/step - loss: 1.4171 - accuracy: 0.5088 - val_loss: 1.2387 - val_accuracy: 0.5050\n",
            "Epoch 3/100\n",
            "25/25 [==============================] - 0s 3ms/step - loss: 0.9438 - accuracy: 0.5263 - val_loss: 0.8010 - val_accuracy: 0.5200\n",
            "Epoch 4/100\n",
            "25/25 [==============================] - 0s 3ms/step - loss: 0.6353 - accuracy: 0.6050 - val_loss: 0.6007 - val_accuracy: 0.6200\n",
            "Epoch 5/100\n",
            "25/25 [==============================] - 0s 3ms/step - loss: 0.5555 - accuracy: 0.7450 - val_loss: 0.5791 - val_accuracy: 0.7550\n",
            "Epoch 6/100\n",
            "25/25 [==============================] - 0s 2ms/step - loss: 0.5408 - accuracy: 0.8138 - val_loss: 0.5703 - val_accuracy: 0.7550\n",
            "Epoch 7/100\n",
            "25/25 [==============================] - 0s 3ms/step - loss: 0.5269 - accuracy: 0.8163 - val_loss: 0.5597 - val_accuracy: 0.7650\n",
            "Epoch 8/100\n",
            "25/25 [==============================] - 0s 2ms/step - loss: 0.5161 - accuracy: 0.8188 - val_loss: 0.5517 - val_accuracy: 0.7700\n",
            "Epoch 9/100\n",
            "25/25 [==============================] - 0s 2ms/step - loss: 0.5040 - accuracy: 0.8188 - val_loss: 0.5451 - val_accuracy: 0.7900\n",
            "Epoch 10/100\n",
            "25/25 [==============================] - 0s 2ms/step - loss: 0.4950 - accuracy: 0.8325 - val_loss: 0.5376 - val_accuracy: 0.7700\n",
            "Epoch 11/100\n",
            "25/25 [==============================] - 0s 2ms/step - loss: 0.4864 - accuracy: 0.8250 - val_loss: 0.5319 - val_accuracy: 0.7650\n",
            "Epoch 12/100\n",
            "25/25 [==============================] - 0s 2ms/step - loss: 0.4773 - accuracy: 0.8325 - val_loss: 0.5262 - val_accuracy: 0.7800\n",
            "Epoch 13/100\n",
            "25/25 [==============================] - 0s 3ms/step - loss: 0.4707 - accuracy: 0.8338 - val_loss: 0.5214 - val_accuracy: 0.7750\n",
            "Epoch 14/100\n",
            "25/25 [==============================] - 0s 3ms/step - loss: 0.4635 - accuracy: 0.8350 - val_loss: 0.5173 - val_accuracy: 0.7800\n",
            "Epoch 15/100\n",
            "25/25 [==============================] - 0s 3ms/step - loss: 0.4574 - accuracy: 0.8313 - val_loss: 0.5137 - val_accuracy: 0.7800\n",
            "Epoch 16/100\n",
            "25/25 [==============================] - 0s 2ms/step - loss: 0.4502 - accuracy: 0.8388 - val_loss: 0.5097 - val_accuracy: 0.7850\n",
            "Epoch 17/100\n",
            "25/25 [==============================] - 0s 3ms/step - loss: 0.4460 - accuracy: 0.8413 - val_loss: 0.5067 - val_accuracy: 0.7850\n",
            "Epoch 18/100\n",
            "25/25 [==============================] - 0s 2ms/step - loss: 0.4400 - accuracy: 0.8388 - val_loss: 0.5041 - val_accuracy: 0.7800\n",
            "Epoch 19/100\n",
            "25/25 [==============================] - 0s 3ms/step - loss: 0.4354 - accuracy: 0.8388 - val_loss: 0.5009 - val_accuracy: 0.7850\n",
            "Epoch 20/100\n",
            "25/25 [==============================] - 0s 2ms/step - loss: 0.4291 - accuracy: 0.8400 - val_loss: 0.4994 - val_accuracy: 0.7700\n",
            "Epoch 21/100\n",
            "25/25 [==============================] - 0s 3ms/step - loss: 0.4257 - accuracy: 0.8400 - val_loss: 0.4952 - val_accuracy: 0.7850\n",
            "Epoch 22/100\n",
            "25/25 [==============================] - 0s 3ms/step - loss: 0.4207 - accuracy: 0.8388 - val_loss: 0.4933 - val_accuracy: 0.7800\n",
            "Epoch 23/100\n",
            "25/25 [==============================] - 0s 3ms/step - loss: 0.4172 - accuracy: 0.8313 - val_loss: 0.4909 - val_accuracy: 0.7800\n",
            "Epoch 24/100\n",
            "25/25 [==============================] - 0s 2ms/step - loss: 0.4140 - accuracy: 0.8350 - val_loss: 0.4903 - val_accuracy: 0.7900\n",
            "Epoch 25/100\n",
            "25/25 [==============================] - 0s 2ms/step - loss: 0.4116 - accuracy: 0.8388 - val_loss: 0.4882 - val_accuracy: 0.7900\n",
            "Epoch 26/100\n",
            "25/25 [==============================] - 0s 3ms/step - loss: 0.4076 - accuracy: 0.8413 - val_loss: 0.4913 - val_accuracy: 0.7850\n",
            "Epoch 27/100\n",
            "25/25 [==============================] - 0s 2ms/step - loss: 0.4064 - accuracy: 0.8413 - val_loss: 0.4859 - val_accuracy: 0.7900\n",
            "Epoch 28/100\n",
            "25/25 [==============================] - 0s 2ms/step - loss: 0.4037 - accuracy: 0.8425 - val_loss: 0.4855 - val_accuracy: 0.7950\n",
            "Epoch 29/100\n",
            "25/25 [==============================] - 0s 3ms/step - loss: 0.4019 - accuracy: 0.8413 - val_loss: 0.4841 - val_accuracy: 0.7900\n",
            "Epoch 30/100\n",
            "25/25 [==============================] - 0s 2ms/step - loss: 0.3995 - accuracy: 0.8350 - val_loss: 0.4832 - val_accuracy: 0.7950\n",
            "Epoch 31/100\n",
            "25/25 [==============================] - 0s 2ms/step - loss: 0.3966 - accuracy: 0.8462 - val_loss: 0.4821 - val_accuracy: 0.7900\n",
            "Epoch 32/100\n",
            "25/25 [==============================] - 0s 3ms/step - loss: 0.3944 - accuracy: 0.8413 - val_loss: 0.4820 - val_accuracy: 0.7900\n",
            "Epoch 33/100\n",
            "25/25 [==============================] - 0s 3ms/step - loss: 0.3937 - accuracy: 0.8425 - val_loss: 0.4810 - val_accuracy: 0.7950\n",
            "Epoch 34/100\n",
            "25/25 [==============================] - 0s 3ms/step - loss: 0.3914 - accuracy: 0.8475 - val_loss: 0.4801 - val_accuracy: 0.7750\n",
            "Epoch 35/100\n",
            "25/25 [==============================] - 0s 3ms/step - loss: 0.3906 - accuracy: 0.8350 - val_loss: 0.4802 - val_accuracy: 0.7950\n",
            "Epoch 36/100\n",
            "25/25 [==============================] - 0s 2ms/step - loss: 0.3885 - accuracy: 0.8400 - val_loss: 0.4811 - val_accuracy: 0.8000\n",
            "Epoch 37/100\n",
            "25/25 [==============================] - 0s 3ms/step - loss: 0.3871 - accuracy: 0.8400 - val_loss: 0.4796 - val_accuracy: 0.7850\n",
            "Epoch 38/100\n",
            "25/25 [==============================] - 0s 2ms/step - loss: 0.3844 - accuracy: 0.8450 - val_loss: 0.4854 - val_accuracy: 0.7800\n",
            "Epoch 39/100\n",
            "25/25 [==============================] - 0s 2ms/step - loss: 0.3856 - accuracy: 0.8487 - val_loss: 0.4787 - val_accuracy: 0.7850\n",
            "Epoch 40/100\n",
            "25/25 [==============================] - 0s 3ms/step - loss: 0.3844 - accuracy: 0.8400 - val_loss: 0.4798 - val_accuracy: 0.7950\n",
            "Epoch 41/100\n",
            "25/25 [==============================] - 0s 3ms/step - loss: 0.3838 - accuracy: 0.8413 - val_loss: 0.4799 - val_accuracy: 0.7950\n",
            "Epoch 42/100\n",
            "25/25 [==============================] - 0s 3ms/step - loss: 0.3819 - accuracy: 0.8425 - val_loss: 0.4787 - val_accuracy: 0.7900\n",
            "Epoch 43/100\n",
            "25/25 [==============================] - 0s 3ms/step - loss: 0.3815 - accuracy: 0.8438 - val_loss: 0.4782 - val_accuracy: 0.7800\n",
            "Epoch 44/100\n",
            "25/25 [==============================] - 0s 3ms/step - loss: 0.3807 - accuracy: 0.8363 - val_loss: 0.4783 - val_accuracy: 0.7900\n",
            "Epoch 45/100\n",
            "25/25 [==============================] - 0s 2ms/step - loss: 0.3793 - accuracy: 0.8450 - val_loss: 0.4780 - val_accuracy: 0.7800\n",
            "Epoch 46/100\n",
            "25/25 [==============================] - 0s 2ms/step - loss: 0.3791 - accuracy: 0.8438 - val_loss: 0.4793 - val_accuracy: 0.7950\n",
            "Epoch 47/100\n",
            "25/25 [==============================] - 0s 3ms/step - loss: 0.3765 - accuracy: 0.8462 - val_loss: 0.4792 - val_accuracy: 0.7750\n",
            "Epoch 48/100\n",
            "25/25 [==============================] - 0s 3ms/step - loss: 0.3782 - accuracy: 0.8450 - val_loss: 0.4785 - val_accuracy: 0.8000\n",
            "Epoch 49/100\n",
            "25/25 [==============================] - 0s 2ms/step - loss: 0.3776 - accuracy: 0.8413 - val_loss: 0.4781 - val_accuracy: 0.7900\n",
            "Epoch 50/100\n",
            "25/25 [==============================] - 0s 2ms/step - loss: 0.3756 - accuracy: 0.8438 - val_loss: 0.4782 - val_accuracy: 0.7800\n",
            "Epoch 51/100\n",
            "25/25 [==============================] - 0s 2ms/step - loss: 0.3752 - accuracy: 0.8438 - val_loss: 0.4814 - val_accuracy: 0.7850\n",
            "Epoch 52/100\n",
            "25/25 [==============================] - 0s 2ms/step - loss: 0.3759 - accuracy: 0.8388 - val_loss: 0.4829 - val_accuracy: 0.7800\n",
            "Epoch 53/100\n",
            "25/25 [==============================] - 0s 3ms/step - loss: 0.3751 - accuracy: 0.8438 - val_loss: 0.4799 - val_accuracy: 0.8000\n",
            "Epoch 54/100\n",
            "25/25 [==============================] - 0s 2ms/step - loss: 0.3746 - accuracy: 0.8450 - val_loss: 0.4786 - val_accuracy: 0.7900\n",
            "Epoch 55/100\n",
            "25/25 [==============================] - 0s 2ms/step - loss: 0.3743 - accuracy: 0.8450 - val_loss: 0.4800 - val_accuracy: 0.8000\n",
            "Epoch 56/100\n",
            "25/25 [==============================] - 0s 2ms/step - loss: 0.3738 - accuracy: 0.8413 - val_loss: 0.4792 - val_accuracy: 0.7950\n",
            "Epoch 57/100\n",
            "25/25 [==============================] - 0s 2ms/step - loss: 0.3726 - accuracy: 0.8450 - val_loss: 0.4786 - val_accuracy: 0.7800\n",
            "Epoch 58/100\n",
            "25/25 [==============================] - 0s 3ms/step - loss: 0.3737 - accuracy: 0.8475 - val_loss: 0.4781 - val_accuracy: 0.7850\n",
            "Epoch 59/100\n",
            "25/25 [==============================] - 0s 2ms/step - loss: 0.3726 - accuracy: 0.8425 - val_loss: 0.4800 - val_accuracy: 0.7950\n",
            "Epoch 60/100\n",
            "25/25 [==============================] - 0s 2ms/step - loss: 0.3726 - accuracy: 0.8413 - val_loss: 0.4790 - val_accuracy: 0.7900\n",
            "Epoch 61/100\n",
            "25/25 [==============================] - 0s 2ms/step - loss: 0.3714 - accuracy: 0.8425 - val_loss: 0.4789 - val_accuracy: 0.7950\n",
            "Epoch 62/100\n",
            "25/25 [==============================] - 0s 3ms/step - loss: 0.3718 - accuracy: 0.8413 - val_loss: 0.4796 - val_accuracy: 0.7900\n",
            "Epoch 63/100\n",
            "25/25 [==============================] - 0s 2ms/step - loss: 0.3708 - accuracy: 0.8425 - val_loss: 0.4819 - val_accuracy: 0.7850\n",
            "Epoch 64/100\n",
            "25/25 [==============================] - 0s 2ms/step - loss: 0.3711 - accuracy: 0.8462 - val_loss: 0.4803 - val_accuracy: 0.7950\n",
            "Epoch 65/100\n",
            "25/25 [==============================] - 0s 3ms/step - loss: 0.3703 - accuracy: 0.8400 - val_loss: 0.4792 - val_accuracy: 0.7950\n",
            "Epoch 66/100\n",
            "25/25 [==============================] - 0s 2ms/step - loss: 0.3695 - accuracy: 0.8462 - val_loss: 0.4842 - val_accuracy: 0.7800\n",
            "Epoch 67/100\n",
            "25/25 [==============================] - 0s 2ms/step - loss: 0.3702 - accuracy: 0.8413 - val_loss: 0.4792 - val_accuracy: 0.7850\n",
            "Epoch 68/100\n",
            "25/25 [==============================] - 0s 3ms/step - loss: 0.3706 - accuracy: 0.8487 - val_loss: 0.4798 - val_accuracy: 0.7950\n",
            "Epoch 69/100\n",
            "25/25 [==============================] - 0s 2ms/step - loss: 0.3694 - accuracy: 0.8438 - val_loss: 0.4799 - val_accuracy: 0.7900\n",
            "Epoch 70/100\n",
            "25/25 [==============================] - 0s 3ms/step - loss: 0.3691 - accuracy: 0.8438 - val_loss: 0.4813 - val_accuracy: 0.7950\n",
            "Epoch 71/100\n",
            "25/25 [==============================] - 0s 3ms/step - loss: 0.3692 - accuracy: 0.8462 - val_loss: 0.4811 - val_accuracy: 0.7900\n",
            "Epoch 72/100\n",
            "25/25 [==============================] - 0s 2ms/step - loss: 0.3689 - accuracy: 0.8462 - val_loss: 0.4808 - val_accuracy: 0.7950\n",
            "Epoch 73/100\n",
            "25/25 [==============================] - 0s 3ms/step - loss: 0.3688 - accuracy: 0.8388 - val_loss: 0.4816 - val_accuracy: 0.7950\n",
            "Epoch 74/100\n",
            "25/25 [==============================] - 0s 2ms/step - loss: 0.3682 - accuracy: 0.8400 - val_loss: 0.4823 - val_accuracy: 0.8000\n",
            "Epoch 75/100\n",
            "25/25 [==============================] - 0s 2ms/step - loss: 0.3684 - accuracy: 0.8475 - val_loss: 0.4810 - val_accuracy: 0.7950\n",
            "Epoch 76/100\n",
            "25/25 [==============================] - 0s 3ms/step - loss: 0.3690 - accuracy: 0.8438 - val_loss: 0.4801 - val_accuracy: 0.7950\n",
            "Epoch 77/100\n",
            "25/25 [==============================] - 0s 3ms/step - loss: 0.3684 - accuracy: 0.8462 - val_loss: 0.4807 - val_accuracy: 0.7950\n",
            "Epoch 78/100\n",
            "25/25 [==============================] - 0s 2ms/step - loss: 0.3676 - accuracy: 0.8425 - val_loss: 0.4849 - val_accuracy: 0.7800\n",
            "Epoch 79/100\n",
            "25/25 [==============================] - 0s 2ms/step - loss: 0.3677 - accuracy: 0.8462 - val_loss: 0.4851 - val_accuracy: 0.7800\n",
            "Epoch 80/100\n",
            "25/25 [==============================] - 0s 3ms/step - loss: 0.3681 - accuracy: 0.8413 - val_loss: 0.4843 - val_accuracy: 0.7850\n",
            "Epoch 81/100\n",
            "25/25 [==============================] - 0s 2ms/step - loss: 0.3685 - accuracy: 0.8438 - val_loss: 0.4835 - val_accuracy: 0.7900\n",
            "Epoch 82/100\n",
            "25/25 [==============================] - 0s 2ms/step - loss: 0.3669 - accuracy: 0.8438 - val_loss: 0.4809 - val_accuracy: 0.7950\n",
            "Epoch 83/100\n",
            "25/25 [==============================] - 0s 3ms/step - loss: 0.3666 - accuracy: 0.8413 - val_loss: 0.4813 - val_accuracy: 0.7800\n",
            "Epoch 84/100\n",
            "25/25 [==============================] - 0s 2ms/step - loss: 0.3672 - accuracy: 0.8438 - val_loss: 0.4836 - val_accuracy: 0.7950\n",
            "Epoch 85/100\n",
            "25/25 [==============================] - 0s 2ms/step - loss: 0.3676 - accuracy: 0.8425 - val_loss: 0.4815 - val_accuracy: 0.7900\n",
            "Epoch 86/100\n",
            "25/25 [==============================] - 0s 3ms/step - loss: 0.3677 - accuracy: 0.8450 - val_loss: 0.4824 - val_accuracy: 0.7900\n",
            "Epoch 87/100\n",
            "25/25 [==============================] - 0s 2ms/step - loss: 0.3664 - accuracy: 0.8462 - val_loss: 0.4829 - val_accuracy: 0.7950\n",
            "Epoch 88/100\n",
            "25/25 [==============================] - 0s 3ms/step - loss: 0.3675 - accuracy: 0.8400 - val_loss: 0.4829 - val_accuracy: 0.7950\n",
            "Epoch 89/100\n",
            "25/25 [==============================] - 0s 3ms/step - loss: 0.3670 - accuracy: 0.8425 - val_loss: 0.4831 - val_accuracy: 0.7950\n",
            "Epoch 90/100\n",
            "25/25 [==============================] - 0s 3ms/step - loss: 0.3672 - accuracy: 0.8450 - val_loss: 0.4823 - val_accuracy: 0.7950\n",
            "Epoch 91/100\n",
            "25/25 [==============================] - 0s 2ms/step - loss: 0.3659 - accuracy: 0.8388 - val_loss: 0.4816 - val_accuracy: 0.7850\n",
            "Epoch 92/100\n",
            "25/25 [==============================] - 0s 3ms/step - loss: 0.3666 - accuracy: 0.8450 - val_loss: 0.4818 - val_accuracy: 0.7900\n",
            "Epoch 93/100\n",
            "25/25 [==============================] - 0s 3ms/step - loss: 0.3669 - accuracy: 0.8375 - val_loss: 0.4844 - val_accuracy: 0.8000\n",
            "Epoch 94/100\n",
            "25/25 [==============================] - 0s 3ms/step - loss: 0.3671 - accuracy: 0.8425 - val_loss: 0.4848 - val_accuracy: 0.7900\n",
            "Epoch 95/100\n",
            "25/25 [==============================] - 0s 3ms/step - loss: 0.3662 - accuracy: 0.8450 - val_loss: 0.4845 - val_accuracy: 0.8000\n",
            "Epoch 96/100\n",
            "25/25 [==============================] - 0s 2ms/step - loss: 0.3668 - accuracy: 0.8450 - val_loss: 0.4841 - val_accuracy: 0.8000\n",
            "Epoch 97/100\n",
            "25/25 [==============================] - 0s 3ms/step - loss: 0.3662 - accuracy: 0.8425 - val_loss: 0.4861 - val_accuracy: 0.7850\n",
            "Epoch 98/100\n",
            "25/25 [==============================] - 0s 3ms/step - loss: 0.3657 - accuracy: 0.8425 - val_loss: 0.4826 - val_accuracy: 0.7900\n",
            "Epoch 99/100\n",
            "25/25 [==============================] - 0s 3ms/step - loss: 0.3661 - accuracy: 0.8450 - val_loss: 0.4846 - val_accuracy: 0.8000\n",
            "Epoch 100/100\n",
            "25/25 [==============================] - 0s 3ms/step - loss: 0.3661 - accuracy: 0.8438 - val_loss: 0.4829 - val_accuracy: 0.7950\n"
          ],
          "name": "stdout"
        },
        {
          "output_type": "execute_result",
          "data": {
            "text/plain": [
              "<tensorflow.python.keras.callbacks.History at 0x7f187a883780>"
            ]
          },
          "metadata": {
            "tags": []
          },
          "execution_count": 4
        }
      ]
    },
    {
      "cell_type": "markdown",
      "metadata": {
        "id": "sKtt9qjwnB9_",
        "colab_type": "text"
      },
      "source": [
        "# Model Accuracy"
      ]
    },
    {
      "cell_type": "code",
      "metadata": {
        "id": "grezwQ4u0QJH",
        "colab_type": "code",
        "outputId": "22d78b20-fb74-432d-ebfa-5e5e8d688d7c",
        "colab": {
          "base_uri": "https://localhost:8080/",
          "height": 34
        }
      },
      "source": [
        "test_loss, test_acc = network.evaluate(test_data, test_labels)\n"
      ],
      "execution_count": 5,
      "outputs": [
        {
          "output_type": "stream",
          "text": [
            "7/7 [==============================] - 0s 1ms/step - loss: 0.4829 - accuracy: 0.7950\n"
          ],
          "name": "stdout"
        }
      ]
    },
    {
      "cell_type": "code",
      "metadata": {
        "id": "6GYQrXAl0Flo",
        "colab_type": "code",
        "outputId": "bce063da-f7ae-405f-e533-e0a04c96c0d5",
        "colab": {
          "base_uri": "https://localhost:8080/",
          "height": 34
        }
      },
      "source": [
        "\n",
        "test_acc\n"
      ],
      "execution_count": 6,
      "outputs": [
        {
          "output_type": "execute_result",
          "data": {
            "text/plain": [
              "0.7950000166893005"
            ]
          },
          "metadata": {
            "tags": []
          },
          "execution_count": 6
        }
      ]
    },
    {
      "cell_type": "code",
      "metadata": {
        "id": "p3h0F1fe0J5r",
        "colab_type": "code",
        "outputId": "34295900-4510-4d3e-bf68-b33fd9249bd2",
        "colab": {
          "base_uri": "https://localhost:8080/",
          "height": 34
        }
      },
      "source": [
        "test_loss\n"
      ],
      "execution_count": 7,
      "outputs": [
        {
          "output_type": "execute_result",
          "data": {
            "text/plain": [
              "0.48285895586013794"
            ]
          },
          "metadata": {
            "tags": []
          },
          "execution_count": 7
        }
      ]
    },
    {
      "cell_type": "markdown",
      "metadata": {
        "id": "faA42I8pnMjn",
        "colab_type": "text"
      },
      "source": [
        "Showing predicted Line and the actual line\n",
        "\n",
        "Actual line:\n",
        "\n",
        "$Y = w*x+b$\n",
        "\n",
        "Predicted Line:\n",
        "\n",
        "$Y = -\\frac{b/w2}{b/w1} -\\frac{b}{w2}$"
      ]
    },
    {
      "cell_type": "code",
      "metadata": {
        "id": "snDlSQM00Moi",
        "colab_type": "code",
        "outputId": "2d509724-b370-43b2-e21f-d595c17a49e5",
        "colab": {
          "base_uri": "https://localhost:8080/",
          "height": 265
        }
      },
      "source": [
        "#obtain the separating line determined by the model by extracting the weights from the dense layer using the function get_weights\n",
        "x = np.linspace(0, 1, 100)\n",
        "weights = network.layers[0].get_weights()\n",
        "#bias\n",
        "b = weights[1][0]\n",
        "#weights\n",
        "x1_w = weights[0][0][0]\n",
        "x2_w = weights[0][1][0]\n",
        "#calculations\n",
        "y = (-b/x2_w) + ((-b/x2_w)/(b/x1_w)) * x\n",
        "old_x = np.array(range(0, 2))\n",
        "old_y = 3 * old_x + 3\n",
        "\n",
        "display_random_data(data, labels, x,y, old_x, old_y,0 ,0)\n",
        "\n"
      ],
      "execution_count": 8,
      "outputs": [
        {
          "output_type": "display_data",
          "data": {
            "image/png": "[encoded data removed]",
            "text/plain": [
              "<Figure size 432x288 with 1 Axes>"
            ]
          },
          "metadata": {
            "tags": [],
            "needs_background": "light"
          }
        }
      ]
    },
    {
      "cell_type": "markdown",
      "metadata": {
        "id": "WLHqEn2czacl",
        "colab_type": "text"
      },
      "source": [
        "The predicted line is a bit hard to see behind the yellow line"
      ]
    },
    {
      "cell_type": "markdown",
      "metadata": {
        "id": "TRy-KDl61Oeh",
        "colab_type": "text"
      },
      "source": [
        "# HeatMap Visualization of model\n",
        "to visualize $f: R^2 -> R$ "
      ]
    },
    {
      "cell_type": "code",
      "metadata": {
        "id": "VOURhwTW0SrW",
        "colab_type": "code",
        "outputId": "12067db5-cec2-4b47-c3fe-bf89fa0d7e89",
        "colab": {
          "base_uri": "https://localhost:8080/",
          "height": 301
        }
      },
      "source": [
        "x_h = np.linspace( 0, 1, 100)\n",
        "y_h = np.linspace( 1, 6, 100)\n",
        "X,Y = np.meshgrid(x_h,y_h)\n",
        "# Y = np.meshgrid(y_h)\n",
        "z = network.predict(np.c_[X.flatten(),Y.flatten()])\n",
        "z = z.reshape((100,100))\n",
        "plt.contourf(X,Y,z,50)\n",
        "plt.colorbar()\n",
        "plt.xlabel('X_1')\n",
        "plt.ylabel('X_2')"
      ],
      "execution_count": 9,
      "outputs": [
        {
          "output_type": "execute_result",
          "data": {
            "text/plain": [
              "Text(0, 0.5, 'X_2')"
            ]
          },
          "metadata": {
            "tags": []
          },
          "execution_count": 9
        },
        {
          "output_type": "display_data",
          "data": {
            "image/png": "[encoded data removed]",
            "text/plain": [
              "<Figure size 432x288 with 2 Axes>"
            ]
          },
          "metadata": {
            "tags": [],
            "needs_background": "light"
          }
        }
      ]
    },
    {
      "cell_type": "markdown",
      "metadata": {
        "id": "JlvpeCctIKz6",
        "colab_type": "text"
      },
      "source": [
        "# Question 3 Using numpy to implement logistic regression\n",
        "# Unfinished"
      ]
    },
    {
      "cell_type": "code",
      "metadata": {
        "id": "bq-TpKdp6toG",
        "colab_type": "code",
        "colab": {}
      },
      "source": [
        "#Source https://github.com/schneider128k/machine_learning_course/blob/master/linear_regression_gradient_descent.ipynb\n",
        "#Source https://github.com/schneider128k/machine_learning_course/blob/master/slides/logistic_regression.pdf"
      ],
      "execution_count": 0,
      "outputs": []
    },
    {
      "cell_type": "markdown",
      "metadata": {
        "id": "Jc0v22nVXRgK",
        "colab_type": "text"
      },
      "source": [
        "Sigmoid function: \n",
        "\n",
        "$=\\frac{1}{1+e^-z}$\n",
        "\n",
        "Binary cross-entropy loss function:\n",
        "\n",
        "$=-y log a - (1-y)log(1-a)$\n",
        "\n",
        "\n"
      ]
    },
    {
      "cell_type": "code",
      "metadata": {
        "id": "cdokT5NnUQRo",
        "colab_type": "code",
        "colab": {}
      },
      "source": [
        "def sigmoid(x):\n",
        "  res = 1/(1+np.exp(x))\n",
        "  return res"
      ],
      "execution_count": 0,
      "outputs": []
    },
    {
      "cell_type": "code",
      "metadata": {
        "id": "2xn8SDldV3fv",
        "colab_type": "code",
        "colab": {}
      },
      "source": [
        "def bce(y, a):\n",
        "  res = -y*np.log10(a)-(1-y)*np.log10(1-a)\n",
        "  return res\n",
        "\n"
      ],
      "execution_count": 0,
      "outputs": []
    },
    {
      "cell_type": "code",
      "metadata": {
        "id": "logwraQhJmF2",
        "colab_type": "code",
        "outputId": "dad66228-aa12-496d-d376-85a0f56721c4",
        "colab": {
          "base_uri": "https://localhost:8080/",
          "height": 265
        }
      },
      "source": [
        "epoches= 200\n",
        "lr = .01\n",
        "b_size = 800\n",
        "weights = np.random.rand(3,1)\n",
        "X_b = np.column_stack((train_data,np.ones(shape = (b_size, 1))))\n",
        "weight_path_mgd = []\n",
        "weight_path_mgd.append(weights)\n",
        "\n",
        "\n",
        "for epoch in range(epoches):\n",
        "  # shuffled_indices = np.random.permutation()\n",
        "  # X_b_shuffled = train_data[shuffled_indices]\n",
        "  # y_shuffled = y[shuffled_indices]\n",
        "  for i in range(b_size):\n",
        "    z= np.dot(X_b[i],weights)\n",
        "    a= sigmoid(z)\n",
        "        # gradient = 1 / batch_size * xi.T.dot(xi.dot(weight) - yi)\n",
        "        # weight = weight - lr * gradient\n",
        "    # gradient = 1/b_size * X_b.T.dot(X_b.dot(weights)-labels)\n",
        "    gradient = 1/b_size * (X_b[i]*(a-labels[i])).T\n",
        "    weights = weights-lr*gradient\n",
        "\n",
        "#bias\n",
        "b = weights[1][0]\n",
        "#weights\n",
        "x1_w = weights[0]/weights[1]\n",
        "#calculations\n",
        "# y = (-b/x2_w) + ((-b/x2_w)/(b/x1_w)) * x\n",
        "x2_w = -weights[2]/weights[1]\n",
        "\n",
        "old_x = np.array(range(0, 2))\n",
        "old_y = 3 * old_x + 3\n",
        "\n",
        "display_random_data(data, labels, 0,0, old_x, old_y, x1_w, x2_w)\n"
      ],
      "execution_count": 13,
      "outputs": [
        {
          "output_type": "display_data",
          "data": {
            "image/png": "[encoded data removed]",
            "text/plain": [
              "<Figure size 432x288 with 1 Axes>"
            ]
          },
          "metadata": {
            "tags": [],
            "needs_background": "light"
          }
        }
      ]
    },
    {
      "cell_type": "markdown",
      "metadata": {
        "id": "ie8dtd6RujwJ",
        "colab_type": "text"
      },
      "source": [
        "# HeatMap visual - Incomplete"
      ]
    },
    {
      "cell_type": "markdown",
      "metadata": {
        "id": "hdT_gz4JCyhb",
        "colab_type": "text"
      },
      "source": [
        "Similar to the previous heatmap but using Z values from the new numpy regression model"
      ]
    },
    {
      "cell_type": "code",
      "metadata": {
        "id": "YSsca8kauo4Z",
        "colab_type": "code",
        "outputId": "5437e433-97d7-43be-f0ee-3b6ea1842303",
        "colab": {
          "base_uri": "https://localhost:8080/",
          "height": 301
        }
      },
      "source": [
        "\n",
        "train_data2 = np.append(np.ones((train_data.shape[0],1)), train_data, axis = 1)\n",
        "# print(train_data2)\n",
        "w = np.zeros((train_data2.shape[1],1))\n",
        "# print(w)\n",
        "\n",
        "for i in range(800):\n",
        "  pred = sigmoid(np.dot(train_data2,w))\n",
        "  gradient = 1/b_size * np.dot(train_data2.transpose(),pred-train_labels)\n",
        "  w = w - (lr*gradient)\n",
        "  # loss = bce(train_labels,pred) - divided by zero error\n",
        "  # loss2 = 1/b_size * sum(loss)\n",
        "b = w[0]\n",
        "w = w[1]\n",
        "\n",
        "x_h = np.linspace( 0, .1, 100)\n",
        "y_h = np.linspace( 0, 1, 100)\n",
        "X,Y = np.meshgrid(x_h,y_h)\n",
        "z = network.predict(np.c_[X.flatten()* w[0],Y.flatten()*w[1]])\n",
        "z = z.reshape((100,100))\n",
        "plt.contourf(X,Y,z,50)\n",
        "plt.colorbar()\n",
        "plt.xlabel('X_1')\n",
        "plt.ylabel('X_2')"
      ],
      "execution_count": 14,
      "outputs": [
        {
          "output_type": "execute_result",
          "data": {
            "text/plain": [
              "Text(0, 0.5, 'X_2')"
            ]
          },
          "metadata": {
            "tags": []
          },
          "execution_count": 14
        },
        {
          "output_type": "display_data",
          "data": {
            "image/png": "[encoded data removed]",
            "text/plain": [
              "<Figure size 432x288 with 2 Axes>"
            ]
          },
          "metadata": {
            "tags": [],
            "needs_background": "light"
          }
        }
      ]
    },
    {
      "cell_type": "code",
      "metadata": {
        "id": "0cnDW5QILhpr",
        "colab_type": "code",
        "colab": {}
      },
      "source": [
        ""
      ],
      "execution_count": 0,
      "outputs": []
    },
    {
      "cell_type": "markdown",
      "metadata": {
        "id": "rp7IB1a1JOL0",
        "colab_type": "text"
      },
      "source": [
        "Loss\n"
      ]
    },
    {
      "cell_type": "code",
      "metadata": {
        "id": "iP4LuYPIJM7B",
        "colab_type": "code",
        "colab": {}
      },
      "source": [
        "#loss"
      ],
      "execution_count": 0,
      "outputs": []
    }
  ]
}