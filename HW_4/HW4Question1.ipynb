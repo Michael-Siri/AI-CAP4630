{
  "nbformat": 4,
  "nbformat_minor": 0,
  "metadata": {
    "colab": {
      "name": "Homework4Question1",
      "provenance": [],
      "collapsed_sections": [],
      "authorship_tag": "ABX9TyOMuchcJJHH+fuBjzD6yXBa",
      "include_colab_link": true
    },
    "kernelspec": {
      "name": "python3",
      "display_name": "Python 3"
    }
  },
  "cells": [
    {
      "cell_type": "markdown",
      "metadata": {
        "id": "view-in-github",
        "colab_type": "text"
      },
      "source": [
        "<a href=\"https://colab.research.google.com/github/Michael-Siri/AI-CAP4630/blob/master/HW_4/HW4Question1.ipynb\" target=\"_parent\"><img src=\"https://colab.research.google.com/assets/colab-badge.svg\" alt=\"Open In Colab\"/></a>"
      ]
    },
    {
      "cell_type": "markdown",
      "metadata": {
        "id": "-pEfyTr3ZhUA",
        "colab_type": "text"
      },
      "source": [
        "# Homework 4\n",
        "# Question 1\n",
        "\n",
        "The function conv2d takes as input input_mat and kernel_mat and outputs output_mat. All variables are square matrices. It should compute the convolution of input_mat with the kernel kernel_mat using valid padding."
      ]
    },
    {
      "cell_type": "markdown",
      "metadata": {
        "id": "BI0TQq1b4mtv",
        "colab_type": "text"
      },
      "source": [
        "In convolution of the base matrix, all the pixels affected by the kernel action area is multiplied by each item in the kernel and added to a result in the output matrix. This continues from left to right and from top to bottom until the entire base matrix is covered."
      ]
    },
    {
      "cell_type": "markdown",
      "metadata": {
        "id": "aFuW-dWpVCo0",
        "colab_type": "text"
      },
      "source": [
        "If the Kernel is larger than the base Matrices, it should return an empty matrix."
      ]
    },
    {
      "cell_type": "code",
      "metadata": {
        "id": "j6tyN8WMcdsb",
        "colab_type": "code",
        "colab": {}
      },
      "source": [
        "import numpy as np\n",
        "\n",
        "def conv2d(input_mat, kernel_mat):\n",
        "\n",
        "    #Error Generation if size of Kernel is larger/returns empty array\n",
        "    #Prints the error instead of raise exception since we want to return an empty array\n",
        "  if(np.shape(input_mat) < np.shape(kernel_mat)):\n",
        "    print(\"Error: Kernel is larger than the Input Matrix\")\n",
        "    return []\n",
        "  \n",
        "    #Flip Kernel\n",
        "  kernel_mat = np.flip(kernel_mat)\n",
        "\n",
        "    #Width and Length of outerloop\n",
        "  Width = np.shape(input_mat)[0] - np.shape(kernel_mat)[0] + 1\n",
        "  Length = np.shape(input_mat)[1] - np.shape(kernel_mat)[1] + 1\n",
        "\n",
        "    #Create output\n",
        "  output_mat = np.zeros((Width,Length))\n",
        "\n",
        "    #Width and Lenght of innerloop\n",
        "  Kernel_width = np.shape(kernel_mat)[0]\n",
        "  Kernel_length = np.shape(kernel_mat)[1]\n",
        "\n",
        "    #Outerloop\n",
        "  for n in range(Width):\n",
        "    for m in range(Length):\n",
        "        #InnerLoop\n",
        "      for i in range(Kernel_width):\n",
        "        for j in range(Kernel_length):\n",
        "          output_mat[n][m] = output_mat[n][m] + (input_mat[i+n][j+m] * kernel_mat[i][j])\n",
        "  return output_mat"
      ],
      "execution_count": 0,
      "outputs": []
    },
    {
      "cell_type": "markdown",
      "metadata": {
        "id": "hj5paWNsheRs",
        "colab_type": "text"
      },
      "source": [
        "#Test Cases"
      ]
    },
    {
      "cell_type": "code",
      "metadata": {
        "id": "plxv3Ac75Jm8",
        "colab_type": "code",
        "outputId": "8869b427-0b35-45d0-eff0-cda0cf3fa850",
        "colab": {
          "base_uri": "https://localhost:8080/",
          "height": 391
        }
      },
      "source": [
        "from scipy import signal\n",
        "import numpy as np\n",
        "\n",
        "input_mat = []\n",
        "kernel_mat = []\n",
        "expected_mat = []\n",
        "\n",
        "# test case 1\n",
        "input_mat.append(np.array([[1, 2, 1, 2],\n",
        "                      [2, 1, 2, 1],\n",
        "                      [1, 2, 1, 2],\n",
        "                      [2, 1, 2, 1]]))\n",
        "\n",
        "kernel_mat.append(np.array([[1, 0],\n",
        "                       [0, 1]]))\n",
        "\n",
        "expected_mat.append(np.array([[2, 4, 2],\n",
        "                                [4, 2, 4],\n",
        "                                [2, 4, 2]]))\n",
        "\n",
        "# test case 2\n",
        "input_mat.append(np.array([[1, 0, 0, 0],\n",
        "                      [0, 1, 0, 0],\n",
        "                      [0, 0, 1, 0],\n",
        "                      [0, 0, 0, 1]]))\n",
        "kernel_mat.append(np.array([[1, 0], [0, 1]]))\n",
        "expected_mat.append(np.array([[2, 0, 0], [0, 2, 0], [0, 0, 2]]))\n",
        "\n",
        "\n",
        "# test case 3\n",
        "input_mat.append(np.array([[1, 0, 0, 0],\n",
        "                      [0, 1, 0, 0],\n",
        "                      [0, 0, 1, 0],\n",
        "                      [0, 0, 0, 1]]))\n",
        "kernel_mat.append(np.array([[1, -1],\n",
        "                       [-1, 0]]))\n",
        "\n",
        "expected_mat.append(np.array([[ 1, -1,  0], [-1,  1, -1],[ 0, -1,  1]]))\n",
        "\n",
        "\n",
        "# test case 4\n",
        "input_mat.append(np.array([[1, 0, 0, 0],\n",
        "                      [0, 1, 0, 0],\n",
        "                      [0, 0, 1, 0],\n",
        "                      [0, 0, 0, 1]]))\n",
        "kernel_mat.append(np.array([[1, 0, 0, 0],\n",
        "                      [0, 1, 0, 0],\n",
        "                      [0, 0, 1, 0],\n",
        "                      [0, 0, 0, 1]]))\n",
        "\n",
        "expected_mat.append(np.array([[4]]))\n",
        "\n",
        "\n",
        "# test case 5 - should either through an error, or return empty matrix\n",
        "input_mat.append(np.array([[1, -1],\n",
        "                       [-1, 0]]))\n",
        "kernel_mat.append(np.array([[1, 0, 0, 0],\n",
        "                      [0, 1, 0, 0],\n",
        "                      [0, 0, 1, 0],\n",
        "                      [0, 0, 0, 1]]))\n",
        "\n",
        "expected_mat.append([])\n",
        "\n",
        "\n",
        "\n",
        "for i in range(len(input_mat)):\n",
        "  # uncomment line for student code testing\n",
        "  output_mat = conv2d(input_mat[i], kernel_mat[i])\n",
        "\n",
        "  # # uncomment lines below (and comment line above) for generating test cases.\n",
        "  # if input_mat[i].shape[0] < kernel_mat[i].shape[0]:\n",
        "  #   output_mat = []\n",
        "  # else:\n",
        "  #   output_mat = signal.convolve2d(input_mat[i], kernel_mat[i], mode='valid')\n",
        "\n",
        "  print(output_mat)\n",
        "  if np.array_equal(output_mat, expected_mat[i]):\n",
        "    print(\"Correct output!\\n\")\n",
        "  else:\n",
        "    print(\"Incorrect output!\\n\")"
      ],
      "execution_count": 4,
      "outputs": [
        {
          "output_type": "stream",
          "text": [
            "[[2. 4. 2.]\n",
            " [4. 2. 4.]\n",
            " [2. 4. 2.]]\n",
            "Correct output!\n",
            "\n",
            "[[2. 0. 0.]\n",
            " [0. 2. 0.]\n",
            " [0. 0. 2.]]\n",
            "Correct output!\n",
            "\n",
            "[[ 1. -1.  0.]\n",
            " [-1.  1. -1.]\n",
            " [ 0. -1.  1.]]\n",
            "Correct output!\n",
            "\n",
            "[[4.]]\n",
            "Correct output!\n",
            "\n",
            "Error: Kernel is larger than the Input Matrix\n",
            "[]\n",
            "Correct output!\n",
            "\n"
          ],
          "name": "stdout"
        }
      ]
    }
  ]
}