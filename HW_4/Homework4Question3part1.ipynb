{
  "nbformat": 4,
  "nbformat_minor": 0,
  "metadata": {
    "colab": {
      "name": "Homework4Question3part1",
      "provenance": [],
      "collapsed_sections": [],
      "include_colab_link": true
    },
    "kernelspec": {
      "name": "python3",
      "display_name": "Python 3"
    },
    "accelerator": "GPU"
  },
  "cells": [
    {
      "cell_type": "markdown",
      "metadata": {
        "id": "view-in-github",
        "colab_type": "text"
      },
      "source": [
        "<a href=\"https://colab.research.google.com/github/Michael-Siri/AI-CAP4630/blob/master/HW_4/Homework4Question3part1.ipynb\" target=\"_parent\"><img src=\"https://colab.research.google.com/assets/colab-badge.svg\" alt=\"Open In Colab\"/></a>"
      ]
    },
    {
      "cell_type": "markdown",
      "metadata": {
        "id": "tc83uZ7Iw-gU",
        "colab_type": "text"
      },
      "source": [
        "# Homework 4 Question 3 part 1\n",
        "\n"
      ]
    },
    {
      "cell_type": "markdown",
      "metadata": {
        "id": "KSrgMJ5vKFzQ",
        "colab_type": "text"
      },
      "source": [
        "# Fine-tuning VGG16 "
      ]
    },
    {
      "cell_type": "markdown",
      "metadata": {
        "id": "TIW7bZaAK-Hf",
        "colab_type": "text"
      },
      "source": [
        "This is based on section 5.3 *Using a pretrained convnet* of the book *Deep learning with Python* by Francois Chollet. I have made several changes to the code. I use the data that is already provided by Google. I don't download the data from Kaggle as in the deep learning book."
      ]
    },
    {
      "cell_type": "markdown",
      "metadata": {
        "id": "nsBq__dVo2pj",
        "colab_type": "text"
      },
      "source": [
        "## Feature extraction"
      ]
    },
    {
      "cell_type": "markdown",
      "metadata": {
        "id": "0g6ETAM9o54M",
        "colab_type": "text"
      },
      "source": [
        "Feature extraction consists of using the representations learned by a previous network to extract interesting features from new samples. These features are then run through a new classifier, which is trained from scratch.\n",
        "\n",
        "We will use here the convolutional base of the VGG16 model to extract the features. We will feed these features to a densely connected classifier with dropout. We will fine-tune some layers."
      ]
    },
    {
      "cell_type": "markdown",
      "metadata": {
        "id": "BqIG8QHMLNOn",
        "colab_type": "text"
      },
      "source": [
        "## Download the data"
      ]
    },
    {
      "cell_type": "markdown",
      "metadata": {
        "id": "t3I1jd7cKV6_",
        "colab_type": "text"
      },
      "source": [
        "Download the example data, a zip. of 2,000 JPG pictures of cats and dogs and extract it locally in ```/tmp```.\n",
        "\n"
      ]
    },
    {
      "cell_type": "code",
      "metadata": {
        "id": "JWjprHEXJ5Qi",
        "colab_type": "code",
        "outputId": "86f49ac9-e321-4ebe-9d9a-62a2b3b58893",
        "colab": {
          "base_uri": "https://localhost:8080/",
          "height": 204
        }
      },
      "source": [
        "!wget --no-check-certificate \\\n",
        "    https://storage.googleapis.com/mledu-datasets/cats_and_dogs_filtered.zip \\\n",
        "    -O /tmp/cats_and_dogs_filtered.zip"
      ],
      "execution_count": 1,
      "outputs": [
        {
          "output_type": "stream",
          "text": [
            "--2020-04-21 02:18:12--  https://storage.googleapis.com/mledu-datasets/cats_and_dogs_filtered.zip\n",
            "Resolving storage.googleapis.com (storage.googleapis.com)... 173.194.79.128, 2a00:1450:4013:c08::80\n",
            "Connecting to storage.googleapis.com (storage.googleapis.com)|173.194.79.128|:443... connected.\n",
            "HTTP request sent, awaiting response... 200 OK\n",
            "Length: 68606236 (65M) [application/zip]\n",
            "Saving to: ‘/tmp/cats_and_dogs_filtered.zip’\n",
            "\n",
            "\r          /tmp/cats   0%[                    ]       0  --.-KB/s               \r         /tmp/cats_  30%[=====>              ]  19.72M  98.6MB/s               \r        /tmp/cats_a  62%[===========>        ]  41.07M   103MB/s               \r/tmp/cats_and_dogs_ 100%[===================>]  65.43M   139MB/s    in 0.5s    \n",
            "\n",
            "2020-04-21 02:18:12 (139 MB/s) - ‘/tmp/cats_and_dogs_filtered.zip’ saved [68606236/68606236]\n",
            "\n"
          ],
          "name": "stdout"
        }
      ]
    },
    {
      "cell_type": "code",
      "metadata": {
        "id": "WvoHtdA-K6Rw",
        "colab_type": "code",
        "colab": {}
      },
      "source": [
        "import os\n",
        "import zipfile\n",
        "\n",
        "local_zip = '/tmp/cats_and_dogs_filtered.zip'\n",
        "zip_ref = zipfile.ZipFile(local_zip, 'r')\n",
        "zip_ref.extractall('/tmp')\n",
        "zip_ref.close()"
      ],
      "execution_count": 0,
      "outputs": []
    },
    {
      "cell_type": "markdown",
      "metadata": {
        "id": "shZiOBnJMyy_",
        "colab_type": "text"
      },
      "source": [
        "Note that the data provided by Google does not have a test set."
      ]
    },
    {
      "cell_type": "code",
      "metadata": {
        "id": "dL8ikM89LlsH",
        "colab_type": "code",
        "colab": {}
      },
      "source": [
        "base_dir = '/tmp/cats_and_dogs_filtered'\n",
        "train_dir = os.path.join(base_dir, 'train')\n",
        "validation_dir = os.path.join(base_dir, 'validation')\n",
        "\n",
        "# Directory with our training cat pictures\n",
        "train_cats_dir = os.path.join(train_dir, 'cats')\n",
        "\n",
        "# Directory with our training dog pictures\n",
        "train_dogs_dir = os.path.join(train_dir, 'dogs')\n",
        "\n",
        "# Directory with our validation cat pictures\n",
        "validation_cats_dir = os.path.join(validation_dir, 'cats')\n",
        "\n",
        "# Directory with our validation dog pictures\n",
        "validation_dogs_dir = os.path.join(validation_dir, 'dogs')"
      ],
      "execution_count": 0,
      "outputs": []
    },
    {
      "cell_type": "markdown",
      "metadata": {
        "id": "inyP8bcdXnn-",
        "colab_type": "text"
      },
      "source": [
        "## Build network with VGG16 convolution base and custom densely connected layers"
      ]
    },
    {
      "cell_type": "markdown",
      "metadata": {
        "id": "kQ48W5T9rHWu",
        "colab_type": "text"
      },
      "source": [
        "### Load the convolutional base"
      ]
    },
    {
      "cell_type": "code",
      "metadata": {
        "id": "Y0FgtANCXm_H",
        "colab_type": "code",
        "outputId": "3642ecd7-55a9-4651-b70c-ecb67c56eb69",
        "colab": {
          "base_uri": "https://localhost:8080/",
          "height": 34
        }
      },
      "source": [
        "from keras.applications import Xception\n",
        "\n",
        "conv_base = Xception(\n",
        "    weights='imagenet', \n",
        "    include_top=False, \n",
        "    input_shape=(150, 150, 3))\n",
        "\n",
        "# conv_base.summary()"
      ],
      "execution_count": 4,
      "outputs": [
        {
          "output_type": "stream",
          "text": [
            "Using TensorFlow backend.\n"
          ],
          "name": "stderr"
        }
      ]
    },
    {
      "cell_type": "markdown",
      "metadata": {
        "id": "D6OBHOO9q1ou",
        "colab_type": "text"
      },
      "source": [
        "### Freeze the convolutional base"
      ]
    },
    {
      "cell_type": "code",
      "metadata": {
        "id": "UleRo4Dpq6Ld",
        "colab_type": "code",
        "colab": {}
      },
      "source": [
        "conv_base.trainable = False"
      ],
      "execution_count": 0,
      "outputs": []
    },
    {
      "cell_type": "markdown",
      "metadata": {
        "id": "Qfx6PqhPrb7Q",
        "colab_type": "text"
      },
      "source": [
        "### Concatenate the convolutional base and densely connected layers"
      ]
    },
    {
      "cell_type": "code",
      "metadata": {
        "id": "qUpmocDAO3xm",
        "colab_type": "code",
        "colab": {}
      },
      "source": [
        "from keras import layers\n",
        "from keras import models\n",
        "from keras import optimizers\n",
        "\n",
        "model = models.Sequential()\n",
        "model.add(conv_base)\n",
        "model.add(layers.Flatten())\n",
        "model.add(layers.Dense(256, activation='relu'))\n",
        "#model.add(layers.Dropout(0.1))\n",
        "model.add(layers.Dense(1, activation='sigmoid'))"
      ],
      "execution_count": 0,
      "outputs": []
    },
    {
      "cell_type": "code",
      "metadata": {
        "id": "Fh6gZSeAjF7c",
        "colab_type": "code",
        "outputId": "1b9d176a-d5cd-4f31-ffbf-982631511541",
        "colab": {
          "base_uri": "https://localhost:8080/",
          "height": 289
        }
      },
      "source": [
        "model.summary()"
      ],
      "execution_count": 7,
      "outputs": [
        {
          "output_type": "stream",
          "text": [
            "Model: \"sequential_1\"\n",
            "_________________________________________________________________\n",
            "Layer (type)                 Output Shape              Param #   \n",
            "=================================================================\n",
            "xception (Model)             (None, 5, 5, 2048)        20861480  \n",
            "_________________________________________________________________\n",
            "flatten_1 (Flatten)          (None, 51200)             0         \n",
            "_________________________________________________________________\n",
            "dense_1 (Dense)              (None, 256)               13107456  \n",
            "_________________________________________________________________\n",
            "dense_2 (Dense)              (None, 1)                 257       \n",
            "=================================================================\n",
            "Total params: 33,969,193\n",
            "Trainable params: 13,107,713\n",
            "Non-trainable params: 20,861,480\n",
            "_________________________________________________________________\n"
          ],
          "name": "stdout"
        }
      ]
    },
    {
      "cell_type": "markdown",
      "metadata": {
        "id": "eZjBiddhi5Qj",
        "colab_type": "text"
      },
      "source": [
        "## Train the model end to end with frozen convolutional base"
      ]
    },
    {
      "cell_type": "code",
      "metadata": {
        "id": "tfAQlC2Oi41L",
        "colab_type": "code",
        "outputId": "dc62abd4-bc8a-45f4-8766-20c6d619be45",
        "colab": {
          "base_uri": "https://localhost:8080/",
          "height": 1000
        }
      },
      "source": [
        "from keras.preprocessing.image import ImageDataGenerator\n",
        "from keras import optimizers\n",
        "\n",
        "# data augmentation\n",
        "\n",
        "train_datagen = ImageDataGenerator(\n",
        "    rescale=1./255, \n",
        "    rotation_range=40,\n",
        "    width_shift_range=0.2,\n",
        "    height_shift_range=0.2,\n",
        "    shear_range=0.2,\n",
        "    zoom_range=0.2,\n",
        "    horizontal_flip=True,\n",
        "    fill_mode='nearest'\n",
        ")\n",
        "\n",
        "train_generator = train_datagen.flow_from_directory(\n",
        "    train_dir,\n",
        "    target_size=(150, 150),\n",
        "    batch_size=20,\n",
        "    class_mode='binary')\n",
        "\n",
        "validation_datagen = ImageDataGenerator(rescale=1./255)\n",
        "\n",
        "validation_generator = validation_datagen.flow_from_directory(\n",
        "    validation_dir,\n",
        "    target_size=(150, 150),\n",
        "    batch_size=20,\n",
        "    class_mode='binary')\n",
        "\n",
        "# compile model\n",
        "\n",
        "model.compile(\n",
        "    loss='binary_crossentropy', \n",
        "    optimizer=optimizers.RMSprop(lr=2e-5), \n",
        "    metrics=['acc'])\n",
        "\n",
        "# train\n",
        "\n",
        "history = model.fit_generator(\n",
        "    train_generator,\n",
        "    steps_per_epoch=100,\n",
        "    epochs=30,\n",
        "    validation_data=validation_generator,\n",
        "    validation_steps=50\n",
        ")"
      ],
      "execution_count": 8,
      "outputs": [
        {
          "output_type": "stream",
          "text": [
            "Found 2000 images belonging to 2 classes.\n",
            "Found 1000 images belonging to 2 classes.\n",
            "Epoch 1/30\n",
            "100/100 [==============================] - 27s 271ms/step - loss: 0.4655 - acc: 0.7615 - val_loss: 0.1798 - val_acc: 0.9520\n",
            "Epoch 2/30\n",
            "100/100 [==============================] - 18s 179ms/step - loss: 0.3598 - acc: 0.8335 - val_loss: 0.0035 - val_acc: 0.9640\n",
            "Epoch 3/30\n",
            "100/100 [==============================] - 18s 178ms/step - loss: 0.3390 - acc: 0.8465 - val_loss: 0.0082 - val_acc: 0.9630\n",
            "Epoch 4/30\n",
            "100/100 [==============================] - 18s 179ms/step - loss: 0.3445 - acc: 0.8455 - val_loss: 0.2403 - val_acc: 0.9580\n",
            "Epoch 5/30\n",
            "100/100 [==============================] - 18s 178ms/step - loss: 0.3223 - acc: 0.8560 - val_loss: 0.3387 - val_acc: 0.9730\n",
            "Epoch 6/30\n",
            "100/100 [==============================] - 18s 175ms/step - loss: 0.3206 - acc: 0.8635 - val_loss: 0.1689 - val_acc: 0.9570\n",
            "Epoch 7/30\n",
            "100/100 [==============================] - 18s 175ms/step - loss: 0.3296 - acc: 0.8530 - val_loss: 0.0673 - val_acc: 0.9690\n",
            "Epoch 8/30\n",
            "100/100 [==============================] - 18s 177ms/step - loss: 0.2941 - acc: 0.8755 - val_loss: 0.1174 - val_acc: 0.9520\n",
            "Epoch 9/30\n",
            "100/100 [==============================] - 17s 174ms/step - loss: 0.3268 - acc: 0.8575 - val_loss: 0.3196 - val_acc: 0.9690\n",
            "Epoch 10/30\n",
            "100/100 [==============================] - 17s 174ms/step - loss: 0.3041 - acc: 0.8675 - val_loss: 0.0030 - val_acc: 0.9610\n",
            "Epoch 11/30\n",
            "100/100 [==============================] - 18s 177ms/step - loss: 0.2913 - acc: 0.8700 - val_loss: 0.0032 - val_acc: 0.9690\n",
            "Epoch 12/30\n",
            "100/100 [==============================] - 17s 174ms/step - loss: 0.3030 - acc: 0.8700 - val_loss: 0.3335 - val_acc: 0.9730\n",
            "Epoch 13/30\n",
            "100/100 [==============================] - 18s 176ms/step - loss: 0.2870 - acc: 0.8685 - val_loss: 0.0014 - val_acc: 0.9720\n",
            "Epoch 14/30\n",
            "100/100 [==============================] - 18s 175ms/step - loss: 0.2874 - acc: 0.8740 - val_loss: 1.0381e-04 - val_acc: 0.9750\n",
            "Epoch 15/30\n",
            "100/100 [==============================] - 17s 173ms/step - loss: 0.3087 - acc: 0.8650 - val_loss: 0.3363 - val_acc: 0.9650\n",
            "Epoch 16/30\n",
            "100/100 [==============================] - 17s 173ms/step - loss: 0.2969 - acc: 0.8650 - val_loss: 0.0092 - val_acc: 0.9730\n",
            "Epoch 17/30\n",
            "100/100 [==============================] - 17s 174ms/step - loss: 0.2727 - acc: 0.8810 - val_loss: 0.0640 - val_acc: 0.9680\n",
            "Epoch 18/30\n",
            "100/100 [==============================] - 17s 174ms/step - loss: 0.2830 - acc: 0.8815 - val_loss: 0.1542 - val_acc: 0.9680\n",
            "Epoch 19/30\n",
            "100/100 [==============================] - 17s 173ms/step - loss: 0.2748 - acc: 0.8860 - val_loss: 0.4593 - val_acc: 0.9700\n",
            "Epoch 20/30\n",
            "100/100 [==============================] - 17s 171ms/step - loss: 0.2731 - acc: 0.8870 - val_loss: 0.0271 - val_acc: 0.9720\n",
            "Epoch 21/30\n",
            "100/100 [==============================] - 17s 170ms/step - loss: 0.2504 - acc: 0.8870 - val_loss: 0.2168 - val_acc: 0.9620\n",
            "Epoch 22/30\n",
            "100/100 [==============================] - 17s 171ms/step - loss: 0.2703 - acc: 0.8780 - val_loss: 0.1278 - val_acc: 0.9630\n",
            "Epoch 23/30\n",
            "100/100 [==============================] - 17s 170ms/step - loss: 0.2854 - acc: 0.8820 - val_loss: 1.0051e-05 - val_acc: 0.9710\n",
            "Epoch 24/30\n",
            "100/100 [==============================] - 17s 171ms/step - loss: 0.2731 - acc: 0.8845 - val_loss: 2.8276e-04 - val_acc: 0.9720\n",
            "Epoch 25/30\n",
            "100/100 [==============================] - 17s 171ms/step - loss: 0.2565 - acc: 0.8955 - val_loss: 0.0097 - val_acc: 0.9710\n",
            "Epoch 26/30\n",
            "100/100 [==============================] - 17s 173ms/step - loss: 0.2748 - acc: 0.8880 - val_loss: 0.4963 - val_acc: 0.9740\n",
            "Epoch 27/30\n",
            "100/100 [==============================] - 18s 175ms/step - loss: 0.2513 - acc: 0.8905 - val_loss: 0.1504 - val_acc: 0.9710\n",
            "Epoch 28/30\n",
            "100/100 [==============================] - 18s 176ms/step - loss: 0.2559 - acc: 0.8875 - val_loss: 8.4621e-04 - val_acc: 0.9720\n",
            "Epoch 29/30\n",
            "100/100 [==============================] - 18s 177ms/step - loss: 0.2757 - acc: 0.8840 - val_loss: 8.2287e-05 - val_acc: 0.9640\n",
            "Epoch 30/30\n",
            "100/100 [==============================] - 18s 177ms/step - loss: 0.2554 - acc: 0.8895 - val_loss: 0.0136 - val_acc: 0.9730\n"
          ],
          "name": "stdout"
        }
      ]
    },
    {
      "cell_type": "markdown",
      "metadata": {
        "id": "xqRc_vHKc92U",
        "colab_type": "text"
      },
      "source": [
        "## Display curves of loss and accuracy during training"
      ]
    },
    {
      "cell_type": "code",
      "metadata": {
        "id": "ybWwdzz9bwuQ",
        "colab_type": "code",
        "outputId": "780d7a42-9070-4648-b311-3967357f3f11",
        "colab": {
          "base_uri": "https://localhost:8080/",
          "height": 545
        }
      },
      "source": [
        "%matplotlib inline\n",
        "\n",
        "import matplotlib.pyplot as plt\n",
        "\n",
        "acc = history.history['acc']\n",
        "val_acc = history.history['val_acc']\n",
        "\n",
        "loss = history.history['loss']\n",
        "val_loss = history.history['val_loss']\n",
        "\n",
        "epochs = range(1, len(acc) + 1)\n",
        "\n",
        "# training and validation accuracy\n",
        "\n",
        "plt.plot(epochs, acc, 'bo', label='training acc')\n",
        "plt.plot(epochs, val_acc, 'b', label='validation acc')\n",
        "plt.title('training and validation accuracy')\n",
        "plt.legend()\n",
        "\n",
        "plt.figure()\n",
        "\n",
        "# training and validation loss\n",
        "\n",
        "plt.plot(epochs, loss, 'bo', label='training loss')\n",
        "plt.plot(epochs, val_loss, 'b', label='validation loss')\n",
        "plt.title('training and validation loss')\n",
        "plt.legend()\n",
        "\n",
        "plt.show()"
      ],
      "execution_count": 9,
      "outputs": [
        {
          "output_type": "display_data",
          "data": {
            "image/png": "[encoded data removed]",
            "text/plain": [
              "<Figure size 432x288 with 1 Axes>"
            ]
          },
          "metadata": {
            "tags": [],
            "needs_background": "light"
          }
        },
        {
          "output_type": "display_data",
          "data": {
            "image/png": "[encoded data removed]",
            "text/plain": [
              "<Figure size 432x288 with 1 Axes>"
            ]
          },
          "metadata": {
            "tags": [],
            "needs_background": "light"
          }
        }
      ]
    },
    {
      "cell_type": "markdown",
      "metadata": {
        "id": "lOWsxpey8lN0",
        "colab_type": "text"
      },
      "source": [
        "## Fine-tuning"
      ]
    },
    {
      "cell_type": "code",
      "metadata": {
        "id": "PwkVMx8N8qMw",
        "colab_type": "code",
        "colab": {}
      },
      "source": [
        "conv_base.trainable = True\n",
        "\n",
        "set_trainable = False\n",
        "for layer in conv_base.layers:\n",
        "  if layer.name == 'conv2d_4':\n",
        "    set_trainable = True\n",
        "  if set_trainable:\n",
        "    layer.trainable = True\n",
        "  else:\n",
        "    layer.trainable = False"
      ],
      "execution_count": 0,
      "outputs": []
    },
    {
      "cell_type": "code",
      "metadata": {
        "id": "DyN-J7rs9cvo",
        "colab_type": "code",
        "outputId": "80028b09-0bb4-4ebe-f635-cafb1c4b56ab",
        "colab": {
          "base_uri": "https://localhost:8080/",
          "height": 1000
        }
      },
      "source": [
        "# compile model\n",
        "\n",
        "model.compile(\n",
        "    loss='binary_crossentropy',\n",
        "    #\n",
        "    # choose a smaller learning rate\n",
        "    #\n",
        "    optimizer=optimizers.RMSprop(lr=1e-5), \n",
        "    metrics=['acc'])\n",
        "\n",
        "# train\n",
        "\n",
        "history = model.fit_generator(\n",
        "    train_generator,\n",
        "    steps_per_epoch=100,\n",
        "    epochs=100,\n",
        "    validation_data=validation_generator,\n",
        "    validation_steps=50)"
      ],
      "execution_count": 11,
      "outputs": [
        {
          "output_type": "stream",
          "text": [
            "Epoch 1/100\n",
            "100/100 [==============================] - 22s 221ms/step - loss: 0.2534 - acc: 0.8920 - val_loss: 0.6973 - val_acc: 0.9480\n",
            "Epoch 2/100\n",
            "100/100 [==============================] - 18s 183ms/step - loss: 0.2466 - acc: 0.8995 - val_loss: 0.0522 - val_acc: 0.9410\n",
            "Epoch 3/100\n",
            "100/100 [==============================] - 18s 184ms/step - loss: 0.2502 - acc: 0.9050 - val_loss: 0.2849 - val_acc: 0.9440\n",
            "Epoch 4/100\n",
            "100/100 [==============================] - 18s 183ms/step - loss: 0.2223 - acc: 0.9065 - val_loss: 0.0976 - val_acc: 0.9320\n",
            "Epoch 5/100\n",
            "100/100 [==============================] - 19s 186ms/step - loss: 0.2195 - acc: 0.9100 - val_loss: 0.1169 - val_acc: 0.9330\n",
            "Epoch 6/100\n",
            "100/100 [==============================] - 19s 186ms/step - loss: 0.2165 - acc: 0.9125 - val_loss: 0.0086 - val_acc: 0.9370\n",
            "Epoch 7/100\n",
            "100/100 [==============================] - 18s 185ms/step - loss: 0.2090 - acc: 0.9145 - val_loss: 0.2347 - val_acc: 0.9290\n",
            "Epoch 8/100\n",
            "100/100 [==============================] - 19s 186ms/step - loss: 0.2290 - acc: 0.9070 - val_loss: 0.0446 - val_acc: 0.9270\n",
            "Epoch 9/100\n",
            "100/100 [==============================] - 19s 185ms/step - loss: 0.2285 - acc: 0.9050 - val_loss: 0.1796 - val_acc: 0.9310\n",
            "Epoch 10/100\n",
            "100/100 [==============================] - 19s 186ms/step - loss: 0.2078 - acc: 0.9190 - val_loss: 0.8522 - val_acc: 0.9340\n",
            "Epoch 11/100\n",
            "100/100 [==============================] - 19s 188ms/step - loss: 0.2186 - acc: 0.9120 - val_loss: 0.1879 - val_acc: 0.9310\n",
            "Epoch 12/100\n",
            "100/100 [==============================] - 18s 185ms/step - loss: 0.2077 - acc: 0.9190 - val_loss: 0.0834 - val_acc: 0.9320\n",
            "Epoch 13/100\n",
            "100/100 [==============================] - 18s 185ms/step - loss: 0.2183 - acc: 0.9080 - val_loss: 0.0801 - val_acc: 0.9380\n",
            "Epoch 14/100\n",
            "100/100 [==============================] - 19s 189ms/step - loss: 0.2021 - acc: 0.9190 - val_loss: 0.0271 - val_acc: 0.9350\n",
            "Epoch 15/100\n",
            "100/100 [==============================] - 19s 186ms/step - loss: 0.1861 - acc: 0.9180 - val_loss: 0.1203 - val_acc: 0.9320\n",
            "Epoch 16/100\n",
            "100/100 [==============================] - 19s 186ms/step - loss: 0.1944 - acc: 0.9255 - val_loss: 0.0493 - val_acc: 0.9390\n",
            "Epoch 17/100\n",
            "100/100 [==============================] - 19s 186ms/step - loss: 0.1864 - acc: 0.9240 - val_loss: 0.1182 - val_acc: 0.9390\n",
            "Epoch 18/100\n",
            "100/100 [==============================] - 19s 188ms/step - loss: 0.1914 - acc: 0.9185 - val_loss: 0.1282 - val_acc: 0.9390\n",
            "Epoch 19/100\n",
            "100/100 [==============================] - 19s 186ms/step - loss: 0.1881 - acc: 0.9230 - val_loss: 0.0767 - val_acc: 0.9360\n",
            "Epoch 20/100\n",
            "100/100 [==============================] - 19s 186ms/step - loss: 0.1846 - acc: 0.9230 - val_loss: 0.6054 - val_acc: 0.9320\n",
            "Epoch 21/100\n",
            "100/100 [==============================] - 19s 189ms/step - loss: 0.1730 - acc: 0.9330 - val_loss: 0.0310 - val_acc: 0.9300\n",
            "Epoch 22/100\n",
            "100/100 [==============================] - 19s 188ms/step - loss: 0.1852 - acc: 0.9220 - val_loss: 0.3695 - val_acc: 0.9380\n",
            "Epoch 23/100\n",
            "100/100 [==============================] - 19s 189ms/step - loss: 0.1896 - acc: 0.9270 - val_loss: 0.3071 - val_acc: 0.9330\n",
            "Epoch 24/100\n",
            "100/100 [==============================] - 19s 188ms/step - loss: 0.1605 - acc: 0.9310 - val_loss: 8.0207e-04 - val_acc: 0.9410\n",
            "Epoch 25/100\n",
            "100/100 [==============================] - 19s 187ms/step - loss: 0.1766 - acc: 0.9355 - val_loss: 0.6250 - val_acc: 0.9280\n",
            "Epoch 26/100\n",
            "100/100 [==============================] - 19s 189ms/step - loss: 0.1724 - acc: 0.9290 - val_loss: 0.0736 - val_acc: 0.9310\n",
            "Epoch 27/100\n",
            "100/100 [==============================] - 19s 189ms/step - loss: 0.1629 - acc: 0.9315 - val_loss: 0.2861 - val_acc: 0.9340\n",
            "Epoch 28/100\n",
            "100/100 [==============================] - 19s 188ms/step - loss: 0.1650 - acc: 0.9320 - val_loss: 0.3332 - val_acc: 0.9400\n",
            "Epoch 29/100\n",
            "100/100 [==============================] - 19s 188ms/step - loss: 0.1916 - acc: 0.9240 - val_loss: 0.1383 - val_acc: 0.9350\n",
            "Epoch 30/100\n",
            "100/100 [==============================] - 19s 188ms/step - loss: 0.1731 - acc: 0.9255 - val_loss: 0.0414 - val_acc: 0.9410\n",
            "Epoch 31/100\n",
            "100/100 [==============================] - 19s 190ms/step - loss: 0.1600 - acc: 0.9315 - val_loss: 0.1580 - val_acc: 0.9390\n",
            "Epoch 32/100\n",
            "100/100 [==============================] - 19s 188ms/step - loss: 0.1552 - acc: 0.9340 - val_loss: 0.1587 - val_acc: 0.9370\n",
            "Epoch 33/100\n",
            "100/100 [==============================] - 19s 190ms/step - loss: 0.1680 - acc: 0.9385 - val_loss: 0.0048 - val_acc: 0.9350\n",
            "Epoch 34/100\n",
            "100/100 [==============================] - 19s 189ms/step - loss: 0.1570 - acc: 0.9375 - val_loss: 0.0885 - val_acc: 0.9200\n",
            "Epoch 35/100\n",
            "100/100 [==============================] - 19s 188ms/step - loss: 0.1587 - acc: 0.9350 - val_loss: 0.2021 - val_acc: 0.9330\n",
            "Epoch 36/100\n",
            "100/100 [==============================] - 19s 190ms/step - loss: 0.1562 - acc: 0.9405 - val_loss: 0.4668 - val_acc: 0.9440\n",
            "Epoch 37/100\n",
            "100/100 [==============================] - 19s 189ms/step - loss: 0.1473 - acc: 0.9475 - val_loss: 0.4356 - val_acc: 0.9420\n",
            "Epoch 38/100\n",
            "100/100 [==============================] - 19s 189ms/step - loss: 0.1728 - acc: 0.9320 - val_loss: 0.0563 - val_acc: 0.9450\n",
            "Epoch 39/100\n",
            "100/100 [==============================] - 19s 191ms/step - loss: 0.1639 - acc: 0.9395 - val_loss: 0.2003 - val_acc: 0.9290\n",
            "Epoch 40/100\n",
            "100/100 [==============================] - 19s 190ms/step - loss: 0.1739 - acc: 0.9315 - val_loss: 0.0526 - val_acc: 0.9460\n",
            "Epoch 41/100\n",
            "100/100 [==============================] - 19s 190ms/step - loss: 0.1629 - acc: 0.9390 - val_loss: 0.2074 - val_acc: 0.9360\n",
            "Epoch 42/100\n",
            "100/100 [==============================] - 19s 190ms/step - loss: 0.1660 - acc: 0.9320 - val_loss: 0.1357 - val_acc: 0.9350\n",
            "Epoch 43/100\n",
            "100/100 [==============================] - 19s 189ms/step - loss: 0.1426 - acc: 0.9450 - val_loss: 0.1920 - val_acc: 0.9300\n",
            "Epoch 44/100\n",
            "100/100 [==============================] - 19s 189ms/step - loss: 0.1410 - acc: 0.9420 - val_loss: 0.2347 - val_acc: 0.9430\n",
            "Epoch 45/100\n",
            "100/100 [==============================] - 19s 187ms/step - loss: 0.1470 - acc: 0.9420 - val_loss: 0.1068 - val_acc: 0.9400\n",
            "Epoch 46/100\n",
            "100/100 [==============================] - 19s 190ms/step - loss: 0.1391 - acc: 0.9455 - val_loss: 0.1524 - val_acc: 0.9360\n",
            "Epoch 47/100\n",
            "100/100 [==============================] - 19s 189ms/step - loss: 0.1733 - acc: 0.9280 - val_loss: 0.7590 - val_acc: 0.9390\n",
            "Epoch 48/100\n",
            "100/100 [==============================] - 19s 189ms/step - loss: 0.1282 - acc: 0.9530 - val_loss: 0.2780 - val_acc: 0.9410\n",
            "Epoch 49/100\n",
            "100/100 [==============================] - 19s 188ms/step - loss: 0.1405 - acc: 0.9465 - val_loss: 0.3541 - val_acc: 0.9400\n",
            "Epoch 50/100\n",
            "100/100 [==============================] - 19s 188ms/step - loss: 0.1434 - acc: 0.9475 - val_loss: 0.2177 - val_acc: 0.9360\n",
            "Epoch 51/100\n",
            "100/100 [==============================] - 19s 189ms/step - loss: 0.1494 - acc: 0.9405 - val_loss: 0.2020 - val_acc: 0.9270\n",
            "Epoch 52/100\n",
            "100/100 [==============================] - 19s 189ms/step - loss: 0.1492 - acc: 0.9430 - val_loss: 0.0683 - val_acc: 0.9340\n",
            "Epoch 53/100\n",
            "100/100 [==============================] - 19s 190ms/step - loss: 0.1367 - acc: 0.9455 - val_loss: 0.0832 - val_acc: 0.9390\n",
            "Epoch 54/100\n",
            "100/100 [==============================] - 19s 187ms/step - loss: 0.1264 - acc: 0.9510 - val_loss: 0.0273 - val_acc: 0.9270\n",
            "Epoch 55/100\n",
            "100/100 [==============================] - 19s 191ms/step - loss: 0.1513 - acc: 0.9430 - val_loss: 0.5506 - val_acc: 0.9460\n",
            "Epoch 56/100\n",
            "100/100 [==============================] - 19s 191ms/step - loss: 0.1130 - acc: 0.9565 - val_loss: 0.0282 - val_acc: 0.9360\n",
            "Epoch 57/100\n",
            "100/100 [==============================] - 19s 188ms/step - loss: 0.1350 - acc: 0.9495 - val_loss: 0.7832 - val_acc: 0.9370\n",
            "Epoch 58/100\n",
            "100/100 [==============================] - 19s 190ms/step - loss: 0.1333 - acc: 0.9505 - val_loss: 0.0327 - val_acc: 0.9340\n",
            "Epoch 59/100\n",
            "100/100 [==============================] - 19s 189ms/step - loss: 0.1433 - acc: 0.9410 - val_loss: 0.1259 - val_acc: 0.9400\n",
            "Epoch 60/100\n",
            "100/100 [==============================] - 19s 188ms/step - loss: 0.1288 - acc: 0.9530 - val_loss: 0.1317 - val_acc: 0.9360\n",
            "Epoch 61/100\n",
            "100/100 [==============================] - 19s 190ms/step - loss: 0.1419 - acc: 0.9435 - val_loss: 0.0693 - val_acc: 0.9410\n",
            "Epoch 62/100\n",
            "100/100 [==============================] - 19s 189ms/step - loss: 0.1308 - acc: 0.9560 - val_loss: 0.1272 - val_acc: 0.9370\n",
            "Epoch 63/100\n",
            "100/100 [==============================] - 19s 190ms/step - loss: 0.1341 - acc: 0.9460 - val_loss: 0.0015 - val_acc: 0.9470\n",
            "Epoch 64/100\n",
            "100/100 [==============================] - 19s 189ms/step - loss: 0.1279 - acc: 0.9545 - val_loss: 0.3625 - val_acc: 0.9440\n",
            "Epoch 65/100\n",
            "100/100 [==============================] - 19s 190ms/step - loss: 0.1225 - acc: 0.9540 - val_loss: 0.2562 - val_acc: 0.9300\n",
            "Epoch 66/100\n",
            "100/100 [==============================] - 19s 190ms/step - loss: 0.1134 - acc: 0.9535 - val_loss: 0.0178 - val_acc: 0.9460\n",
            "Epoch 67/100\n",
            "100/100 [==============================] - 19s 187ms/step - loss: 0.1378 - acc: 0.9480 - val_loss: 0.0600 - val_acc: 0.9390\n",
            "Epoch 68/100\n",
            "100/100 [==============================] - 19s 188ms/step - loss: 0.1207 - acc: 0.9535 - val_loss: 0.0846 - val_acc: 0.9500\n",
            "Epoch 69/100\n",
            "100/100 [==============================] - 19s 190ms/step - loss: 0.1197 - acc: 0.9550 - val_loss: 0.0554 - val_acc: 0.9480\n",
            "Epoch 70/100\n",
            "100/100 [==============================] - 19s 188ms/step - loss: 0.1210 - acc: 0.9540 - val_loss: 0.0173 - val_acc: 0.9460\n",
            "Epoch 71/100\n",
            "100/100 [==============================] - 19s 191ms/step - loss: 0.1212 - acc: 0.9555 - val_loss: 0.0026 - val_acc: 0.9420\n",
            "Epoch 72/100\n",
            "100/100 [==============================] - 19s 191ms/step - loss: 0.1116 - acc: 0.9600 - val_loss: 0.0583 - val_acc: 0.9380\n",
            "Epoch 73/100\n",
            "100/100 [==============================] - 19s 190ms/step - loss: 0.1189 - acc: 0.9520 - val_loss: 0.1245 - val_acc: 0.9340\n",
            "Epoch 74/100\n",
            "100/100 [==============================] - 19s 190ms/step - loss: 0.1142 - acc: 0.9575 - val_loss: 0.0610 - val_acc: 0.9210\n",
            "Epoch 75/100\n",
            "100/100 [==============================] - 19s 189ms/step - loss: 0.1080 - acc: 0.9585 - val_loss: 0.0506 - val_acc: 0.9420\n",
            "Epoch 76/100\n",
            "100/100 [==============================] - 19s 189ms/step - loss: 0.1316 - acc: 0.9450 - val_loss: 0.4011 - val_acc: 0.9450\n",
            "Epoch 77/100\n",
            "100/100 [==============================] - 19s 189ms/step - loss: 0.1078 - acc: 0.9585 - val_loss: 0.0024 - val_acc: 0.9420\n",
            "Epoch 78/100\n",
            "100/100 [==============================] - 19s 190ms/step - loss: 0.1095 - acc: 0.9580 - val_loss: 0.1646 - val_acc: 0.9320\n",
            "Epoch 79/100\n",
            "100/100 [==============================] - 19s 188ms/step - loss: 0.1121 - acc: 0.9555 - val_loss: 0.0110 - val_acc: 0.9470\n",
            "Epoch 80/100\n",
            "100/100 [==============================] - 19s 188ms/step - loss: 0.1270 - acc: 0.9510 - val_loss: 0.0052 - val_acc: 0.9440\n",
            "Epoch 81/100\n",
            "100/100 [==============================] - 19s 190ms/step - loss: 0.1169 - acc: 0.9545 - val_loss: 0.3329 - val_acc: 0.9460\n",
            "Epoch 82/100\n",
            "100/100 [==============================] - 19s 189ms/step - loss: 0.1007 - acc: 0.9620 - val_loss: 0.0156 - val_acc: 0.9370\n",
            "Epoch 83/100\n",
            "100/100 [==============================] - 19s 188ms/step - loss: 0.1150 - acc: 0.9555 - val_loss: 0.0502 - val_acc: 0.9260\n",
            "Epoch 84/100\n",
            "100/100 [==============================] - 19s 189ms/step - loss: 0.1156 - acc: 0.9595 - val_loss: 0.7401 - val_acc: 0.9390\n",
            "Epoch 85/100\n",
            "100/100 [==============================] - 19s 188ms/step - loss: 0.0982 - acc: 0.9635 - val_loss: 0.1648 - val_acc: 0.9440\n",
            "Epoch 86/100\n",
            "100/100 [==============================] - 19s 190ms/step - loss: 0.1140 - acc: 0.9595 - val_loss: 0.2212 - val_acc: 0.9430\n",
            "Epoch 87/100\n",
            "100/100 [==============================] - 19s 189ms/step - loss: 0.1069 - acc: 0.9610 - val_loss: 0.0382 - val_acc: 0.9520\n",
            "Epoch 88/100\n",
            "100/100 [==============================] - 19s 191ms/step - loss: 0.0937 - acc: 0.9600 - val_loss: 0.3318 - val_acc: 0.9400\n",
            "Epoch 89/100\n",
            "100/100 [==============================] - 19s 189ms/step - loss: 0.1003 - acc: 0.9620 - val_loss: 0.3230 - val_acc: 0.9430\n",
            "Epoch 90/100\n",
            "100/100 [==============================] - 19s 191ms/step - loss: 0.1111 - acc: 0.9615 - val_loss: 0.0220 - val_acc: 0.9270\n",
            "Epoch 91/100\n",
            "100/100 [==============================] - 19s 190ms/step - loss: 0.1074 - acc: 0.9625 - val_loss: 0.1285 - val_acc: 0.9350\n",
            "Epoch 92/100\n",
            "100/100 [==============================] - 18s 183ms/step - loss: 0.0961 - acc: 0.9640 - val_loss: 0.1161 - val_acc: 0.9290\n",
            "Epoch 93/100\n",
            "100/100 [==============================] - 18s 180ms/step - loss: 0.0868 - acc: 0.9625 - val_loss: 0.1857 - val_acc: 0.9400\n",
            "Epoch 94/100\n",
            "100/100 [==============================] - 18s 179ms/step - loss: 0.0896 - acc: 0.9590 - val_loss: 0.2046 - val_acc: 0.9490\n",
            "Epoch 95/100\n",
            "100/100 [==============================] - 18s 180ms/step - loss: 0.1143 - acc: 0.9565 - val_loss: 0.2590 - val_acc: 0.9360\n",
            "Epoch 96/100\n",
            "100/100 [==============================] - 18s 179ms/step - loss: 0.1001 - acc: 0.9620 - val_loss: 0.1034 - val_acc: 0.9400\n",
            "Epoch 97/100\n",
            "100/100 [==============================] - 18s 177ms/step - loss: 0.0955 - acc: 0.9615 - val_loss: 0.0264 - val_acc: 0.9410\n",
            "Epoch 98/100\n",
            "100/100 [==============================] - 18s 175ms/step - loss: 0.1032 - acc: 0.9635 - val_loss: 5.1024e-04 - val_acc: 0.9470\n",
            "Epoch 99/100\n",
            "100/100 [==============================] - 17s 174ms/step - loss: 0.1205 - acc: 0.9545 - val_loss: 0.5167 - val_acc: 0.9440\n",
            "Epoch 100/100\n",
            "100/100 [==============================] - 18s 175ms/step - loss: 0.1100 - acc: 0.9605 - val_loss: 0.1403 - val_acc: 0.9420\n"
          ],
          "name": "stdout"
        }
      ]
    },
    {
      "cell_type": "markdown",
      "metadata": {
        "id": "eVBQgh5M-Rtz",
        "colab_type": "text"
      },
      "source": [
        "## Display learning curves during fine-tuning"
      ]
    },
    {
      "cell_type": "code",
      "metadata": {
        "id": "mbkIw7Ie-NP4",
        "colab_type": "code",
        "outputId": "316d611b-e117-48e6-bb21-e1eaf39a5c37",
        "colab": {
          "base_uri": "https://localhost:8080/",
          "height": 545
        }
      },
      "source": [
        "%matplotlib inline\n",
        "\n",
        "import matplotlib.pyplot as plt\n",
        "\n",
        "acc = history.history['acc']\n",
        "val_acc = history.history['val_acc']\n",
        "\n",
        "loss = history.history['loss']\n",
        "val_loss = history.history['val_loss']\n",
        "\n",
        "epochs = range(1, len(acc) + 1)\n",
        "\n",
        "# training and validation accuracy\n",
        "\n",
        "plt.plot(epochs, acc, 'bo', label='training acc')\n",
        "plt.plot(epochs, val_acc, 'b', label='validation acc')\n",
        "plt.title('training and validation accuracy')\n",
        "plt.legend()\n",
        "\n",
        "plt.figure()\n",
        "\n",
        "# training and validation loss\n",
        "\n",
        "plt.plot(epochs, loss, 'bo', label='training loss')\n",
        "plt.plot(epochs, val_loss, 'b', label='validation loss')\n",
        "plt.title('training and validation loss')\n",
        "plt.legend()\n",
        "\n",
        "plt.show()"
      ],
      "execution_count": 12,
      "outputs": [
        {
          "output_type": "display_data",
          "data": {
            "image/png": "[encoded data removed]",
            "text/plain": [
              "<Figure size 432x288 with 1 Axes>"
            ]
          },
          "metadata": {
            "tags": [],
            "needs_background": "light"
          }
        },
        {
          "output_type": "display_data",
          "data": {
            "image/png": "[encoded data removed]",
            "text/plain": [
              "<Figure size 432x288 with 1 Axes>"
            ]
          },
          "metadata": {
            "tags": [],
            "needs_background": "light"
          }
        }
      ]
    },
    {
      "cell_type": "markdown",
      "metadata": {
        "id": "obQi6N4ZShdi",
        "colab_type": "text"
      },
      "source": [
        "This looks like overfitting. I should try  adding dropout for the densely connected layer."
      ]
    },
    {
      "cell_type": "markdown",
      "metadata": {
        "id": "he3Nw6TOJwjx",
        "colab_type": "text"
      },
      "source": [
        "## Print out validation loss and accuracy"
      ]
    },
    {
      "cell_type": "code",
      "metadata": {
        "id": "SVQtrk7uJdhl",
        "colab_type": "code",
        "colab": {}
      },
      "source": [
        "val_loss, val_acc = model.evaluate_generator(validation_generator, steps=50)"
      ],
      "execution_count": 0,
      "outputs": []
    },
    {
      "cell_type": "code",
      "metadata": {
        "id": "HpdddLi1SUMe",
        "colab_type": "code",
        "outputId": "b36e595c-d9f2-48bf-f210-e970828133f1",
        "colab": {
          "base_uri": "https://localhost:8080/",
          "height": 51
        }
      },
      "source": [
        "print(\"Validation loss:\", val_loss)\n",
        "print(\"Validation accuracy:\", val_acc)"
      ],
      "execution_count": 14,
      "outputs": [
        {
          "output_type": "stream",
          "text": [
            "Validation loss: 0.14030930399894714\n",
            "Validation accuracy: 0.9419999718666077\n"
          ],
          "name": "stdout"
        }
      ]
    },
    {
      "cell_type": "markdown",
      "metadata": {
        "id": "7Ww756WToby8",
        "colab_type": "text"
      },
      "source": [
        "## Save the model"
      ]
    },
    {
      "cell_type": "code",
      "metadata": {
        "id": "0lTUpUdwobKW",
        "colab_type": "code",
        "colab": {}
      },
      "source": [
        "model_fname = 'cats_and_dogs_small_4.h5' \n",
        "model.save(model_fname)"
      ],
      "execution_count": 0,
      "outputs": []
    },
    {
      "cell_type": "code",
      "metadata": {
        "id": "YhEoI8ZTok-X",
        "colab_type": "code",
        "colab": {
          "base_uri": "https://localhost:8080/",
          "height": 785
        },
        "outputId": "80c492df-7f9d-44d3-9d66-420b551217c6"
      },
      "source": [
        "from google.colab import files\n",
        "\n",
        "with open(model_fname, 'r') as f:\n",
        "  files.download(model_fname)"
      ],
      "execution_count": 16,
      "outputs": [
        {
          "output_type": "stream",
          "text": [
            "----------------------------------------\n",
            "Exception happened during processing of request from ('::ffff:127.0.0.1', 50456, 0, 0)\n",
            "Traceback (most recent call last):\n",
            "  File \"/usr/lib/python3.6/socketserver.py\", line 320, in _handle_request_noblock\n",
            "    self.process_request(request, client_address)\n",
            "  File \"/usr/lib/python3.6/socketserver.py\", line 351, in process_request\n",
            "    self.finish_request(request, client_address)\n",
            "  File \"/usr/lib/python3.6/socketserver.py\", line 364, in finish_request\n",
            "    self.RequestHandlerClass(request, client_address, self)\n",
            "  File \"/usr/lib/python3.6/socketserver.py\", line 724, in __init__\n",
            "    self.handle()\n",
            "  File \"/usr/lib/python3.6/http/server.py\", line 418, in handle\n",
            "    self.handle_one_request()\n",
            "  File \"/usr/lib/python3.6/http/server.py\", line 406, in handle_one_request\n",
            "    method()\n",
            "  File \"/usr/lib/python3.6/http/server.py\", line 639, in do_GET\n",
            "    self.copyfile(f, self.wfile)\n",
            "  File \"/usr/lib/python3.6/http/server.py\", line 800, in copyfile\n",
            "    shutil.copyfileobj(source, outputfile)\n",
            "  File \"/usr/lib/python3.6/shutil.py\", line 82, in copyfileobj\n",
            "    fdst.write(buf)\n",
            "  File \"/usr/lib/python3.6/socketserver.py\", line 803, in write\n",
            "    self._sock.sendall(b)\n",
            "ConnectionResetError: [Errno 104] Connection reset by peer\n",
            "----------------------------------------\n"
          ],
          "name": "stderr"
        },
        {
          "output_type": "error",
          "ename": "KeyboardInterrupt",
          "evalue": "ignored",
          "traceback": [
            "\u001b[0;31m---------------------------------------------------------------------------\u001b[0m",
            "\u001b[0;31mKeyboardInterrupt\u001b[0m                         Traceback (most recent call last)",
            "\u001b[0;32m<ipython-input-16-9a4221e8fa3a>\u001b[0m in \u001b[0;36m<module>\u001b[0;34m()\u001b[0m\n\u001b[1;32m      2\u001b[0m \u001b[0;34m\u001b[0m\u001b[0m\n\u001b[1;32m      3\u001b[0m \u001b[0;32mwith\u001b[0m \u001b[0mopen\u001b[0m\u001b[0;34m(\u001b[0m\u001b[0mmodel_fname\u001b[0m\u001b[0;34m,\u001b[0m \u001b[0;34m'r'\u001b[0m\u001b[0;34m)\u001b[0m \u001b[0;32mas\u001b[0m \u001b[0mf\u001b[0m\u001b[0;34m:\u001b[0m\u001b[0;34m\u001b[0m\u001b[0;34m\u001b[0m\u001b[0m\n\u001b[0;32m----> 4\u001b[0;31m   \u001b[0mfiles\u001b[0m\u001b[0;34m.\u001b[0m\u001b[0mdownload\u001b[0m\u001b[0;34m(\u001b[0m\u001b[0mmodel_fname\u001b[0m\u001b[0;34m)\u001b[0m\u001b[0;34m\u001b[0m\u001b[0;34m\u001b[0m\u001b[0m\n\u001b[0m",
            "\u001b[0;32m/usr/local/lib/python3.6/dist-packages/google/colab/files.py\u001b[0m in \u001b[0;36mdownload\u001b[0;34m(filename)\u001b[0m\n\u001b[1;32m    176\u001b[0m       \u001b[0;34m'port'\u001b[0m\u001b[0;34m:\u001b[0m \u001b[0mport\u001b[0m\u001b[0;34m,\u001b[0m\u001b[0;34m\u001b[0m\u001b[0;34m\u001b[0m\u001b[0m\n\u001b[1;32m    177\u001b[0m       \u001b[0;34m'path'\u001b[0m\u001b[0;34m:\u001b[0m \u001b[0m_os\u001b[0m\u001b[0;34m.\u001b[0m\u001b[0mpath\u001b[0m\u001b[0;34m.\u001b[0m\u001b[0mabspath\u001b[0m\u001b[0;34m(\u001b[0m\u001b[0mfilename\u001b[0m\u001b[0;34m)\u001b[0m\u001b[0;34m,\u001b[0m\u001b[0;34m\u001b[0m\u001b[0;34m\u001b[0m\u001b[0m\n\u001b[0;32m--> 178\u001b[0;31m       \u001b[0;34m'name'\u001b[0m\u001b[0;34m:\u001b[0m \u001b[0m_os\u001b[0m\u001b[0;34m.\u001b[0m\u001b[0mpath\u001b[0m\u001b[0;34m.\u001b[0m\u001b[0mbasename\u001b[0m\u001b[0;34m(\u001b[0m\u001b[0mfilename\u001b[0m\u001b[0;34m)\u001b[0m\u001b[0;34m,\u001b[0m\u001b[0;34m\u001b[0m\u001b[0;34m\u001b[0m\u001b[0m\n\u001b[0m\u001b[1;32m    179\u001b[0m   })\n",
            "\u001b[0;32m/usr/local/lib/python3.6/dist-packages/google/colab/output/_js.py\u001b[0m in \u001b[0;36meval_js\u001b[0;34m(script, ignore_result)\u001b[0m\n\u001b[1;32m     37\u001b[0m   \u001b[0;32mif\u001b[0m \u001b[0mignore_result\u001b[0m\u001b[0;34m:\u001b[0m\u001b[0;34m\u001b[0m\u001b[0;34m\u001b[0m\u001b[0m\n\u001b[1;32m     38\u001b[0m     \u001b[0;32mreturn\u001b[0m\u001b[0;34m\u001b[0m\u001b[0;34m\u001b[0m\u001b[0m\n\u001b[0;32m---> 39\u001b[0;31m   \u001b[0;32mreturn\u001b[0m \u001b[0m_message\u001b[0m\u001b[0;34m.\u001b[0m\u001b[0mread_reply_from_input\u001b[0m\u001b[0;34m(\u001b[0m\u001b[0mrequest_id\u001b[0m\u001b[0;34m)\u001b[0m\u001b[0;34m\u001b[0m\u001b[0;34m\u001b[0m\u001b[0m\n\u001b[0m\u001b[1;32m     40\u001b[0m \u001b[0;34m\u001b[0m\u001b[0m\n\u001b[1;32m     41\u001b[0m \u001b[0;34m\u001b[0m\u001b[0m\n",
            "\u001b[0;32m/usr/local/lib/python3.6/dist-packages/google/colab/_message.py\u001b[0m in \u001b[0;36mread_reply_from_input\u001b[0;34m(message_id, timeout_sec)\u001b[0m\n\u001b[1;32m     99\u001b[0m     \u001b[0mreply\u001b[0m \u001b[0;34m=\u001b[0m \u001b[0m_read_next_input_message\u001b[0m\u001b[0;34m(\u001b[0m\u001b[0;34m)\u001b[0m\u001b[0;34m\u001b[0m\u001b[0;34m\u001b[0m\u001b[0m\n\u001b[1;32m    100\u001b[0m     \u001b[0;32mif\u001b[0m \u001b[0mreply\u001b[0m \u001b[0;34m==\u001b[0m \u001b[0m_NOT_READY\u001b[0m \u001b[0;32mor\u001b[0m \u001b[0;32mnot\u001b[0m \u001b[0misinstance\u001b[0m\u001b[0;34m(\u001b[0m\u001b[0mreply\u001b[0m\u001b[0;34m,\u001b[0m \u001b[0mdict\u001b[0m\u001b[0;34m)\u001b[0m\u001b[0;34m:\u001b[0m\u001b[0;34m\u001b[0m\u001b[0;34m\u001b[0m\u001b[0m\n\u001b[0;32m--> 101\u001b[0;31m       \u001b[0mtime\u001b[0m\u001b[0;34m.\u001b[0m\u001b[0msleep\u001b[0m\u001b[0;34m(\u001b[0m\u001b[0;36m0.025\u001b[0m\u001b[0;34m)\u001b[0m\u001b[0;34m\u001b[0m\u001b[0;34m\u001b[0m\u001b[0m\n\u001b[0m\u001b[1;32m    102\u001b[0m       \u001b[0;32mcontinue\u001b[0m\u001b[0;34m\u001b[0m\u001b[0;34m\u001b[0m\u001b[0m\n\u001b[1;32m    103\u001b[0m     if (reply.get('type') == 'colab_reply' and\n",
            "\u001b[0;31mKeyboardInterrupt\u001b[0m: "
          ]
        }
      ]
    }
  ]
}