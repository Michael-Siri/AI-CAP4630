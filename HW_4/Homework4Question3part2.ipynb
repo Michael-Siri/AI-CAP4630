{
  "nbformat": 4,
  "nbformat_minor": 0,
  "metadata": {
    "colab": {
      "name": "Homework4Question3part2",
      "provenance": [],
      "collapsed_sections": [],
      "include_colab_link": true
    },
    "kernelspec": {
      "name": "python3",
      "display_name": "Python 3"
    },
    "accelerator": "GPU"
  },
  "cells": [
    {
      "cell_type": "markdown",
      "metadata": {
        "id": "view-in-github",
        "colab_type": "text"
      },
      "source": [
        "<a href=\"https://colab.research.google.com/github/Michael-Siri/AI-CAP4630/blob/master/HW_4/Homework4Question3part2.ipynb\" target=\"_parent\"><img src=\"https://colab.research.google.com/assets/colab-badge.svg\" alt=\"Open In Colab\"/></a>"
      ]
    },
    {
      "cell_type": "markdown",
      "metadata": {
        "id": "tc83uZ7Iw-gU",
        "colab_type": "text"
      },
      "source": [
        "# Homework 4 Question 3 part 2\n",
        "Xception, Added Layers and Drop out\n",
        "\n"
      ]
    },
    {
      "cell_type": "markdown",
      "metadata": {
        "id": "KSrgMJ5vKFzQ",
        "colab_type": "text"
      },
      "source": [
        "# Fine-tuning VGG16 "
      ]
    },
    {
      "cell_type": "markdown",
      "metadata": {
        "id": "TIW7bZaAK-Hf",
        "colab_type": "text"
      },
      "source": [
        "This is based on section 5.3 *Using a pretrained convnet* of the book *Deep learning with Python* by Francois Chollet. I have made several changes to the code. I use the data that is already provided by Google. I don't download the data from Kaggle as in the deep learning book."
      ]
    },
    {
      "cell_type": "markdown",
      "metadata": {
        "id": "nsBq__dVo2pj",
        "colab_type": "text"
      },
      "source": [
        "## Feature extraction"
      ]
    },
    {
      "cell_type": "markdown",
      "metadata": {
        "id": "0g6ETAM9o54M",
        "colab_type": "text"
      },
      "source": [
        "Feature extraction consists of using the representations learned by a previous network to extract interesting features from new samples. These features are then run through a new classifier, which is trained from scratch.\n",
        "\n",
        "We will use here the convolutional base of the VGG16 model to extract the features. We will feed these features to a densely connected classifier with dropout. We will fine-tune some layers."
      ]
    },
    {
      "cell_type": "markdown",
      "metadata": {
        "id": "BqIG8QHMLNOn",
        "colab_type": "text"
      },
      "source": [
        "## Download the data"
      ]
    },
    {
      "cell_type": "markdown",
      "metadata": {
        "id": "t3I1jd7cKV6_",
        "colab_type": "text"
      },
      "source": [
        "Download the example data, a zip. of 2,000 JPG pictures of cats and dogs and extract it locally in ```/tmp```.\n",
        "\n"
      ]
    },
    {
      "cell_type": "code",
      "metadata": {
        "id": "JWjprHEXJ5Qi",
        "colab_type": "code",
        "outputId": "a13d8604-f300-46ee-9870-e49db9026cb5",
        "colab": {
          "base_uri": "https://localhost:8080/",
          "height": 204
        }
      },
      "source": [
        "!wget --no-check-certificate \\\n",
        "    https://storage.googleapis.com/mledu-datasets/cats_and_dogs_filtered.zip \\\n",
        "    -O /tmp/cats_and_dogs_filtered.zip"
      ],
      "execution_count": 1,
      "outputs": [
        {
          "output_type": "stream",
          "text": [
            "--2020-04-21 18:58:29--  https://storage.googleapis.com/mledu-datasets/cats_and_dogs_filtered.zip\n",
            "Resolving storage.googleapis.com (storage.googleapis.com)... 74.125.133.128, 2a00:1450:400c:c09::80\n",
            "Connecting to storage.googleapis.com (storage.googleapis.com)|74.125.133.128|:443... connected.\n",
            "HTTP request sent, awaiting response... 200 OK\n",
            "Length: 68606236 (65M) [application/zip]\n",
            "Saving to: ‘/tmp/cats_and_dogs_filtered.zip’\n",
            "\n",
            "/tmp/cats_and_dogs_ 100%[===================>]  65.43M  84.8MB/s    in 0.8s    \n",
            "\n",
            "2020-04-21 18:58:30 (84.8 MB/s) - ‘/tmp/cats_and_dogs_filtered.zip’ saved [68606236/68606236]\n",
            "\n"
          ],
          "name": "stdout"
        }
      ]
    },
    {
      "cell_type": "code",
      "metadata": {
        "id": "WvoHtdA-K6Rw",
        "colab_type": "code",
        "colab": {}
      },
      "source": [
        "import os\n",
        "import zipfile\n",
        "\n",
        "local_zip = '/tmp/cats_and_dogs_filtered.zip'\n",
        "zip_ref = zipfile.ZipFile(local_zip, 'r')\n",
        "zip_ref.extractall('/tmp')\n",
        "zip_ref.close()"
      ],
      "execution_count": 0,
      "outputs": []
    },
    {
      "cell_type": "markdown",
      "metadata": {
        "id": "shZiOBnJMyy_",
        "colab_type": "text"
      },
      "source": [
        "Note that the data provided by Google does not have a test set."
      ]
    },
    {
      "cell_type": "code",
      "metadata": {
        "id": "dL8ikM89LlsH",
        "colab_type": "code",
        "colab": {}
      },
      "source": [
        "base_dir = '/tmp/cats_and_dogs_filtered'\n",
        "train_dir = os.path.join(base_dir, 'train')\n",
        "validation_dir = os.path.join(base_dir, 'validation')\n",
        "\n",
        "# Directory with our training cat pictures\n",
        "train_cats_dir = os.path.join(train_dir, 'cats')\n",
        "\n",
        "# Directory with our training dog pictures\n",
        "train_dogs_dir = os.path.join(train_dir, 'dogs')\n",
        "\n",
        "# Directory with our validation cat pictures\n",
        "validation_cats_dir = os.path.join(validation_dir, 'cats')\n",
        "\n",
        "# Directory with our validation dog pictures\n",
        "validation_dogs_dir = os.path.join(validation_dir, 'dogs')"
      ],
      "execution_count": 0,
      "outputs": []
    },
    {
      "cell_type": "markdown",
      "metadata": {
        "id": "inyP8bcdXnn-",
        "colab_type": "text"
      },
      "source": [
        "## Build network with VGG16 convolution base and custom densely connected layers"
      ]
    },
    {
      "cell_type": "markdown",
      "metadata": {
        "id": "kQ48W5T9rHWu",
        "colab_type": "text"
      },
      "source": [
        "### Load the convolutional base"
      ]
    },
    {
      "cell_type": "code",
      "metadata": {
        "id": "Y0FgtANCXm_H",
        "colab_type": "code",
        "outputId": "c022acc6-d4d0-4cb0-c267-8fe48102f445",
        "colab": {
          "base_uri": "https://localhost:8080/",
          "height": 68
        }
      },
      "source": [
        "from keras.applications import Xception\n",
        "\n",
        "conv_base = Xception(\n",
        "    weights='imagenet', \n",
        "    include_top=False, \n",
        "    input_shape=(150, 150, 3))\n",
        "\n",
        "# conv_base.summary()"
      ],
      "execution_count": 4,
      "outputs": [
        {
          "output_type": "stream",
          "text": [
            "Using TensorFlow backend.\n"
          ],
          "name": "stderr"
        },
        {
          "output_type": "stream",
          "text": [
            "Downloading data from https://github.com/fchollet/deep-learning-models/releases/download/v0.4/xception_weights_tf_dim_ordering_tf_kernels_notop.h5\n",
            "83689472/83683744 [==============================] - 3s 0us/step\n"
          ],
          "name": "stdout"
        }
      ]
    },
    {
      "cell_type": "markdown",
      "metadata": {
        "id": "D6OBHOO9q1ou",
        "colab_type": "text"
      },
      "source": [
        "### Freeze the convolutional base"
      ]
    },
    {
      "cell_type": "code",
      "metadata": {
        "id": "UleRo4Dpq6Ld",
        "colab_type": "code",
        "colab": {}
      },
      "source": [
        "conv_base.trainable = False"
      ],
      "execution_count": 0,
      "outputs": []
    },
    {
      "cell_type": "markdown",
      "metadata": {
        "id": "Qfx6PqhPrb7Q",
        "colab_type": "text"
      },
      "source": [
        "### Concatenate the convolutional base and densely connected layers"
      ]
    },
    {
      "cell_type": "code",
      "metadata": {
        "id": "qUpmocDAO3xm",
        "colab_type": "code",
        "colab": {}
      },
      "source": [
        "from keras import layers\n",
        "from keras import models\n",
        "from keras import optimizers\n",
        "\n",
        "#Added more layers and dropout\n",
        "\n",
        "model = models.Sequential()\n",
        "model.add(conv_base)\n",
        "model.add(layers.Flatten())\n",
        "model.add(layers.Dense(256, activation='relu'))\n",
        "model.add(layers.Dense(256, activation='relu'))\n",
        "\n",
        "model.add(layers.Dropout(0.1))\n",
        "model.add(layers.Dense(1, activation='sigmoid'))"
      ],
      "execution_count": 0,
      "outputs": []
    },
    {
      "cell_type": "code",
      "metadata": {
        "id": "Fh6gZSeAjF7c",
        "colab_type": "code",
        "outputId": "5722f6a2-2c56-44b3-99f6-2950d1e74c77",
        "colab": {
          "base_uri": "https://localhost:8080/",
          "height": 357
        }
      },
      "source": [
        "model.summary()"
      ],
      "execution_count": 7,
      "outputs": [
        {
          "output_type": "stream",
          "text": [
            "Model: \"sequential_1\"\n",
            "_________________________________________________________________\n",
            "Layer (type)                 Output Shape              Param #   \n",
            "=================================================================\n",
            "xception (Model)             (None, 5, 5, 2048)        20861480  \n",
            "_________________________________________________________________\n",
            "flatten_1 (Flatten)          (None, 51200)             0         \n",
            "_________________________________________________________________\n",
            "dense_1 (Dense)              (None, 256)               13107456  \n",
            "_________________________________________________________________\n",
            "dense_2 (Dense)              (None, 256)               65792     \n",
            "_________________________________________________________________\n",
            "dropout_1 (Dropout)          (None, 256)               0         \n",
            "_________________________________________________________________\n",
            "dense_3 (Dense)              (None, 1)                 257       \n",
            "=================================================================\n",
            "Total params: 34,034,985\n",
            "Trainable params: 13,173,505\n",
            "Non-trainable params: 20,861,480\n",
            "_________________________________________________________________\n"
          ],
          "name": "stdout"
        }
      ]
    },
    {
      "cell_type": "markdown",
      "metadata": {
        "id": "eZjBiddhi5Qj",
        "colab_type": "text"
      },
      "source": [
        "## Train the model end to end with frozen convolutional base"
      ]
    },
    {
      "cell_type": "code",
      "metadata": {
        "id": "tfAQlC2Oi41L",
        "colab_type": "code",
        "outputId": "0ebd252a-7914-4d9f-9f65-38b9bcb853c4",
        "colab": {
          "base_uri": "https://localhost:8080/",
          "height": 1000
        }
      },
      "source": [
        "from keras.preprocessing.image import ImageDataGenerator\n",
        "from keras import optimizers\n",
        "\n",
        "# data augmentation\n",
        "\n",
        "train_datagen = ImageDataGenerator(\n",
        "    rescale=1./255, \n",
        "    rotation_range=40,\n",
        "    width_shift_range=0.2,\n",
        "    height_shift_range=0.2,\n",
        "    shear_range=0.2,\n",
        "    zoom_range=0.2,\n",
        "    horizontal_flip=True,\n",
        "    fill_mode='nearest'\n",
        ")\n",
        "\n",
        "train_generator = train_datagen.flow_from_directory(\n",
        "    train_dir,\n",
        "    target_size=(150, 150),\n",
        "    batch_size=20,\n",
        "    class_mode='binary')\n",
        "\n",
        "validation_datagen = ImageDataGenerator(rescale=1./255)\n",
        "\n",
        "validation_generator = validation_datagen.flow_from_directory(\n",
        "    validation_dir,\n",
        "    target_size=(150, 150),\n",
        "    batch_size=20,\n",
        "    class_mode='binary')\n",
        "\n",
        "# compile model\n",
        "\n",
        "model.compile(\n",
        "    loss='binary_crossentropy', \n",
        "    optimizer=optimizers.RMSprop(lr=2e-5), \n",
        "    metrics=['acc'])\n",
        "\n",
        "# train\n",
        "\n",
        "history = model.fit_generator(\n",
        "    train_generator,\n",
        "    steps_per_epoch=100,\n",
        "    epochs=30,\n",
        "    validation_data=validation_generator,\n",
        "    validation_steps=50\n",
        ")"
      ],
      "execution_count": 8,
      "outputs": [
        {
          "output_type": "stream",
          "text": [
            "Found 2000 images belonging to 2 classes.\n",
            "Found 1000 images belonging to 2 classes.\n",
            "Epoch 1/30\n",
            "100/100 [==============================] - 29s 291ms/step - loss: 0.4642 - acc: 0.7625 - val_loss: 0.1918 - val_acc: 0.9610\n",
            "Epoch 2/30\n",
            "100/100 [==============================] - 20s 197ms/step - loss: 0.3788 - acc: 0.8140 - val_loss: 0.1301 - val_acc: 0.9490\n",
            "Epoch 3/30\n",
            "100/100 [==============================] - 20s 196ms/step - loss: 0.3335 - acc: 0.8425 - val_loss: 0.0321 - val_acc: 0.9650\n",
            "Epoch 4/30\n",
            "100/100 [==============================] - 20s 197ms/step - loss: 0.3533 - acc: 0.8315 - val_loss: 0.0045 - val_acc: 0.9600\n",
            "Epoch 5/30\n",
            "100/100 [==============================] - 20s 198ms/step - loss: 0.3422 - acc: 0.8450 - val_loss: 0.0111 - val_acc: 0.9660\n",
            "Epoch 6/30\n",
            "100/100 [==============================] - 20s 197ms/step - loss: 0.3299 - acc: 0.8510 - val_loss: 7.5015e-04 - val_acc: 0.9570\n",
            "Epoch 7/30\n",
            "100/100 [==============================] - 20s 195ms/step - loss: 0.3063 - acc: 0.8655 - val_loss: 0.1243 - val_acc: 0.9690\n",
            "Epoch 8/30\n",
            "100/100 [==============================] - 20s 197ms/step - loss: 0.3042 - acc: 0.8620 - val_loss: 0.0283 - val_acc: 0.9690\n",
            "Epoch 9/30\n",
            "100/100 [==============================] - 20s 196ms/step - loss: 0.2951 - acc: 0.8600 - val_loss: 0.1963 - val_acc: 0.9740\n",
            "Epoch 10/30\n",
            "100/100 [==============================] - 20s 197ms/step - loss: 0.3203 - acc: 0.8580 - val_loss: 0.0147 - val_acc: 0.9740\n",
            "Epoch 11/30\n",
            "100/100 [==============================] - 20s 196ms/step - loss: 0.3115 - acc: 0.8710 - val_loss: 8.0883e-04 - val_acc: 0.9720\n",
            "Epoch 12/30\n",
            "100/100 [==============================] - 20s 196ms/step - loss: 0.3152 - acc: 0.8630 - val_loss: 3.0094e-04 - val_acc: 0.9690\n",
            "Epoch 13/30\n",
            "100/100 [==============================] - 20s 197ms/step - loss: 0.3091 - acc: 0.8685 - val_loss: 0.0110 - val_acc: 0.9680\n",
            "Epoch 14/30\n",
            "100/100 [==============================] - 20s 199ms/step - loss: 0.3022 - acc: 0.8610 - val_loss: 0.0027 - val_acc: 0.9710\n",
            "Epoch 15/30\n",
            "100/100 [==============================] - 20s 198ms/step - loss: 0.2795 - acc: 0.8720 - val_loss: 0.0831 - val_acc: 0.9650\n",
            "Epoch 16/30\n",
            "100/100 [==============================] - 20s 195ms/step - loss: 0.2984 - acc: 0.8790 - val_loss: 0.0805 - val_acc: 0.9710\n",
            "Epoch 17/30\n",
            "100/100 [==============================] - 20s 196ms/step - loss: 0.2962 - acc: 0.8755 - val_loss: 0.4433 - val_acc: 0.9740\n",
            "Epoch 18/30\n",
            "100/100 [==============================] - 20s 196ms/step - loss: 0.2961 - acc: 0.8690 - val_loss: 0.0017 - val_acc: 0.9700\n",
            "Epoch 19/30\n",
            "100/100 [==============================] - 20s 196ms/step - loss: 0.2598 - acc: 0.8900 - val_loss: 0.0026 - val_acc: 0.9660\n",
            "Epoch 20/30\n",
            "100/100 [==============================] - 20s 195ms/step - loss: 0.2790 - acc: 0.8700 - val_loss: 0.3452 - val_acc: 0.9680\n",
            "Epoch 21/30\n",
            "100/100 [==============================] - 20s 198ms/step - loss: 0.2776 - acc: 0.8785 - val_loss: 4.6698e-04 - val_acc: 0.9720\n",
            "Epoch 22/30\n",
            "100/100 [==============================] - 20s 197ms/step - loss: 0.2842 - acc: 0.8880 - val_loss: 3.7524e-04 - val_acc: 0.9700\n",
            "Epoch 23/30\n",
            "100/100 [==============================] - 20s 196ms/step - loss: 0.2798 - acc: 0.8780 - val_loss: 0.0136 - val_acc: 0.9710\n",
            "Epoch 24/30\n",
            "100/100 [==============================] - 20s 195ms/step - loss: 0.3008 - acc: 0.8710 - val_loss: 0.1945 - val_acc: 0.9690\n",
            "Epoch 25/30\n",
            "100/100 [==============================] - 20s 196ms/step - loss: 0.2667 - acc: 0.8905 - val_loss: 0.1627 - val_acc: 0.9660\n",
            "Epoch 26/30\n",
            "100/100 [==============================] - 20s 196ms/step - loss: 0.2540 - acc: 0.8875 - val_loss: 0.0021 - val_acc: 0.9690\n",
            "Epoch 27/30\n",
            "100/100 [==============================] - 20s 196ms/step - loss: 0.2876 - acc: 0.8815 - val_loss: 0.1712 - val_acc: 0.9650\n",
            "Epoch 28/30\n",
            "100/100 [==============================] - 20s 195ms/step - loss: 0.2532 - acc: 0.8935 - val_loss: 0.0018 - val_acc: 0.9640\n",
            "Epoch 29/30\n",
            "100/100 [==============================] - 19s 194ms/step - loss: 0.2730 - acc: 0.8845 - val_loss: 0.7084 - val_acc: 0.9720\n",
            "Epoch 30/30\n",
            "100/100 [==============================] - 20s 195ms/step - loss: 0.2689 - acc: 0.8840 - val_loss: 1.3505e-04 - val_acc: 0.9720\n"
          ],
          "name": "stdout"
        }
      ]
    },
    {
      "cell_type": "markdown",
      "metadata": {
        "id": "xqRc_vHKc92U",
        "colab_type": "text"
      },
      "source": [
        "## Display curves of loss and accuracy during training"
      ]
    },
    {
      "cell_type": "code",
      "metadata": {
        "id": "ybWwdzz9bwuQ",
        "colab_type": "code",
        "outputId": "1d27d563-bd9a-46f3-f26f-ecc7a61d2baf",
        "colab": {
          "base_uri": "https://localhost:8080/",
          "height": 545
        }
      },
      "source": [
        "%matplotlib inline\n",
        "\n",
        "import matplotlib.pyplot as plt\n",
        "\n",
        "acc = history.history['acc']\n",
        "val_acc = history.history['val_acc']\n",
        "\n",
        "loss = history.history['loss']\n",
        "val_loss = history.history['val_loss']\n",
        "\n",
        "epochs = range(1, len(acc) + 1)\n",
        "\n",
        "# training and validation accuracy\n",
        "\n",
        "plt.plot(epochs, acc, 'bo', label='training acc')\n",
        "plt.plot(epochs, val_acc, 'b', label='validation acc')\n",
        "plt.title('training and validation accuracy')\n",
        "plt.legend()\n",
        "\n",
        "plt.figure()\n",
        "\n",
        "# training and validation loss\n",
        "\n",
        "plt.plot(epochs, loss, 'bo', label='training loss')\n",
        "plt.plot(epochs, val_loss, 'b', label='validation loss')\n",
        "plt.title('training and validation loss')\n",
        "plt.legend()\n",
        "\n",
        "plt.show()"
      ],
      "execution_count": 9,
      "outputs": [
        {
          "output_type": "display_data",
          "data": {
            "image/png": "[encoded data removed]",
            "text/plain": [
              "<Figure size 432x288 with 1 Axes>"
            ]
          },
          "metadata": {
            "tags": [],
            "needs_background": "light"
          }
        },
        {
          "output_type": "display_data",
          "data": {
            "image/png": "[encoded data removed]",
            "text/plain": [
              "<Figure size 432x288 with 1 Axes>"
            ]
          },
          "metadata": {
            "tags": [],
            "needs_background": "light"
          }
        }
      ]
    },
    {
      "cell_type": "markdown",
      "metadata": {
        "id": "lOWsxpey8lN0",
        "colab_type": "text"
      },
      "source": [
        "## Fine-tuning"
      ]
    },
    {
      "cell_type": "code",
      "metadata": {
        "id": "PwkVMx8N8qMw",
        "colab_type": "code",
        "colab": {}
      },
      "source": [
        "conv_base.trainable = True\n",
        "\n",
        "set_trainable = False\n",
        "for layer in conv_base.layers:\n",
        "  if layer.name == 'conv2d_4':\n",
        "    set_trainable = True\n",
        "  if set_trainable:\n",
        "    layer.trainable = True\n",
        "  else:\n",
        "    layer.trainable = False"
      ],
      "execution_count": 0,
      "outputs": []
    },
    {
      "cell_type": "code",
      "metadata": {
        "id": "DyN-J7rs9cvo",
        "colab_type": "code",
        "outputId": "1b2d235d-60ec-4884-a8d7-2bdd48a4100f",
        "colab": {
          "base_uri": "https://localhost:8080/",
          "height": 1000
        }
      },
      "source": [
        "# compile model\n",
        "\n",
        "model.compile(\n",
        "    loss='binary_crossentropy',\n",
        "    #\n",
        "    # choose a smaller learning rate\n",
        "    #\n",
        "    optimizer=optimizers.RMSprop(lr=1e-5), \n",
        "    metrics=['acc'])\n",
        "\n",
        "# train\n",
        "\n",
        "history = model.fit_generator(\n",
        "    train_generator,\n",
        "    steps_per_epoch=100,\n",
        "    epochs=100,\n",
        "    validation_data=validation_generator,\n",
        "    validation_steps=50)"
      ],
      "execution_count": 11,
      "outputs": [
        {
          "output_type": "stream",
          "text": [
            "Epoch 1/100\n",
            "100/100 [==============================] - 24s 245ms/step - loss: 0.2590 - acc: 0.8885 - val_loss: 0.0212 - val_acc: 0.9440\n",
            "Epoch 2/100\n",
            "100/100 [==============================] - 21s 206ms/step - loss: 0.2622 - acc: 0.9020 - val_loss: 0.6677 - val_acc: 0.9410\n",
            "Epoch 3/100\n",
            "100/100 [==============================] - 21s 206ms/step - loss: 0.2317 - acc: 0.9090 - val_loss: 0.1160 - val_acc: 0.9300\n",
            "Epoch 4/100\n",
            "100/100 [==============================] - 21s 206ms/step - loss: 0.2318 - acc: 0.9030 - val_loss: 0.2008 - val_acc: 0.9410\n",
            "Epoch 5/100\n",
            "100/100 [==============================] - 21s 206ms/step - loss: 0.2581 - acc: 0.8970 - val_loss: 0.1637 - val_acc: 0.9390\n",
            "Epoch 6/100\n",
            "100/100 [==============================] - 21s 207ms/step - loss: 0.2215 - acc: 0.9050 - val_loss: 0.2148 - val_acc: 0.9370\n",
            "Epoch 7/100\n",
            "100/100 [==============================] - 21s 205ms/step - loss: 0.2294 - acc: 0.8985 - val_loss: 0.1273 - val_acc: 0.9260\n",
            "Epoch 8/100\n",
            "100/100 [==============================] - 20s 204ms/step - loss: 0.2185 - acc: 0.9095 - val_loss: 0.1244 - val_acc: 0.9340\n",
            "Epoch 9/100\n",
            "100/100 [==============================] - 21s 205ms/step - loss: 0.2292 - acc: 0.9025 - val_loss: 0.3548 - val_acc: 0.9300\n",
            "Epoch 10/100\n",
            "100/100 [==============================] - 21s 206ms/step - loss: 0.2281 - acc: 0.9020 - val_loss: 0.0298 - val_acc: 0.9210\n",
            "Epoch 11/100\n",
            "100/100 [==============================] - 21s 209ms/step - loss: 0.2217 - acc: 0.9135 - val_loss: 0.4598 - val_acc: 0.9240\n",
            "Epoch 12/100\n",
            "100/100 [==============================] - 21s 208ms/step - loss: 0.1979 - acc: 0.9135 - val_loss: 0.2252 - val_acc: 0.9320\n",
            "Epoch 13/100\n",
            "100/100 [==============================] - 21s 209ms/step - loss: 0.2055 - acc: 0.9150 - val_loss: 0.3038 - val_acc: 0.9450\n",
            "Epoch 14/100\n",
            "100/100 [==============================] - 21s 209ms/step - loss: 0.2154 - acc: 0.9135 - val_loss: 0.2176 - val_acc: 0.9370\n",
            "Epoch 15/100\n",
            "100/100 [==============================] - 21s 210ms/step - loss: 0.2228 - acc: 0.9095 - val_loss: 0.1431 - val_acc: 0.9340\n",
            "Epoch 16/100\n",
            "100/100 [==============================] - 21s 211ms/step - loss: 0.2135 - acc: 0.9040 - val_loss: 0.2128 - val_acc: 0.9390\n",
            "Epoch 17/100\n",
            "100/100 [==============================] - 21s 210ms/step - loss: 0.2158 - acc: 0.9120 - val_loss: 0.0644 - val_acc: 0.9350\n",
            "Epoch 18/100\n",
            "100/100 [==============================] - 21s 206ms/step - loss: 0.1779 - acc: 0.9215 - val_loss: 0.0230 - val_acc: 0.9380\n",
            "Epoch 19/100\n",
            "100/100 [==============================] - 21s 205ms/step - loss: 0.1845 - acc: 0.9185 - val_loss: 0.1697 - val_acc: 0.9380\n",
            "Epoch 20/100\n",
            "100/100 [==============================] - 21s 206ms/step - loss: 0.2110 - acc: 0.9180 - val_loss: 0.3948 - val_acc: 0.9400\n",
            "Epoch 21/100\n",
            "100/100 [==============================] - 21s 206ms/step - loss: 0.1889 - acc: 0.9230 - val_loss: 0.1131 - val_acc: 0.9350\n",
            "Epoch 22/100\n",
            "100/100 [==============================] - 21s 206ms/step - loss: 0.1641 - acc: 0.9285 - val_loss: 0.2139 - val_acc: 0.9350\n",
            "Epoch 23/100\n",
            "100/100 [==============================] - 21s 207ms/step - loss: 0.1916 - acc: 0.9230 - val_loss: 0.3380 - val_acc: 0.9340\n",
            "Epoch 24/100\n",
            "100/100 [==============================] - 21s 206ms/step - loss: 0.1806 - acc: 0.9255 - val_loss: 0.4424 - val_acc: 0.9350\n",
            "Epoch 25/100\n",
            "100/100 [==============================] - 21s 209ms/step - loss: 0.2045 - acc: 0.9170 - val_loss: 0.0286 - val_acc: 0.9310\n",
            "Epoch 26/100\n",
            "100/100 [==============================] - 21s 208ms/step - loss: 0.1969 - acc: 0.9175 - val_loss: 0.3065 - val_acc: 0.9310\n",
            "Epoch 27/100\n",
            "100/100 [==============================] - 21s 209ms/step - loss: 0.1799 - acc: 0.9320 - val_loss: 0.2551 - val_acc: 0.9310\n",
            "Epoch 28/100\n",
            "100/100 [==============================] - 21s 207ms/step - loss: 0.1857 - acc: 0.9350 - val_loss: 0.0772 - val_acc: 0.9390\n",
            "Epoch 29/100\n",
            "100/100 [==============================] - 21s 205ms/step - loss: 0.1818 - acc: 0.9275 - val_loss: 0.0264 - val_acc: 0.9420\n",
            "Epoch 30/100\n",
            "100/100 [==============================] - 21s 206ms/step - loss: 0.1748 - acc: 0.9305 - val_loss: 0.3230 - val_acc: 0.9440\n",
            "Epoch 31/100\n",
            "100/100 [==============================] - 21s 208ms/step - loss: 0.2023 - acc: 0.9195 - val_loss: 0.2036 - val_acc: 0.9410\n",
            "Epoch 32/100\n",
            "100/100 [==============================] - 21s 208ms/step - loss: 0.1668 - acc: 0.9395 - val_loss: 0.1531 - val_acc: 0.9440\n",
            "Epoch 33/100\n",
            "100/100 [==============================] - 21s 210ms/step - loss: 0.1786 - acc: 0.9380 - val_loss: 0.2052 - val_acc: 0.9300\n",
            "Epoch 34/100\n",
            "100/100 [==============================] - 21s 210ms/step - loss: 0.1719 - acc: 0.9330 - val_loss: 0.0506 - val_acc: 0.9350\n",
            "Epoch 35/100\n",
            "100/100 [==============================] - 21s 208ms/step - loss: 0.1710 - acc: 0.9300 - val_loss: 0.0942 - val_acc: 0.9440\n",
            "Epoch 36/100\n",
            "100/100 [==============================] - 21s 210ms/step - loss: 0.1838 - acc: 0.9285 - val_loss: 0.0509 - val_acc: 0.9360\n",
            "Epoch 37/100\n",
            "100/100 [==============================] - 21s 208ms/step - loss: 0.1902 - acc: 0.9260 - val_loss: 0.0169 - val_acc: 0.9290\n",
            "Epoch 38/100\n",
            "100/100 [==============================] - 21s 208ms/step - loss: 0.1549 - acc: 0.9405 - val_loss: 0.1799 - val_acc: 0.9430\n",
            "Epoch 39/100\n",
            "100/100 [==============================] - 21s 210ms/step - loss: 0.1760 - acc: 0.9300 - val_loss: 0.1354 - val_acc: 0.9370\n",
            "Epoch 40/100\n",
            "100/100 [==============================] - 21s 208ms/step - loss: 0.1461 - acc: 0.9440 - val_loss: 0.1762 - val_acc: 0.9300\n",
            "Epoch 41/100\n",
            "100/100 [==============================] - 21s 207ms/step - loss: 0.1673 - acc: 0.9360 - val_loss: 0.0487 - val_acc: 0.9370\n",
            "Epoch 42/100\n",
            "100/100 [==============================] - 21s 207ms/step - loss: 0.1509 - acc: 0.9440 - val_loss: 0.0567 - val_acc: 0.9410\n",
            "Epoch 43/100\n",
            "100/100 [==============================] - 21s 208ms/step - loss: 0.1393 - acc: 0.9450 - val_loss: 0.2912 - val_acc: 0.9400\n",
            "Epoch 44/100\n",
            "100/100 [==============================] - 21s 207ms/step - loss: 0.1520 - acc: 0.9415 - val_loss: 0.0978 - val_acc: 0.9340\n",
            "Epoch 45/100\n",
            "100/100 [==============================] - 21s 208ms/step - loss: 0.1433 - acc: 0.9435 - val_loss: 0.0512 - val_acc: 0.9310\n",
            "Epoch 46/100\n",
            "100/100 [==============================] - 21s 210ms/step - loss: 0.1664 - acc: 0.9360 - val_loss: 0.2100 - val_acc: 0.9290\n",
            "Epoch 47/100\n",
            "100/100 [==============================] - 21s 207ms/step - loss: 0.1537 - acc: 0.9445 - val_loss: 0.0631 - val_acc: 0.9420\n",
            "Epoch 48/100\n",
            "100/100 [==============================] - 21s 207ms/step - loss: 0.1621 - acc: 0.9435 - val_loss: 0.0444 - val_acc: 0.9400\n",
            "Epoch 49/100\n",
            "100/100 [==============================] - 21s 206ms/step - loss: 0.1433 - acc: 0.9420 - val_loss: 0.4001 - val_acc: 0.9330\n",
            "Epoch 50/100\n",
            "100/100 [==============================] - 21s 206ms/step - loss: 0.1517 - acc: 0.9415 - val_loss: 0.0266 - val_acc: 0.9410\n",
            "Epoch 51/100\n",
            "100/100 [==============================] - 21s 206ms/step - loss: 0.1356 - acc: 0.9485 - val_loss: 0.2306 - val_acc: 0.9480\n",
            "Epoch 52/100\n",
            "100/100 [==============================] - 20s 203ms/step - loss: 0.1489 - acc: 0.9435 - val_loss: 0.0228 - val_acc: 0.9450\n",
            "Epoch 53/100\n",
            "100/100 [==============================] - 20s 203ms/step - loss: 0.1641 - acc: 0.9355 - val_loss: 0.0496 - val_acc: 0.9340\n",
            "Epoch 54/100\n",
            "100/100 [==============================] - 20s 204ms/step - loss: 0.1374 - acc: 0.9450 - val_loss: 0.1025 - val_acc: 0.9390\n",
            "Epoch 55/100\n",
            "100/100 [==============================] - 20s 203ms/step - loss: 0.1488 - acc: 0.9505 - val_loss: 0.0333 - val_acc: 0.9460\n",
            "Epoch 56/100\n",
            "100/100 [==============================] - 20s 204ms/step - loss: 0.1367 - acc: 0.9525 - val_loss: 0.8376 - val_acc: 0.9440\n",
            "Epoch 57/100\n",
            "100/100 [==============================] - 20s 204ms/step - loss: 0.1306 - acc: 0.9420 - val_loss: 0.1986 - val_acc: 0.9390\n",
            "Epoch 58/100\n",
            "100/100 [==============================] - 20s 203ms/step - loss: 0.1369 - acc: 0.9470 - val_loss: 0.1244 - val_acc: 0.9340\n",
            "Epoch 59/100\n",
            "100/100 [==============================] - 20s 202ms/step - loss: 0.1374 - acc: 0.9510 - val_loss: 0.0343 - val_acc: 0.9380\n",
            "Epoch 60/100\n",
            "100/100 [==============================] - 20s 204ms/step - loss: 0.1419 - acc: 0.9465 - val_loss: 0.0558 - val_acc: 0.9280\n",
            "Epoch 61/100\n",
            "100/100 [==============================] - 20s 203ms/step - loss: 0.1503 - acc: 0.9420 - val_loss: 0.2352 - val_acc: 0.9290\n",
            "Epoch 62/100\n",
            "100/100 [==============================] - 20s 203ms/step - loss: 0.1330 - acc: 0.9510 - val_loss: 0.8568 - val_acc: 0.9430\n",
            "Epoch 63/100\n",
            "100/100 [==============================] - 20s 202ms/step - loss: 0.1343 - acc: 0.9450 - val_loss: 0.0296 - val_acc: 0.9430\n",
            "Epoch 64/100\n",
            "100/100 [==============================] - 20s 204ms/step - loss: 0.1245 - acc: 0.9485 - val_loss: 0.0259 - val_acc: 0.9400\n",
            "Epoch 65/100\n",
            "100/100 [==============================] - 20s 202ms/step - loss: 0.1465 - acc: 0.9500 - val_loss: 0.0245 - val_acc: 0.9450\n",
            "Epoch 66/100\n",
            "100/100 [==============================] - 20s 205ms/step - loss: 0.1344 - acc: 0.9455 - val_loss: 0.0748 - val_acc: 0.9460\n",
            "Epoch 67/100\n",
            "100/100 [==============================] - 20s 203ms/step - loss: 0.1367 - acc: 0.9490 - val_loss: 0.1795 - val_acc: 0.9430\n",
            "Epoch 68/100\n",
            "100/100 [==============================] - 20s 202ms/step - loss: 0.1237 - acc: 0.9600 - val_loss: 0.2676 - val_acc: 0.9410\n",
            "Epoch 69/100\n",
            "100/100 [==============================] - 20s 204ms/step - loss: 0.1327 - acc: 0.9525 - val_loss: 0.1373 - val_acc: 0.9440\n",
            "Epoch 70/100\n",
            "100/100 [==============================] - 20s 202ms/step - loss: 0.1198 - acc: 0.9540 - val_loss: 0.2481 - val_acc: 0.9320\n",
            "Epoch 71/100\n",
            "100/100 [==============================] - 20s 202ms/step - loss: 0.1447 - acc: 0.9510 - val_loss: 0.0071 - val_acc: 0.9450\n",
            "Epoch 72/100\n",
            "100/100 [==============================] - 20s 200ms/step - loss: 0.1202 - acc: 0.9545 - val_loss: 0.4855 - val_acc: 0.9390\n",
            "Epoch 73/100\n",
            "100/100 [==============================] - 20s 200ms/step - loss: 0.1152 - acc: 0.9525 - val_loss: 0.0022 - val_acc: 0.9470\n",
            "Epoch 74/100\n",
            "100/100 [==============================] - 20s 202ms/step - loss: 0.1333 - acc: 0.9495 - val_loss: 0.1635 - val_acc: 0.9270\n",
            "Epoch 75/100\n",
            "100/100 [==============================] - 20s 202ms/step - loss: 0.1273 - acc: 0.9535 - val_loss: 1.0061 - val_acc: 0.9480\n",
            "Epoch 76/100\n",
            "100/100 [==============================] - 20s 201ms/step - loss: 0.1178 - acc: 0.9540 - val_loss: 0.0804 - val_acc: 0.9460\n",
            "Epoch 77/100\n",
            "100/100 [==============================] - 20s 201ms/step - loss: 0.1203 - acc: 0.9535 - val_loss: 0.2285 - val_acc: 0.9490\n",
            "Epoch 78/100\n",
            "100/100 [==============================] - 20s 202ms/step - loss: 0.1221 - acc: 0.9515 - val_loss: 0.0941 - val_acc: 0.9400\n",
            "Epoch 79/100\n",
            "100/100 [==============================] - 20s 200ms/step - loss: 0.1209 - acc: 0.9535 - val_loss: 0.4867 - val_acc: 0.9470\n",
            "Epoch 80/100\n",
            "100/100 [==============================] - 20s 201ms/step - loss: 0.1101 - acc: 0.9600 - val_loss: 0.2222 - val_acc: 0.9440\n",
            "Epoch 81/100\n",
            "100/100 [==============================] - 20s 204ms/step - loss: 0.1374 - acc: 0.9500 - val_loss: 0.3194 - val_acc: 0.9470\n",
            "Epoch 82/100\n",
            "100/100 [==============================] - 20s 201ms/step - loss: 0.1209 - acc: 0.9595 - val_loss: 0.0201 - val_acc: 0.9450\n",
            "Epoch 83/100\n",
            "100/100 [==============================] - 20s 202ms/step - loss: 0.1031 - acc: 0.9615 - val_loss: 0.3154 - val_acc: 0.9410\n",
            "Epoch 84/100\n",
            "100/100 [==============================] - 20s 201ms/step - loss: 0.1197 - acc: 0.9555 - val_loss: 0.0624 - val_acc: 0.9480\n",
            "Epoch 85/100\n",
            "100/100 [==============================] - 20s 201ms/step - loss: 0.1144 - acc: 0.9535 - val_loss: 0.3367 - val_acc: 0.9340\n",
            "Epoch 86/100\n",
            "100/100 [==============================] - 20s 201ms/step - loss: 0.1214 - acc: 0.9575 - val_loss: 0.0704 - val_acc: 0.9380\n",
            "Epoch 87/100\n",
            "100/100 [==============================] - 20s 201ms/step - loss: 0.1161 - acc: 0.9585 - val_loss: 0.4504 - val_acc: 0.9470\n",
            "Epoch 88/100\n",
            "100/100 [==============================] - 20s 200ms/step - loss: 0.1087 - acc: 0.9600 - val_loss: 0.0500 - val_acc: 0.9350\n",
            "Epoch 89/100\n",
            "100/100 [==============================] - 20s 198ms/step - loss: 0.1080 - acc: 0.9610 - val_loss: 0.0379 - val_acc: 0.9470\n",
            "Epoch 90/100\n",
            "100/100 [==============================] - 21s 214ms/step - loss: 0.1137 - acc: 0.9515 - val_loss: 0.2329 - val_acc: 0.9300\n",
            "Epoch 91/100\n",
            "100/100 [==============================] - 20s 202ms/step - loss: 0.1152 - acc: 0.9575 - val_loss: 0.1757 - val_acc: 0.9350\n",
            "Epoch 92/100\n",
            "100/100 [==============================] - 20s 201ms/step - loss: 0.1065 - acc: 0.9555 - val_loss: 0.0399 - val_acc: 0.9400\n",
            "Epoch 93/100\n",
            "100/100 [==============================] - 20s 201ms/step - loss: 0.0955 - acc: 0.9640 - val_loss: 0.2005 - val_acc: 0.9440\n",
            "Epoch 94/100\n",
            "100/100 [==============================] - 20s 201ms/step - loss: 0.1050 - acc: 0.9625 - val_loss: 0.1949 - val_acc: 0.9410\n",
            "Epoch 95/100\n",
            "100/100 [==============================] - 20s 202ms/step - loss: 0.0934 - acc: 0.9625 - val_loss: 0.2562 - val_acc: 0.9380\n",
            "Epoch 96/100\n",
            "100/100 [==============================] - 20s 202ms/step - loss: 0.0929 - acc: 0.9645 - val_loss: 0.7253 - val_acc: 0.9490\n",
            "Epoch 97/100\n",
            "100/100 [==============================] - 20s 200ms/step - loss: 0.0829 - acc: 0.9650 - val_loss: 0.3018 - val_acc: 0.9490\n",
            "Epoch 98/100\n",
            "100/100 [==============================] - 20s 197ms/step - loss: 0.1189 - acc: 0.9550 - val_loss: 0.1758 - val_acc: 0.9460\n",
            "Epoch 99/100\n",
            "100/100 [==============================] - 20s 198ms/step - loss: 0.1240 - acc: 0.9525 - val_loss: 0.2307 - val_acc: 0.9500\n",
            "Epoch 100/100\n",
            "100/100 [==============================] - 20s 197ms/step - loss: 0.1189 - acc: 0.9625 - val_loss: 0.0694 - val_acc: 0.9440\n"
          ],
          "name": "stdout"
        }
      ]
    },
    {
      "cell_type": "markdown",
      "metadata": {
        "id": "eVBQgh5M-Rtz",
        "colab_type": "text"
      },
      "source": [
        "## Display learning curves during fine-tuning"
      ]
    },
    {
      "cell_type": "code",
      "metadata": {
        "id": "mbkIw7Ie-NP4",
        "colab_type": "code",
        "colab": {
          "base_uri": "https://localhost:8080/",
          "height": 545
        },
        "outputId": "67af0095-e8a0-4c62-892e-7acb9a26f235"
      },
      "source": [
        "%matplotlib inline\n",
        "\n",
        "import matplotlib.pyplot as plt\n",
        "\n",
        "acc = history.history['acc']\n",
        "val_acc = history.history['val_acc']\n",
        "\n",
        "loss = history.history['loss']\n",
        "val_loss = history.history['val_loss']\n",
        "\n",
        "epochs = range(1, len(acc) + 1)\n",
        "\n",
        "# training and validation accuracy\n",
        "\n",
        "plt.plot(epochs, acc, 'bo', label='training acc')\n",
        "plt.plot(epochs, val_acc, 'b', label='validation acc')\n",
        "plt.title('training and validation accuracy')\n",
        "plt.legend()\n",
        "\n",
        "plt.figure()\n",
        "\n",
        "# training and validation loss\n",
        "\n",
        "plt.plot(epochs, loss, 'bo', label='training loss')\n",
        "plt.plot(epochs, val_loss, 'b', label='validation loss')\n",
        "plt.title('training and validation loss')\n",
        "plt.legend()\n",
        "\n",
        "plt.show()"
      ],
      "execution_count": 12,
      "outputs": [
        {
          "output_type": "display_data",
          "data": {
            "image/png": "[encoded data removed]",
            "text/plain": [
              "<Figure size 432x288 with 1 Axes>"
            ]
          },
          "metadata": {
            "tags": [],
            "needs_background": "light"
          }
        },
        {
          "output_type": "display_data",
          "data": {
            "image/png": "[encoded data removed]",
            "text/plain": [
              "<Figure size 432x288 with 1 Axes>"
            ]
          },
          "metadata": {
            "tags": [],
            "needs_background": "light"
          }
        }
      ]
    },
    {
      "cell_type": "markdown",
      "metadata": {
        "id": "obQi6N4ZShdi",
        "colab_type": "text"
      },
      "source": [
        "This looks like overfitting. I should try  adding dropout for the densely connected layer."
      ]
    },
    {
      "cell_type": "markdown",
      "metadata": {
        "id": "he3Nw6TOJwjx",
        "colab_type": "text"
      },
      "source": [
        "## Print out validation loss and accuracy"
      ]
    },
    {
      "cell_type": "code",
      "metadata": {
        "id": "SVQtrk7uJdhl",
        "colab_type": "code",
        "colab": {}
      },
      "source": [
        "val_loss, val_acc = model.evaluate_generator(validation_generator, steps=50)"
      ],
      "execution_count": 0,
      "outputs": []
    },
    {
      "cell_type": "code",
      "metadata": {
        "id": "HpdddLi1SUMe",
        "colab_type": "code",
        "colab": {
          "base_uri": "https://localhost:8080/",
          "height": 51
        },
        "outputId": "e03fa6ca-bb61-4a00-d194-f59b37915b01"
      },
      "source": [
        "print(\"Validation loss:\", val_loss)\n",
        "print(\"Validation accuracy:\", val_acc)"
      ],
      "execution_count": 14,
      "outputs": [
        {
          "output_type": "stream",
          "text": [
            "Validation loss: 0.15853483974933624\n",
            "Validation accuracy: 0.9440000057220459\n"
          ],
          "name": "stdout"
        }
      ]
    },
    {
      "cell_type": "markdown",
      "metadata": {
        "id": "7Ww756WToby8",
        "colab_type": "text"
      },
      "source": [
        "## Save the model"
      ]
    },
    {
      "cell_type": "code",
      "metadata": {
        "id": "0lTUpUdwobKW",
        "colab_type": "code",
        "colab": {}
      },
      "source": [
        "model_fname = 'cats_and_dogs_small_4.h5' \n",
        "model.save(model_fname)"
      ],
      "execution_count": 0,
      "outputs": []
    },
    {
      "cell_type": "code",
      "metadata": {
        "id": "YhEoI8ZTok-X",
        "colab_type": "code",
        "colab": {
          "base_uri": "https://localhost:8080/",
          "height": 442
        },
        "outputId": "9809e83f-d743-4bdc-fcc9-196f0f219ec4"
      },
      "source": [
        "from google.colab import files\n",
        "\n",
        "with open(model_fname, 'r') as f:\n",
        "  files.download(model_fname)"
      ],
      "execution_count": 0,
      "outputs": [
        {
          "output_type": "stream",
          "text": [
            "----------------------------------------\n",
            "Exception happened during processing of request from ('::ffff:127.0.0.1', 50216, 0, 0)\n",
            "Traceback (most recent call last):\n",
            "  File \"/usr/lib/python3.6/socketserver.py\", line 320, in _handle_request_noblock\n",
            "    self.process_request(request, client_address)\n",
            "  File \"/usr/lib/python3.6/socketserver.py\", line 351, in process_request\n",
            "    self.finish_request(request, client_address)\n",
            "  File \"/usr/lib/python3.6/socketserver.py\", line 364, in finish_request\n",
            "    self.RequestHandlerClass(request, client_address, self)\n",
            "  File \"/usr/lib/python3.6/socketserver.py\", line 724, in __init__\n",
            "    self.handle()\n",
            "  File \"/usr/lib/python3.6/http/server.py\", line 418, in handle\n",
            "    self.handle_one_request()\n",
            "  File \"/usr/lib/python3.6/http/server.py\", line 406, in handle_one_request\n",
            "    method()\n",
            "  File \"/usr/lib/python3.6/http/server.py\", line 639, in do_GET\n",
            "    self.copyfile(f, self.wfile)\n",
            "  File \"/usr/lib/python3.6/http/server.py\", line 800, in copyfile\n",
            "    shutil.copyfileobj(source, outputfile)\n",
            "  File \"/usr/lib/python3.6/shutil.py\", line 82, in copyfileobj\n",
            "    fdst.write(buf)\n",
            "  File \"/usr/lib/python3.6/socketserver.py\", line 803, in write\n",
            "    self._sock.sendall(b)\n",
            "ConnectionResetError: [Errno 104] Connection reset by peer\n",
            "----------------------------------------\n"
          ],
          "name": "stderr"
        }
      ]
    }
  ]
}